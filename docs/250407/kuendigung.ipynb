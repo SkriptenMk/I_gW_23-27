{
 "cells": [
  {
   "cell_type": "markdown",
   "metadata": {},
   "source": [
    "# Berechnungen zur Kündigungsfrist im Mietrecht"
   ]
  },
  {
   "cell_type": "markdown",
   "metadata": {},
   "source": [
    "Zur Berechnung der Kündigungsfristen im Mietrecht, muss ein Kalender zur\n",
    "Verfügung stehen, welcher die Feiertage und die Wochenenden kennt. Die\n",
    "`datetime` Library ist eine Python Standard Library. Mit ihr werden die\n",
    "Kalenderdaten inklusive der Wochentage zur Verfügung gestellt. In dieser Library\n",
    "nicht integriert sind die Feiertage. Diese müssen mit einer externen Library\n",
    "geladen werden. Die Library `holidays` stellt (unter anderem) die Feiertage in\n",
    "der Schweiz zur Verfügung. Sie berücksichtigt auch die kantonalen Feiertage.  \n",
    "Installiert wird die Library nach dem Starten einer Python Virtual Environment\n",
    "mit dem Befehl:\n",
    "\n",
    "```bash\n",
    "pip install holidays\n",
    "```"
   ]
  },
  {
   "cell_type": "code",
   "execution_count": null,
   "metadata": {},
   "outputs": [],
   "source": [
    "from datetime import date # Python standard library\n",
    "import holidays           # Third-party library"
   ]
  },
  {
   "cell_type": "markdown",
   "metadata": {},
   "source": [
    "## Kündigungsfristen im Mietrecht"
   ]
  },
  {
   "cell_type": "markdown",
   "metadata": {},
   "source": [
    "Art. 266c OR regelt die Kündigungsfrist von gemieteten Wohnungen. Die Frist\n",
    "beträgt drei Monate auf die ortsübliche Kündigungstermine.  \n",
    "Kündigungen sind Empfangsbedürftige Erklärungen. Das bedeutet, dass für die\n",
    "Berechnung der Fristen auf den Zeitpunkt des Empfangs der Kündigung abzustellen\n",
    "ist.\n",
    "\n",
    "Für die Berechnung, wann eine Kündigung spätestens der Schweizerischen Post\n",
    "übergeben werden muss, damit die Kündungsfrist eingehalten wird, müssen die\n",
    "ortsüblichen Kündigungstermine bekannt sein. Im Kanton Zürich ist dabei zu\n",
    "unterscheiden zwischen der Stadt Zürich und dem Rest des Kantons. In der Stadt\n",
    "Zürich sind 31. März und der 30. September, im Rest des Kantons der 31. März,\n",
    "der 30. Juni und der 30. September ordetnliche Kündigungstermine.\n",
    "Ausserdem muss die Zustellungsdauer\n",
    "der Post bekannt sein. Für eingeschriebene Briefe beträgt diese in der Regel 1\n",
    "Tag. "
   ]
  },
  {
   "cell_type": "markdown",
   "metadata": {},
   "source": []
  }
 ],
 "metadata": {
  "kernelspec": {
   "display_name": ".venv",
   "language": "python",
   "name": "python3"
  },
  "language_info": {
   "codemirror_mode": {
    "name": "ipython",
    "version": 3
   },
   "file_extension": ".py",
   "mimetype": "text/x-python",
   "name": "python",
   "nbconvert_exporter": "python",
   "pygments_lexer": "ipython3",
   "version": "3.13.1"
  }
 },
 "nbformat": 4,
 "nbformat_minor": 2
}
