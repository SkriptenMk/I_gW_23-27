{
 "cells": [
  {
   "cell_type": "markdown",
   "metadata": {},
   "source": [
    "# Berechnungen zur Kündigungsfrist im Mietrecht"
   ]
  },
  {
   "cell_type": "markdown",
   "metadata": {},
   "source": [
    "Zur Berechnung der Kündigungsfristen im Mietrecht, muss ein Kalender zur\n",
    "Verfügung stehen, welcher die Feiertage und die Wochenenden kennt. Die\n",
    "`datetime` Library ist eine Python Standard Library. Mit ihr werden die\n",
    "Kalenderdaten inklusive der Wochentage zur Verfügung gestellt. In dieser Library\n",
    "nicht integriert sind die Feiertage. Diese müssen mit einer externen Library\n",
    "geladen werden. Die Library `holidays` stellt (unter anderem) die Feiertage in\n",
    "der Schweiz zur Verfügung. Sie berücksichtigt auch die kantonalen Feiertage.  \n",
    "Installiert wird die Library nach dem Starten einer Python Virtual Environment\n",
    "mit dem Befehl:\n",
    "\n",
    "```bash\n",
    "pip install holidays\n",
    "```"
   ]
  },
  {
   "cell_type": "code",
   "execution_count": 1,
   "metadata": {},
   "outputs": [],
   "source": [
    "from datetime import date # Python standard library\n",
    "import holidays           # Third-party library\n"
   ]
  },
  {
   "cell_type": "markdown",
   "metadata": {},
   "source": []
  }
 ],
 "metadata": {
  "kernelspec": {
   "display_name": ".venv",
   "language": "python",
   "name": "python3"
  },
  "language_info": {
   "codemirror_mode": {
    "name": "ipython",
    "version": 3
   },
   "file_extension": ".py",
   "mimetype": "text/x-python",
   "name": "python",
   "nbconvert_exporter": "python",
   "pygments_lexer": "ipython3",
   "version": "3.13.1"
  }
 },
 "nbformat": 4,
 "nbformat_minor": 2
}
