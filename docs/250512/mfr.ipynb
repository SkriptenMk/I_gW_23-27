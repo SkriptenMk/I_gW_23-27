{
 "cells": [
  {
   "cell_type": "markdown",
   "id": "8a13ce94",
   "metadata": {},
   "source": [
    "# Mittelflussrechnung mit Python"
   ]
  },
  {
   "cell_type": "markdown",
   "id": "b403589b",
   "metadata": {},
   "source": [
    "Die Arbeit mit buchhalterischen Daten erfordert Hilfsmittel, um tabellarisch\n",
    "dargestellte Daten zu verarbeiten. *Die* Python Bibliothek für die Arbeit mit\n",
    "tabellarischen Daten ist [*pandas*](https://pandas.pydata.org/).  \n",
    "Die Bibliothek kann in der Python Virtual Environment mit dem Befehl\n",
    "\n",
    "```bash\n",
    "pip install pandas\n",
    "```\n",
    "\n",
    "installiert werden.\n",
    "\n",
    "Anschliessend wird die Bibliothek mit dem Befehl\n",
    "\n",
    "```python\n",
    "import pandas as pd\n",
    "```\n",
    "\n",
    "importiert."
   ]
  },
  {
   "cell_type": "markdown",
   "id": "0755e2db",
   "metadata": {},
   "source": [
    "## Darstellung der Abschlussrecnnungen in Python"
   ]
  },
  {
   "cell_type": "markdown",
   "id": "34565fe3",
   "metadata": {},
   "source": [
    "Die Daten werden am einfachsten in einer CSV-Datei bereitgestellt. Um die\n",
    "Vorgehensweise zu illustrieren, soll als erstes eine Bilanz erfasst werden. Dies\n",
    "kann entweder in in einem Texteditor direkt in einer CSV-Datei erfolgen oder in\n",
    "einem Tabellenkalkulationsprogramm (z.B. Excel) und anschliessend als CSV-Datei\n",
    "exportiert werden.\n",
    "\n",
    "Die CSV-Datei sollte die folgende Struktur haben:\n",
    "\n",
    "```csv\n",
    "Kontenklasse, Kontengruppe, Kontenuntergruppe, Konto, Betrag\n",
    "Aktiven, Umlaufvermögen, Flüssige Mittel, Kasse, 200\n",
    "```"
   ]
  },
  {
   "cell_type": "markdown",
   "id": "d17bb118",
   "metadata": {},
   "source": []
  }
 ],
 "metadata": {
  "language_info": {
   "name": "python"
  }
 },
 "nbformat": 4,
 "nbformat_minor": 5
}
