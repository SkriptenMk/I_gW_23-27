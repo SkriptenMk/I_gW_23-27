{
 "cells": [
  {
   "cell_type": "markdown",
   "id": "86e219dc",
   "metadata": {},
   "source": [
    "# Mittelfluss aus Investitionstätigkeit"
   ]
  },
  {
   "cell_type": "markdown",
   "id": "4fd34008",
   "metadata": {},
   "source": [
    "## Einlesen der erforderlichen Paket und Daten"
   ]
  },
  {
   "cell_type": "code",
   "execution_count": 1,
   "id": "d7774cf3",
   "metadata": {},
   "outputs": [],
   "source": [
    "import pandas as pd"
   ]
  },
  {
   "cell_type": "code",
   "execution_count": 26,
   "id": "00e4ba32",
   "metadata": {},
   "outputs": [],
   "source": [
    "df = pd.read_csv('data.csv', index_col=0)"
   ]
  },
  {
   "cell_type": "markdown",
   "id": "86aa02b5",
   "metadata": {},
   "source": [
    "## Rekonstruktion der Abschreibungen auf Mobilien"
   ]
  },
  {
   "cell_type": "code",
   "execution_count": 11,
   "id": "db34d509",
   "metadata": {},
   "outputs": [],
   "source": [
    "def _check_wb_mob(ledger: pd.DataFrame) -> bool:\n",
    "    wb_mob = ledger.index.intersection([1509, 1519, 1529, 1539, 1549])\n",
    "    \n",
    "    return len(wb_mob) > 0"
   ]
  },
  {
   "cell_type": "code",
   "execution_count": 15,
   "id": "f96688b9",
   "metadata": {},
   "outputs": [],
   "source": [
    "def _check_wb_immo(ledger: pd.DataFrame) -> bool:\n",
    "    wb_imm = ledger.index.intersection([1609])\n",
    "    \n",
    "    return len(wb_imm) > 0"
   ]
  },
  {
   "cell_type": "code",
   "execution_count": 28,
   "id": "f203cd35",
   "metadata": {},
   "outputs": [],
   "source": [
    "def _get_absch_mob_wb(ledger: pd.DataFrame) -> float:\n",
    "    konti = ledger.index.intersection([1509, 1519, 1529, 1539, 1549])\n",
    "    absch_mob = 0\n",
    "    for konto in konti:\n",
    "        absch_mob += ledger.loc[konto, 'Abschluss'] - ledger.loc[konto, 'Eroeffnung']\n",
    "    return absch_mob * -1  # Negativ, weil es eine Erhöhung des WB ist"
   ]
  },
  {
   "cell_type": "code",
   "execution_count": 31,
   "id": "3208049c",
   "metadata": {},
   "outputs": [],
   "source": [
    "def _get_absch_immo(ledger: pd.DataFrame) -> float:\n",
    "    absch = ledger.loc[6800, 'Abschluss'] * -1\n",
    "    absch_mob = _get_absch_mob_wb(ledger)\n",
    "    absch_immo = absch - absch_mob\n",
    "    return absch_immo"
   ]
  },
  {
   "cell_type": "code",
   "execution_count": 13,
   "id": "897aece5",
   "metadata": {},
   "outputs": [],
   "source": [
    "def _get_invest_mob(ledger: pd.DataFrame) -> float:\n",
    "    mob = ledger.index.intersection([1500, 1510, 1520, 1530, 1540])\n",
    "    invest_mob = 0\n",
    "    for m in mob:\n",
    "        invest_mob += ledger.loc[m, 'Abschluss'] - ledger.loc[m, 'Eroeffnung']\n",
    "        \n",
    "    return invest_mob"
   ]
  },
  {
   "cell_type": "code",
   "execution_count": 45,
   "id": "727d7fd7",
   "metadata": {},
   "outputs": [],
   "source": [
    "def _get_invest_immo(ledger: pd.DataFrame) -> float:\n",
    "    delta_immo = ledger.loc[1600, 'Abschluss'] - ledger.loc[1600, 'Eroeffnung']\n",
    "    absch_immo = _get_absch_immo(ledger)\n",
    "    if absch_immo ** 2 == delta_immo ** 2:\n",
    "        invest_immo = 0\n",
    "    else:\n",
    "        invest_immo = delta_immo - absch_mob * -1\n",
    "    return invest_immo\n",
    "    "
   ]
  },
  {
   "cell_type": "code",
   "execution_count": 46,
   "id": "67b61d1e",
   "metadata": {},
   "outputs": [
    {
     "data": {
      "text/plain": [
       "0"
      ]
     },
     "execution_count": 46,
     "metadata": {},
     "output_type": "execute_result"
    }
   ],
   "source": [
    "_get_invest_immo(ledger=df)"
   ]
  },
  {
   "cell_type": "code",
   "execution_count": 4,
   "id": "5bf19e8a",
   "metadata": {},
   "outputs": [],
   "source": [
    "absch_mob = 0\n",
    "if len(wb_mob) > 0:\n",
    "    for wb in wb_mob:\n",
    "        absch_mob += df.loc[wb, 'Abschluss'] - df.loc[wb, 'Eroeffnung']\n",
    "    "
   ]
  },
  {
   "cell_type": "code",
   "execution_count": 5,
   "id": "70dd85a6",
   "metadata": {},
   "outputs": [],
   "source": [
    "wb_immo = df.index.intersection([1609])\n"
   ]
  },
  {
   "cell_type": "code",
   "execution_count": 6,
   "id": "fed6bd0e",
   "metadata": {},
   "outputs": [],
   "source": [
    "absch = df.loc[6800, 'Abschluss']"
   ]
  },
  {
   "cell_type": "code",
   "execution_count": 7,
   "id": "7d7fb74b",
   "metadata": {},
   "outputs": [
    {
     "data": {
      "text/plain": [
       "np.float64(30.0)"
      ]
     },
     "execution_count": 7,
     "metadata": {},
     "output_type": "execute_result"
    }
   ],
   "source": [
    "absch_immo = absch_mob + absch\n",
    "absch_immo"
   ]
  },
  {
   "cell_type": "code",
   "execution_count": 8,
   "id": "be091e77",
   "metadata": {},
   "outputs": [],
   "source": [
    "mob = df.index.intersection([1500,1510,1520,1530,1540])"
   ]
  },
  {
   "cell_type": "code",
   "execution_count": 9,
   "id": "8c82e6d0",
   "metadata": {},
   "outputs": [
    {
     "data": {
      "text/plain": [
       "np.float64(20.0)"
      ]
     },
     "execution_count": 9,
     "metadata": {},
     "output_type": "execute_result"
    }
   ],
   "source": [
    "delta_mob = 0\n",
    "if len(mob) > 0:\n",
    "    for m in mob:\n",
    "        delta_mob += df.loc[m, 'Abschluss'] - df.loc[m, 'Eroeffnung']\n",
    "delta_mob"
   ]
  },
  {
   "cell_type": "code",
   "execution_count": 10,
   "id": "c7b1abae",
   "metadata": {},
   "outputs": [
    {
     "data": {
      "text/plain": [
       "np.float64(45.0)"
      ]
     },
     "execution_count": 10,
     "metadata": {},
     "output_type": "execute_result"
    }
   ],
   "source": [
    "absch_mob"
   ]
  },
  {
   "cell_type": "code",
   "execution_count": null,
   "id": "7cc33903",
   "metadata": {},
   "outputs": [],
   "source": []
  }
 ],
 "metadata": {
  "kernelspec": {
   "display_name": ".venv",
   "language": "python",
   "name": "python3"
  },
  "language_info": {
   "codemirror_mode": {
    "name": "ipython",
    "version": 3
   },
   "file_extension": ".py",
   "mimetype": "text/x-python",
   "name": "python",
   "nbconvert_exporter": "python",
   "pygments_lexer": "ipython3",
   "version": "3.13.1"
  }
 },
 "nbformat": 4,
 "nbformat_minor": 5
}
