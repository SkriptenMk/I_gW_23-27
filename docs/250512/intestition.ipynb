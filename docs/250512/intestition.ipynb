{
 "cells": [
  {
   "cell_type": "markdown",
   "id": "86e219dc",
   "metadata": {},
   "source": [
    "# Mittelfluss aus Investitionstätigkeit"
   ]
  },
  {
   "cell_type": "markdown",
   "id": "4fd34008",
   "metadata": {},
   "source": [
    "## Einlesen der erforderlichen Paket und Daten"
   ]
  },
  {
   "cell_type": "code",
   "execution_count": 1,
   "id": "d7774cf3",
   "metadata": {},
   "outputs": [],
   "source": [
    "import pandas as pd"
   ]
  },
  {
   "cell_type": "code",
   "execution_count": 2,
   "id": "00e4ba32",
   "metadata": {},
   "outputs": [],
   "source": [
    "df = pd.read_csv('data.csv', index_col=0)"
   ]
  },
  {
   "cell_type": "markdown",
   "id": "39a500c2",
   "metadata": {},
   "source": [
    "## Einschränkungen für die Berechnung\n",
    "\n",
    "Die meisten Schulaufgaben gehen von bloss zwei Positionen im Anlagevermögen aus:\n",
    "Mobilien und Immobilien. In der Realtität besteht das Anlagevermögen aus einer Vielzahl von\n",
    "Vermögnspositionen.\n",
    "\n",
    "Trotzdem werden in den vorliegenden Beispielen zur Vereinfachung nur die\n",
    "Positionen Mobilien und Immobilien betrachtet."
   ]
  },
  {
   "cell_type": "markdown",
   "id": "86aa02b5",
   "metadata": {},
   "source": [
    "## Rekonstruktion der Abschreibungen auf Mobilien"
   ]
  },
  {
   "cell_type": "markdown",
   "id": "bde72084",
   "metadata": {},
   "source": [
    "Um die erforderlichen Berechnungen zu planen, lohnt es sich, den Ablauf der\n",
    "Berechnungen in einem Flussdiagramm darzustellen."
   ]
  },
  {
   "cell_type": "code",
   "execution_count": 21,
   "id": "db34d509",
   "metadata": {},
   "outputs": [],
   "source": [
    "def _check_wb_mob(ledger: pd.DataFrame) -> bool:\n",
    "    wb_mob = ledger.index.intersection([1509, 1519, 1529, 1539, 1549])\n",
    "    \n",
    "    return len(wb_mob) > 0"
   ]
  },
  {
   "cell_type": "code",
   "execution_count": 22,
   "id": "f96688b9",
   "metadata": {},
   "outputs": [],
   "source": [
    "def _check_wb_immo(ledger: pd.DataFrame) -> bool:\n",
    "        \n",
    "    return 1609 in ledger.index"
   ]
  },
  {
   "cell_type": "code",
   "execution_count": 15,
   "id": "87368b26",
   "metadata": {},
   "outputs": [],
   "source": [
    "def _get_total_absch(ledger: pd.DataFrame) -> float:\n",
    "    \"\"\"\n",
    "    Get the total amount of Abschreibungen from the ledger.\n",
    "    \"\"\"\n",
    "    konti = [i for i in range(6800, 6900)]\n",
    "    total_absch = 0\n",
    "    for konto in konti:\n",
    "        if konto in ledger.index:\n",
    "            total_absch += ledger.loc[konto, 'Abschluss'] * -1\n",
    "    \n",
    "    return total_absch"
   ]
  },
  {
   "cell_type": "code",
   "execution_count": 24,
   "id": "cc952b0c",
   "metadata": {},
   "outputs": [],
   "source": [
    "def _get_delta_wb_mob(ledger: pd.DataFrame) -> float:\n",
    "    \"\"\"\n",
    "    Get the delta of the wb_mob from the ledger.\n",
    "    \"\"\"\n",
    "    wb_mob = ledger.index.intersection([1509, 1519, 1529, 1539, 1549])\n",
    "    \n",
    "    if len(wb_mob) == 0:\n",
    "        return 0\n",
    "    \n",
    "    delta_wb_mob = 0\n",
    "    for konto in wb_mob:\n",
    "        delta_wb_mob += ledger.loc[konto, 'Abschluss'] - ledger.loc[konto, 'Eroeffnung']\n",
    "    \n",
    "    return delta_wb_mob"
   ]
  },
  {
   "cell_type": "code",
   "execution_count": 17,
   "id": "c0a348bf",
   "metadata": {},
   "outputs": [],
   "source": [
    "def _get_delta_wb_immo(ledger: pd.DataFrame) -> float:\n",
    "    delta_wb_immo = ledger.loc[1609, 'Abschluss'] - ledger.loc[1609, 'Eroeffnung']\n",
    "    return delta_wb_immo"
   ]
  },
  {
   "cell_type": "code",
   "execution_count": 29,
   "id": "f0c89a26",
   "metadata": {},
   "outputs": [],
   "source": [
    "def _get_absch_mob(ledger: pd.DataFrame) -> float:\n",
    "    absch = _get_total_absch(ledger)    \n",
    " \n",
    "    if _check_wb_mob(ledger):\n",
    "        absch_mob = _get_delta_wb_mob(ledger)\n",
    "    else:\n",
    "        absch_mob =  absch - _get_delta_wb_immo(ledger)\n",
    "    return absch_mob"
   ]
  },
  {
   "cell_type": "code",
   "execution_count": 28,
   "id": "f203cd35",
   "metadata": {},
   "outputs": [],
   "source": [
    "def _get_absch_mob_wb(ledger: pd.DataFrame) -> float:\n",
    "    konti = ledger.index.intersection([1509, 1519, 1529, 1539, 1549])\n",
    "    absch_mob = 0\n",
    "    for konto in konti:\n",
    "        absch_mob += ledger.loc[konto, 'Abschluss'] - ledger.loc[konto, 'Eroeffnung']\n",
    "    return absch_mob * -1  # Negativ, weil es eine Erhöhung des WB ist"
   ]
  },
  {
   "cell_type": "code",
   "execution_count": 50,
   "id": "3208049c",
   "metadata": {},
   "outputs": [],
   "source": [
    "def _get_absch_immo(ledger: pd.DataFrame) -> float:\n",
    "    absch = ledger.loc[6800, 'Abschluss'] * -1\n",
    "    absch_mob = _get_absch_mob(ledger) * -1    \n",
    "    absch_immo = absch - absch_mob    \n",
    "    return absch_immo"
   ]
  },
  {
   "cell_type": "code",
   "execution_count": 33,
   "id": "897aece5",
   "metadata": {},
   "outputs": [],
   "source": [
    "def _get_invest_mob(ledger: pd.DataFrame) -> float:\n",
    "    mob = ledger.index.intersection([1500, 1510, 1520, 1530, 1540])\n",
    "    invest_mob = 0\n",
    "    for m in mob:\n",
    "        invest_mob += ledger.loc[m, 'Abschluss'] - ledger.loc[m, 'Eroeffnung']\n",
    "        \n",
    "    if not _check_wb_mob(ledger):\n",
    "        invest_mob += _get_absch_mob(ledger)\n",
    "        \n",
    "    return invest_mob"
   ]
  },
  {
   "cell_type": "code",
   "execution_count": 48,
   "id": "727d7fd7",
   "metadata": {},
   "outputs": [],
   "source": [
    "def _get_invest_immo(ledger: pd.DataFrame) -> float:\n",
    "    delta_immo = ledger.loc[1600, 'Abschluss'] - ledger.loc[1600, 'Eroeffnung']\n",
    "    \n",
    "    if not _check_wb_immo(ledger):\n",
    "        delta_immo += _get_absch_immo(ledger)\n",
    "    \n",
    "    return delta_immo"
   ]
  },
  {
   "cell_type": "code",
   "execution_count": 56,
   "id": "7cc33903",
   "metadata": {},
   "outputs": [],
   "source": [
    "def investitionsbereich(ledger: pd.DataFrame):\n",
    "    investitionen = {}\n",
    "    investitionen['Mobilien'] = _get_invest_mob(ledger)\n",
    "    investitionen['Immobilien'] = _get_invest_immo(ledger)\n",
    "    \n",
    "    breite = 50\n",
    "    titel = 'Mittelfluss aus Investitionen\\n\\n'\n",
    "    \n",
    "    for index, value in investitionen.items():\n",
    "        mitte = breite - len(index) -len(str(value))\n",
    "        breite_links = len(index) + mitte // 2\n",
    "        breite_rechts = len(str(value)) + mitte // 2\n",
    "        if breite_links + breite_rechts < breite:\n",
    "            breite_links += 1\n",
    "        titel += f\"{index:<{breite_links}}{value:>{breite_rechts}}\\n\"\n",
    "        \n",
    "    mitte = breite - len('Nettoinvestitionen') - len(str(investitionen['Mobilien'] + investitionen['Immobilien']))\n",
    "    breite_links = len('Nettoinvestitionen') + mitte // 2\n",
    "    breite_rechts = len(str(investitionen['Mobilien'] + investitionen['Immobilien'])) + mitte // 2\n",
    "    if breite_links + breite_rechts < breite:\n",
    "        breite_links += 1\n",
    "    inv = 'Nettoinvestitionen'\n",
    "    inv_zahl = str(investitionen['Mobilien'] + investitionen['Immobilien'])\n",
    "    titel += f\"{inv:<{breite_links}}{inv_zahl:>{breite_rechts}}\\n\"\n",
    "        \n",
    "    print(titel)\n",
    "    "
   ]
  },
  {
   "cell_type": "code",
   "execution_count": 57,
   "id": "5715180a",
   "metadata": {},
   "outputs": [
    {
     "name": "stdout",
     "output_type": "stream",
     "text": [
      "Mittelfluss aus Investitionen\n",
      "\n",
      "Mobilien                                      20.0\n",
      "Immobilien                                     0.0\n",
      "Nettoinvestitionen                            20.0\n",
      "\n"
     ]
    }
   ],
   "source": [
    "investitionsbereich(df)"
   ]
  },
  {
   "cell_type": "code",
   "execution_count": null,
   "id": "88f0e726",
   "metadata": {},
   "outputs": [],
   "source": []
  }
 ],
 "metadata": {
  "kernelspec": {
   "display_name": ".venv",
   "language": "python",
   "name": "python3"
  },
  "language_info": {
   "codemirror_mode": {
    "name": "ipython",
    "version": 3
   },
   "file_extension": ".py",
   "mimetype": "text/x-python",
   "name": "python",
   "nbconvert_exporter": "python",
   "pygments_lexer": "ipython3",
   "version": "3.13.1"
  }
 },
 "nbformat": 4,
 "nbformat_minor": 5
}
