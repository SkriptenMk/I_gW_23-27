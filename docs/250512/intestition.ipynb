{
 "cells": [
  {
   "cell_type": "markdown",
   "id": "86e219dc",
   "metadata": {},
   "source": [
    "# Mittelfluss aus Investitionstätigkeit"
   ]
  },
  {
   "cell_type": "markdown",
   "id": "4fd34008",
   "metadata": {},
   "source": [
    "## Einlesen der erforderlichen Paket und Daten"
   ]
  },
  {
   "cell_type": "code",
   "execution_count": 1,
   "id": "d7774cf3",
   "metadata": {},
   "outputs": [],
   "source": [
    "import pandas as pd"
   ]
  },
  {
   "cell_type": "code",
   "execution_count": 2,
   "id": "00e4ba32",
   "metadata": {},
   "outputs": [],
   "source": [
    "df = pd.read_csv('data.csv', index_col=0)"
   ]
  },
  {
   "cell_type": "markdown",
   "id": "86aa02b5",
   "metadata": {},
   "source": [
    "## Rekonstruktion der Abschreibungen auf Mobilien"
   ]
  },
  {
   "cell_type": "code",
   "execution_count": 9,
   "id": "1a13b8cb",
   "metadata": {},
   "outputs": [],
   "source": [
    "wb_mob = df.index.intersection([1509, 1519, 1529, 1539, 1549]) # gibt eine Liste tatsächlich existierender WB Konti zurück"
   ]
  },
  {
   "cell_type": "code",
   "execution_count": 14,
   "id": "5bf19e8a",
   "metadata": {},
   "outputs": [],
   "source": [
    "absch_mob = 0\n",
    "if len(wb_mob) > 0:\n",
    "    for wb in wb_mob:\n",
    "        absch_mob += df.loc[wb, 'Abschluss'] - df.loc[wb, 'Eroeffnung']\n",
    "    "
   ]
  },
  {
   "cell_type": "code",
   "execution_count": 15,
   "id": "70dd85a6",
   "metadata": {},
   "outputs": [],
   "source": [
    "wb_immo = df.index.intersection([1609])\n"
   ]
  },
  {
   "cell_type": "code",
   "execution_count": 17,
   "id": "fed6bd0e",
   "metadata": {},
   "outputs": [],
   "source": [
    "absch = df.loc[6800, 'Abschluss']"
   ]
  },
  {
   "cell_type": "code",
   "execution_count": 18,
   "id": "7d7fb74b",
   "metadata": {},
   "outputs": [
    {
     "data": {
      "text/plain": [
       "np.float64(30.0)"
      ]
     },
     "execution_count": 18,
     "metadata": {},
     "output_type": "execute_result"
    }
   ],
   "source": [
    "absch_immo = absch_mob + absch\n",
    "absch_immo"
   ]
  },
  {
   "cell_type": "code",
   "execution_count": null,
   "id": "be091e77",
   "metadata": {},
   "outputs": [],
   "source": []
  }
 ],
 "metadata": {
  "kernelspec": {
   "display_name": ".venv",
   "language": "python",
   "name": "python3"
  },
  "language_info": {
   "codemirror_mode": {
    "name": "ipython",
    "version": 3
   },
   "file_extension": ".py",
   "mimetype": "text/x-python",
   "name": "python",
   "nbconvert_exporter": "python",
   "pygments_lexer": "ipython3",
   "version": "3.13.1"
  }
 },
 "nbformat": 4,
 "nbformat_minor": 5
}
