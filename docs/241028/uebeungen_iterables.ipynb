{
 "cells": [
  {
   "cell_type": "markdown",
   "metadata": {},
   "source": [
    "# Anwendungsübungen zu Python Iterables"
   ]
  },
  {
   "cell_type": "markdown",
   "metadata": {},
   "source": [
    "## Python Listen\n",
    "\n",
    "Eine über das vorliegende Skript hinausgehende Anleitung zu Python Listen findet sich auf\n",
    "[Real Python](https://realpython.com/python-lists-tuples/)."
   ]
  },
  {
   "cell_type": "markdown",
   "metadata": {},
   "source": [
    "### Erstellen einer Liste mittels einer List Comprehension\n",
    "\n",
    "Erstellen Sie eine Python Liste, welche alle durch drei Teilbaren ganzen Zahlen zwischen 0 und 100 beinhaltet. Verwenden Sie dafür eine List Comprehension."
   ]
  },
  {
   "cell_type": "code",
   "execution_count": null,
   "metadata": {},
   "outputs": [],
   "source": [
    "# erstellen Sie hier die Liste durch_drei_teilbar"
   ]
  },
  {
   "cell_type": "markdown",
   "metadata": {},
   "source": [
    "### List Slicing\n",
    "\n",
    "Erstellen Sie eine neue Liste indem Sie von der vorher erstellten Liste die Elemente mit einem Index von mehr als 9 abschneiden. Welche Werte beinhaltet die neue Liste?"
   ]
  },
  {
   "cell_type": "code",
   "execution_count": 1,
   "metadata": {},
   "outputs": [],
   "source": [
    "# implementieren Sie hier Ihre Lösung"
   ]
  },
  {
   "cell_type": "markdown",
   "metadata": {},
   "source": [
    "Erstellen Sie eine weitere Liste, in welche die Elemente mit Index 3 bis und mit 5 der soeben erstellten Liste aufgenommen werden."
   ]
  },
  {
   "cell_type": "code",
   "execution_count": 2,
   "metadata": {},
   "outputs": [],
   "source": [
    "# implementieren Sie hier Ihre Lösung"
   ]
  },
  {
   "cell_type": "markdown",
   "metadata": {},
   "source": [
    "## Python Tuples"
   ]
  },
  {
   "cell_type": "markdown",
   "metadata": {},
   "source": [
    "### Erstellen eines Tuples\n",
    "\n",
    "Erstellen Sie ein Tuple, das die Namen von drei Städten enthält."
   ]
  },
  {
   "cell_type": "code",
   "execution_count": null,
   "metadata": {},
   "outputs": [],
   "source": [
    "# Erstellen Sie hier das Tuple städte"
   ]
  },
  {
   "cell_type": "markdown",
   "metadata": {},
   "source": [
    "### Zugriff auf Tuple-Elemente\n",
    "\n",
    "Greifen Sie auf das zweite Element des Tuples zu und geben Sie es aus."
   ]
  },
  {
   "cell_type": "code",
   "execution_count": null,
   "metadata": {},
   "outputs": [],
   "source": [
    "# Zugriff auf das zweite Element"
   ]
  },
  {
   "cell_type": "markdown",
   "metadata": {},
   "source": [
    "### Iterieren über ein Tuple\n",
    "\n",
    "Iterieren Sie über das Tuple der Städte und geben Sie jede Stadt in Großbuchstaben aus."
   ]
  },
  {
   "cell_type": "code",
   "execution_count": null,
   "metadata": {},
   "outputs": [],
   "source": [
    "# Iterieren über das Tuple"
   ]
  },
  {
   "cell_type": "markdown",
   "metadata": {},
   "source": [
    "## Python Dictionaries\n",
    "\n",
    "Eine über dieses Skript hinausgehende Anleitung zu Python Dictionaries findet sich auf \n",
    "[Real Python](https://realpython.com/python-dicts/)."
   ]
  },
  {
   "cell_type": "markdown",
   "metadata": {},
   "source": [
    "### Erstellen eines Dictionaries\n",
    "\n",
    "Erstellen Sie ein Dictionary, das die Namen von fünf Schülern als Schlüssel und ihre Noten in Mathematik als Werte enthält."
   ]
  },
  {
   "cell_type": "code",
   "execution_count": null,
   "metadata": {},
   "outputs": [],
   "source": [
    "# Erstellen Sie hier das Dictionary schueler_noten"
   ]
  },
  {
   "cell_type": "markdown",
   "metadata": {},
   "source": [
    "### Zugriff auf Dictionary-Werte\n",
    "\n",
    "Greifen Sie auf die Note von \"Clara\" zu und geben Sie diese aus."
   ]
  },
  {
   "cell_type": "code",
   "execution_count": null,
   "metadata": {},
   "outputs": [],
   "source": [
    "# Zugriff auf Claras Note"
   ]
  },
  {
   "cell_type": "markdown",
   "metadata": {},
   "source": [
    "### Hinzufügen eines neuen Eintrags\n",
    "\n",
    "Fügen Sie dem Dictionary einen neuen Schüler \"Felix\" mit der Note 4.8 hinzu."
   ]
  },
  {
   "cell_type": "code",
   "execution_count": null,
   "metadata": {},
   "outputs": [],
   "source": [
    "# Hinzufügen von Felix"
   ]
  }
 ],
 "metadata": {
  "kernelspec": {
   "display_name": "Python 3",
   "language": "python",
   "name": "python3"
  },
  "language_info": {
   "codemirror_mode": {
    "name": "ipython",
    "version": 3
   },
   "file_extension": ".py",
   "mimetype": "text/x-python",
   "name": "python",
   "nbconvert_exporter": "python",
   "pygments_lexer": "ipython3",
   "version": "3.13.0"
  }
 },
 "nbformat": 4,
 "nbformat_minor": 2
}
