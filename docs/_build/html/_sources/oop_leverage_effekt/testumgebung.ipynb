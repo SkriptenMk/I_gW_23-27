{
 "cells": [
  {
   "cell_type": "markdown",
   "metadata": {},
   "source": [
    "# Testumgebung für den Leverage Rechner"
   ]
  },
  {
   "cell_type": "code",
   "execution_count": 1,
   "metadata": {},
   "outputs": [],
   "source": [
    "import pandas as pd\n",
    "from bilanz import Bilanz\n",
    "from erfolgsrechnung import Erfolgsrechnung\n",
    "from unternehmen import Unternehmen"
   ]
  },
  {
   "cell_type": "markdown",
   "metadata": {},
   "source": [
    "## Testkonti"
   ]
  },
  {
   "cell_type": "code",
   "execution_count": 2,
   "metadata": {},
   "outputs": [],
   "source": [
    "aktiven = {\n",
    "    1000: ['Kasse',            2400],\n",
    "    1020: ['Bank',            12900],\n",
    "    1100: ['F L&L',           29600],\n",
    "    1200: ['Vorräte',          5300],\n",
    "    1500: ['Maschinen',       15800],\n",
    "    1510: ['Mobiliar',         7200],\n",
    "    1530: ['Fahrzeuge',       14000],\n",
    "    1540: ['Werkzeuge',        3400],\n",
    "    1600: ['Liegenschaften', 400000],\n",
    "}\n",
    "\n",
    "passiven = {\n",
    "    2000: ['V L&L',           37500],\n",
    "    2451: ['Hypothek',       200000],\n",
    "    2800: ['Eigenkapital',   249100],\n",
    "    2891: ['Jahresgewinn',     4000],    \n",
    "}\n",
    "\n",
    "aufwand = {\n",
    "    5000: ['Personalaufwand',          65000],\n",
    "    6000: ['Raumaufwand',              12000],\n",
    "    6500: ['Verwaltungsaufwand',        3000],\n",
    "    6600: ['Werbeaufwand',              4000],\n",
    "    6700: ['Übriger Betriebsaufwand',   6000],\n",
    "    6800: ['Abschreibungen',            5000],\n",
    "    6900: ['Zinsaufwand',               1000],\n",
    "    9200: ['Gewinn',                    4000],\n",
    "}\n",
    "\n",
    "ertrag = {\n",
    "    3400: ['Dienstleistungsertrag',   100000],\n",
    "}"
   ]
  },
  {
   "cell_type": "code",
   "execution_count": 2,
   "metadata": {},
   "outputs": [],
   "source": [
    "konti_dict = {\n",
    "    1000: ['Kasse',            2400],\n",
    "    1020: ['Bank',            12900],\n",
    "    1100: ['F L&L',           29600],\n",
    "    1200: ['Vorräte',          5300],\n",
    "    1500: ['Maschinen',       15800],\n",
    "    1510: ['Mobiliar',         7200],\n",
    "    1530: ['Fahrzeuge',       14000],\n",
    "    1540: ['Werkzeuge',        3400],\n",
    "    1600: ['Liegenschaften', 400000],\n",
    "\n",
    "    2000: ['V L&L',           37500],\n",
    "    2451: ['Hypothek',       200000],\n",
    "    2800: ['Eigenkapital',   249100],\n",
    "    2891: ['Jahresgewinn',     4000],    \n",
    "\n",
    "    5000: ['Personalaufwand',          65000],\n",
    "    6000: ['Raumaufwand',              12000],\n",
    "    6500: ['Verwaltungsaufwand',        3000],\n",
    "    6600: ['Werbeaufwand',              4000],\n",
    "    6700: ['Übriger Betriebsaufwand',   6000],\n",
    "    6800: ['Abschreibungen',            5000],\n",
    "    6900: ['Zinsaufwand',               1000],\n",
    "    9200: ['Gewinn',                    4000],\n",
    "\n",
    "    3400: ['Dienstleistungsertrag',   100000],\n",
    "}"
   ]
  },
  {
   "cell_type": "markdown",
   "metadata": {},
   "source": [
    "## Importiere Konti als pandas DataFrame"
   ]
  },
  {
   "cell_type": "code",
   "execution_count": 3,
   "metadata": {},
   "outputs": [
    {
     "data": {
      "text/html": [
       "<div>\n",
       "<style scoped>\n",
       "    .dataframe tbody tr th:only-of-type {\n",
       "        vertical-align: middle;\n",
       "    }\n",
       "\n",
       "    .dataframe tbody tr th {\n",
       "        vertical-align: top;\n",
       "    }\n",
       "\n",
       "    .dataframe thead th {\n",
       "        text-align: right;\n",
       "    }\n",
       "</style>\n",
       "<table border=\"1\" class=\"dataframe\">\n",
       "  <thead>\n",
       "    <tr style=\"text-align: right;\">\n",
       "      <th></th>\n",
       "      <th>Kto</th>\n",
       "      <th>Saldo</th>\n",
       "    </tr>\n",
       "    <tr>\n",
       "      <th>KtoNr</th>\n",
       "      <th></th>\n",
       "      <th></th>\n",
       "    </tr>\n",
       "  </thead>\n",
       "  <tbody>\n",
       "    <tr>\n",
       "      <th>1000</th>\n",
       "      <td>Kasse</td>\n",
       "      <td>2400</td>\n",
       "    </tr>\n",
       "    <tr>\n",
       "      <th>1020</th>\n",
       "      <td>Bank</td>\n",
       "      <td>12900</td>\n",
       "    </tr>\n",
       "    <tr>\n",
       "      <th>1100</th>\n",
       "      <td>F L&amp;L</td>\n",
       "      <td>29600</td>\n",
       "    </tr>\n",
       "    <tr>\n",
       "      <th>1200</th>\n",
       "      <td>Vorräte</td>\n",
       "      <td>5300</td>\n",
       "    </tr>\n",
       "    <tr>\n",
       "      <th>1500</th>\n",
       "      <td>Maschinen</td>\n",
       "      <td>15800</td>\n",
       "    </tr>\n",
       "  </tbody>\n",
       "</table>\n",
       "</div>"
      ],
      "text/plain": [
       "             Kto  Saldo\n",
       "KtoNr                  \n",
       "1000       Kasse   2400\n",
       "1020        Bank  12900\n",
       "1100       F L&L  29600\n",
       "1200     Vorräte   5300\n",
       "1500   Maschinen  15800"
      ]
     },
     "execution_count": 3,
     "metadata": {},
     "output_type": "execute_result"
    }
   ],
   "source": [
    "konti = pd.read_csv('konti.csv', index_col=0)\n",
    "konti.head()"
   ]
  },
  {
   "cell_type": "code",
   "execution_count": 4,
   "metadata": {},
   "outputs": [],
   "source": [
    "ug1 = Unternehmen('konti.csv')"
   ]
  },
  {
   "cell_type": "code",
   "execution_count": 5,
   "metadata": {},
   "outputs": [],
   "source": [
    "ug2 = Unternehmen(konti)"
   ]
  },
  {
   "cell_type": "code",
   "execution_count": 6,
   "metadata": {},
   "outputs": [],
   "source": [
    "ug3 = Unternehmen(konti_dict)"
   ]
  },
  {
   "cell_type": "code",
   "execution_count": 5,
   "metadata": {},
   "outputs": [],
   "source": [
    "ug1.save_data()"
   ]
  },
  {
   "cell_type": "code",
   "execution_count": null,
   "metadata": {},
   "outputs": [],
   "source": [
    "test_er.get_zinsaufwand()"
   ]
  },
  {
   "cell_type": "code",
   "execution_count": null,
   "metadata": {},
   "outputs": [],
   "source": [
    "test_er.get_erfolg()"
   ]
  },
  {
   "cell_type": "code",
   "execution_count": null,
   "metadata": {},
   "outputs": [],
   "source": []
  }
 ],
 "metadata": {
  "kernelspec": {
   "display_name": "venv",
   "language": "python",
   "name": "python3"
  },
  "language_info": {
   "codemirror_mode": {
    "name": "ipython",
    "version": 3
   },
   "file_extension": ".py",
   "mimetype": "text/x-python",
   "name": "python",
   "nbconvert_exporter": "python",
   "pygments_lexer": "ipython3",
   "version": "3.13.0"
  }
 },
 "nbformat": 4,
 "nbformat_minor": 2
}
