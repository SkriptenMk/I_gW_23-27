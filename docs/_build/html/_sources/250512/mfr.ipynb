{
 "cells": [
  {
   "cell_type": "markdown",
   "id": "8a13ce94",
   "metadata": {},
   "source": [
    "# Mittelflussrechnung mit Python"
   ]
  },
  {
   "cell_type": "markdown",
   "id": "b403589b",
   "metadata": {},
   "source": [
    "Die Arbeit mit buchhalterischen Daten erfordert Hilfsmittel, um tabellarisch\n",
    "dargestellte Daten zu verarbeiten. *Die* Python Bibliothek für die Arbeit mit\n",
    "tabellarischen Daten ist [*pandas*](https://pandas.pydata.org/).  \n",
    "Die Bibliothek kann in der Python Virtual Environment mit dem Befehl\n",
    "\n",
    "```bash\n",
    "pip install pandas\n",
    "```\n",
    "\n",
    "installiert werden.\n",
    "\n",
    "Anschliessend wird die Bibliothek mit dem Befehl\n",
    "\n",
    "```python\n",
    "import pandas as pd\n",
    "```\n",
    "\n",
    "in das Jupyter Notebook importiert."
   ]
  },
  {
   "cell_type": "markdown",
   "id": "0755e2db",
   "metadata": {},
   "source": [
    "## Darstellung der Abschlussrecnnungen in Python"
   ]
  },
  {
   "cell_type": "markdown",
   "id": "9dbbba43",
   "metadata": {},
   "source": [
    "### Aufbereitung der Daten"
   ]
  },
  {
   "cell_type": "markdown",
   "id": "217dba4d",
   "metadata": {},
   "source": [
    "Im schulischen Umfeld werden Abschlussrechnungen oft als T-Konto dargestellt.\n",
    "Damit die Daten in Python verarbeitet werden können, ist es am einfachsten, die\n",
    "Information in einen pandas DataFrame zu überführen. Wie das gemacht werden\n",
    "kann, soll das Beispiel der untenstehenden Bilanz zeigen."
   ]
  },
  {
   "cell_type": "markdown",
   "id": "99f34d3f",
   "metadata": {},
   "source": [
    "\n",
    "![Eröffnungsbilanz](eb.svg)"
   ]
  },
  {
   "cell_type": "markdown",
   "id": "20f96d11",
   "metadata": {},
   "source": [
    "Als Vorbereitung für den Import der Daten in ein pandas DataFrame werden die\n",
    "Daten der Bilanz in eine CSV-Datei übertragen. Die CSV-Datei besteht \n",
    "aus den Spalten 'Kontonummer', 'Kontoname' und 'Betrag'. Die Kontonummer dient\n",
    "der einfachen Gruppierung der Konten. Die Zuweisung der Kontonummern basiert auf\n",
    "dem \n",
    "[Schweizer Kontenrahmen\n",
    "KMU](https://www.kmu.admin.ch/dam/kmu/de/dokumente/savoir-pratique/Finances/240812%20Schulkontenrahmen%20VEB%20-%20DE.pdf.download.pdf/240812%20Schulkontenrahmen%20VEB%20-%20DE.pdf).\n",
    "\n",
    "Die obige Bilanz sieht als CSV-Datei folgendermassen aus:\n",
    "\n",
    "```csv\n",
    "Kontonummer,Kontoname,Betrag\n",
    "1000,Kasse,10\n",
    "1010,Post,13\n",
    "1020,Bankguthaben,2\n",
    "1100,FLL,40\n",
    "1109,WBForderungen,-4\n",
    "1200,Waren,70\n",
    "1510,Mobilien,50\n",
    "1519,WBMobilien,-20\n",
    "1600,Immobilien,350\n",
    "2000,VLL,45\n",
    "2100,Bankschuld,9\n",
    "2261,Dividende,5\n",
    "2451,Hypothek,210\n",
    "2800,Aktienkapital,220\n",
    "2950,Reserven,20\n",
    "2970,Gewinnvortrag,0\n",
    "```\n",
    "\n",
    "Beim Erstellen der CSV-Datei ist darauf zu achten, dass zwischen den Einträgen\n",
    "und den Kommata kein Leerzeichen steht. Andernfalls kann dies bei der\n",
    "Weiterverarbeitung zu Problemen führen.\n",
    "\n",
    "Die Datei steht [hier zum Download](eb.csv) bereit."
   ]
  },
  {
   "cell_type": "markdown",
   "id": "e3f9da08",
   "metadata": {},
   "source": [
    "Unter der Vorsaussetzung, dass die CSV-Datei im gleichen Verzeichnis liegt, wie\n",
    "das Jupyter Notebook, in dem die Daten verarbeitet werden, findet sich in der\n",
    "Zelle nach dem Import Statement für die pandas Bibliothek der Code, um die\n",
    "CSV-Datei in einen pandas DataFrame einzulesen."
   ]
  },
  {
   "cell_type": "code",
   "execution_count": 1,
   "id": "6cad9534",
   "metadata": {},
   "outputs": [],
   "source": [
    "import pandas as pd"
   ]
  },
  {
   "cell_type": "code",
   "execution_count": 2,
   "id": "ba911051",
   "metadata": {},
   "outputs": [],
   "source": [
    "# Die Eingaben können auch auf einer Zeile stehen (das hätte hier den Kommentar erschwert)\n",
    "eb = pd.read_csv('eb.csv',       # Pfad zur CSV-Datei -> hier nur der Dateiname, weil im gleichen Verzeichnis\n",
    "                 index_col=0     # Spalte 0 als Index verwenden (die Zwählweise ist 0-basiert)\n",
    "                 )"
   ]
  },
  {
   "cell_type": "markdown",
   "id": "31a17717",
   "metadata": {},
   "source": [
    "Um zu kontrollieren, ob die Daten korrekt eingelesen wurden, können die ersten\n",
    "fünf Zeilen des Dataframes mit dem Befehl `.head()` angezeigt werden."
   ]
  },
  {
   "cell_type": "code",
   "execution_count": 3,
   "id": "2031b6ea",
   "metadata": {},
   "outputs": [
    {
     "data": {
      "text/html": [
       "<div>\n",
       "<style scoped>\n",
       "    .dataframe tbody tr th:only-of-type {\n",
       "        vertical-align: middle;\n",
       "    }\n",
       "\n",
       "    .dataframe tbody tr th {\n",
       "        vertical-align: top;\n",
       "    }\n",
       "\n",
       "    .dataframe thead th {\n",
       "        text-align: right;\n",
       "    }\n",
       "</style>\n",
       "<table border=\"1\" class=\"dataframe\">\n",
       "  <thead>\n",
       "    <tr style=\"text-align: right;\">\n",
       "      <th></th>\n",
       "      <th>Kontoname</th>\n",
       "      <th>Betrag</th>\n",
       "    </tr>\n",
       "    <tr>\n",
       "      <th>Kontonummer</th>\n",
       "      <th></th>\n",
       "      <th></th>\n",
       "    </tr>\n",
       "  </thead>\n",
       "  <tbody>\n",
       "    <tr>\n",
       "      <th>1000</th>\n",
       "      <td>Kasse</td>\n",
       "      <td>10</td>\n",
       "    </tr>\n",
       "    <tr>\n",
       "      <th>1010</th>\n",
       "      <td>Post</td>\n",
       "      <td>13</td>\n",
       "    </tr>\n",
       "    <tr>\n",
       "      <th>1020</th>\n",
       "      <td>Bankguthaben</td>\n",
       "      <td>2</td>\n",
       "    </tr>\n",
       "    <tr>\n",
       "      <th>1100</th>\n",
       "      <td>FLL</td>\n",
       "      <td>40</td>\n",
       "    </tr>\n",
       "    <tr>\n",
       "      <th>1109</th>\n",
       "      <td>WBForderungen</td>\n",
       "      <td>-4</td>\n",
       "    </tr>\n",
       "  </tbody>\n",
       "</table>\n",
       "</div>"
      ],
      "text/plain": [
       "                 Kontoname  Betrag\n",
       "Kontonummer                       \n",
       "1000                 Kasse      10\n",
       "1010                  Post      13\n",
       "1020          Bankguthaben       2\n",
       "1100                   FLL      40\n",
       "1109         WBForderungen      -4"
      ]
     },
     "execution_count": 3,
     "metadata": {},
     "output_type": "execute_result"
    }
   ],
   "source": [
    "eb.head()  # Ausgabe der ersten 5 Zeilen der Tabelle (DataFrame)"
   ]
  },
  {
   "cell_type": "markdown",
   "id": "4312444b",
   "metadata": {},
   "source": [
    "### Arbeiten mit pandas: Ein einfaches Beispiel"
   ]
  },
  {
   "cell_type": "markdown",
   "id": "f47749cb",
   "metadata": {},
   "source": [
    "Das Prinzip für Berechnungen in einem DataFrame ist ähnlich, wie in Excel. Es\n",
    "werden die einzelnen Zellen bzw. Zellenbereiche adressiert und mit diesen\n",
    "Bereichen die gewünschten Berechnungen durchgeführt. Um Beispielsweise das Total\n",
    "der liquide Mittel zu berechnen, wird die Summe der Spalte 'Betrag' für den\n",
    "Bereich der Kontennummern 1000 bis (exklusiv) 1600 gebildet."
   ]
  },
  {
   "cell_type": "code",
   "execution_count": 6,
   "id": "0771b491",
   "metadata": {},
   "outputs": [
    {
     "name": "stdout",
     "output_type": "stream",
     "text": [
      "Die Summe der liquiden Mittel beträgt: 25\n"
     ]
    }
   ],
   "source": [
    "liquide_mittel = eb.loc[1000:1020, 'Betrag'].sum()\n",
    "print(f\"Die Summe der liquiden Mittel beträgt: {liquide_mittel}\")"
   ]
  },
  {
   "cell_type": "markdown",
   "id": "3e956cbb",
   "metadata": {},
   "source": [
    "Die Methode `.loc[]` ermöglicht den Zugriff auf die Zeilen und Spalten eines\n",
    "DataFrames. Der erste Parameter (im Beispiel 1000:1020) wählt die Zeilen mit den\n",
    "Kontonummern von 1000 bis 1020 aus - inklusive der beiden Grenzwerte 1000 und\n",
    "1020. Der zweite Parameter (im Beispiel 'Betrag') wählt die Spalte mit dem Titel\n",
    "Betrag aus. Die Methode `.sum()` berechnet die Summe der ausgewählten Werte. "
   ]
  },
  {
   "cell_type": "markdown",
   "id": "3d5192b9",
   "metadata": {},
   "source": [
    "### Vollständiger Datensatz"
   ]
  },
  {
   "cell_type": "markdown",
   "id": "242434ed",
   "metadata": {},
   "source": [
    "Neben der Eröffnungsbilanz wird für die Rekonstruktion der Mittelflussrechnung\n",
    "auch die Schlussbilanz und die Erfolgsrechnung benötigt. Diese können entweder\n",
    "in spearaten CSV-Dateien gespeichert werden und dann in einen DataFrame\n",
    "zusammengeführt werden, oder die Daten können in einer einzigen CSV-Datei\n",
    "gespeichert werden.\n",
    "\n",
    "In diesem Beispiel soll mit einer einzigen CSV-Datei gearbeitet werden.\n",
    "\n",
    "Die Erfolgsrechnung und die Schlussbilanz sehen folgendermassen aus:\n",
    "\n",
    "![Erfolgsrechnung](er.svg)\n",
    "\n",
    "\n",
    "![Schlussbilanz](sb.svg)"
   ]
  },
  {
   "cell_type": "markdown",
   "id": "dd8f2620",
   "metadata": {},
   "source": [
    "Zusammen mit der Eröffnungsbilanz ergibt sich aus den drei Rechnungen die\n",
    "folgende CSV-Datei:\n",
    "\n",
    "```csv\n",
    "Kontonummer,Kontoname,Eroeffnung,Abschluss\n",
    "1000,Kasse,10,5\n",
    "1010,Post,13,58\n",
    "1020,Bankguthaben,2,2\n",
    "1100,FLL,40,55\n",
    "1109,WBForderungen,-4,-5\n",
    "1200,Waren,70,55\n",
    "1510,Mobilien,50,70\n",
    "1519,WBMobilien,-20,25\n",
    "1600,Immobilien,350,340\n",
    "2000,VLL,45,33\n",
    "2100,Bankschuld,9,11\n",
    "2261,Dividende,5,10\n",
    "2300,PRA,2,3\n",
    "2451,Hypothek,210,200\n",
    "2800,Aktienkapital,220,270\n",
    "2950,Reserven,20,26\n",
    "2970,Gewinnvortrag,0,2\n",
    "3200,Warenertrag,,560\n",
    "4200,Warenaufwand,,-392\n",
    "5000,Personalaufwand,,-110\n",
    "6700,Sonstiger Betriebsufwand,,-20\n",
    "6800,Abschreibungen,,-15\n",
    "6900,Finanzaufwand,,-5\n",
    "```\n",
    "\n",
    "Für die Erföffnungs- bzw. Schlussbilanz wird je eine eingene Spalte angelegt.\n",
    "Die Zahlen der Erfolgsrechnung werden in die Spalte 'Abschluss' eingetragen.\n",
    "Die Spalte 'Eroeffnung' wird für die Erfolgsrechnung nicht benötigt und bleibt\n",
    "leer.\n",
    "\n",
    "Die Datei steht [hier zum Download](data.csv) bereit."
   ]
  },
  {
   "cell_type": "markdown",
   "id": "84d71cc9",
   "metadata": {},
   "source": [
    "Das Einlesen der CSV-Datei in einen pandas DataFrame erfolgt analog zum Einfürungsbeispiel."
   ]
  },
  {
   "cell_type": "code",
   "execution_count": 7,
   "id": "f90810ea",
   "metadata": {},
   "outputs": [
    {
     "data": {
      "text/html": [
       "<div>\n",
       "<style scoped>\n",
       "    .dataframe tbody tr th:only-of-type {\n",
       "        vertical-align: middle;\n",
       "    }\n",
       "\n",
       "    .dataframe tbody tr th {\n",
       "        vertical-align: top;\n",
       "    }\n",
       "\n",
       "    .dataframe thead th {\n",
       "        text-align: right;\n",
       "    }\n",
       "</style>\n",
       "<table border=\"1\" class=\"dataframe\">\n",
       "  <thead>\n",
       "    <tr style=\"text-align: right;\">\n",
       "      <th></th>\n",
       "      <th>Kontoname</th>\n",
       "      <th>Eroeffnung</th>\n",
       "      <th>Abschluss</th>\n",
       "    </tr>\n",
       "    <tr>\n",
       "      <th>Kontonummer</th>\n",
       "      <th></th>\n",
       "      <th></th>\n",
       "      <th></th>\n",
       "    </tr>\n",
       "  </thead>\n",
       "  <tbody>\n",
       "    <tr>\n",
       "      <th>1000</th>\n",
       "      <td>Kasse</td>\n",
       "      <td>10</td>\n",
       "      <td>5</td>\n",
       "    </tr>\n",
       "    <tr>\n",
       "      <th>1010</th>\n",
       "      <td>Post</td>\n",
       "      <td>13</td>\n",
       "      <td>58</td>\n",
       "    </tr>\n",
       "    <tr>\n",
       "      <th>1020</th>\n",
       "      <td>Bankguthaben</td>\n",
       "      <td>2</td>\n",
       "      <td>2</td>\n",
       "    </tr>\n",
       "    <tr>\n",
       "      <th>1100</th>\n",
       "      <td>FLL</td>\n",
       "      <td>40</td>\n",
       "      <td>55</td>\n",
       "    </tr>\n",
       "    <tr>\n",
       "      <th>1109</th>\n",
       "      <td>WBForderungen</td>\n",
       "      <td>-4</td>\n",
       "      <td>-5</td>\n",
       "    </tr>\n",
       "  </tbody>\n",
       "</table>\n",
       "</div>"
      ],
      "text/plain": [
       "                 Kontoname  Eroeffnung  Abschluss\n",
       "Kontonummer                                      \n",
       "1000                 Kasse          10          5\n",
       "1010                  Post          13         58\n",
       "1020          Bankguthaben           2          2\n",
       "1100                   FLL          40         55\n",
       "1109         WBForderungen          -4         -5"
      ]
     },
     "execution_count": 7,
     "metadata": {},
     "output_type": "execute_result"
    }
   ],
   "source": [
    "df = pd.read_csv('data.csv',                    # Pfad zur CSV-Datei\n",
    "                 index_col=0,                   # Spalte 0 als Index verwenden\n",
    "                 dtype={'Eroeffnung': 'Int64'}  # Spalte Eroeffnung als Int64 einlesen (ist nicht zwingend nötig)\n",
    "                 )\n",
    "df.head()"
   ]
  },
  {
   "cell_type": "markdown",
   "id": "49801752",
   "metadata": {},
   "source": [
    "Mit dem Befehl `df.tail()` können die letzten fünf Zeilen des DataFrames\n",
    "angezeigt werden."
   ]
  },
  {
   "cell_type": "code",
   "execution_count": 8,
   "id": "c0524de3",
   "metadata": {},
   "outputs": [
    {
     "data": {
      "text/html": [
       "<div>\n",
       "<style scoped>\n",
       "    .dataframe tbody tr th:only-of-type {\n",
       "        vertical-align: middle;\n",
       "    }\n",
       "\n",
       "    .dataframe tbody tr th {\n",
       "        vertical-align: top;\n",
       "    }\n",
       "\n",
       "    .dataframe thead th {\n",
       "        text-align: right;\n",
       "    }\n",
       "</style>\n",
       "<table border=\"1\" class=\"dataframe\">\n",
       "  <thead>\n",
       "    <tr style=\"text-align: right;\">\n",
       "      <th></th>\n",
       "      <th>Kontoname</th>\n",
       "      <th>Eroeffnung</th>\n",
       "      <th>Abschluss</th>\n",
       "    </tr>\n",
       "    <tr>\n",
       "      <th>Kontonummer</th>\n",
       "      <th></th>\n",
       "      <th></th>\n",
       "      <th></th>\n",
       "    </tr>\n",
       "  </thead>\n",
       "  <tbody>\n",
       "    <tr>\n",
       "      <th>2970</th>\n",
       "      <td>Gewinnvortrag</td>\n",
       "      <td>0</td>\n",
       "      <td>2</td>\n",
       "    </tr>\n",
       "    <tr>\n",
       "      <th>3200</th>\n",
       "      <td>Warenertrag</td>\n",
       "      <td>&lt;NA&gt;</td>\n",
       "      <td>560</td>\n",
       "    </tr>\n",
       "    <tr>\n",
       "      <th>4200</th>\n",
       "      <td>Warenaufwand</td>\n",
       "      <td>&lt;NA&gt;</td>\n",
       "      <td>-392</td>\n",
       "    </tr>\n",
       "    <tr>\n",
       "      <th>5000</th>\n",
       "      <td>Personalaufwand</td>\n",
       "      <td>&lt;NA&gt;</td>\n",
       "      <td>-110</td>\n",
       "    </tr>\n",
       "    <tr>\n",
       "      <th>6700</th>\n",
       "      <td>Sonstiger Betriebsufwand</td>\n",
       "      <td>&lt;NA&gt;</td>\n",
       "      <td>-20</td>\n",
       "    </tr>\n",
       "    <tr>\n",
       "      <th>6800</th>\n",
       "      <td>Abschreibungen</td>\n",
       "      <td>&lt;NA&gt;</td>\n",
       "      <td>-15</td>\n",
       "    </tr>\n",
       "    <tr>\n",
       "      <th>6900</th>\n",
       "      <td>Finanzaufwand</td>\n",
       "      <td>&lt;NA&gt;</td>\n",
       "      <td>-5</td>\n",
       "    </tr>\n",
       "  </tbody>\n",
       "</table>\n",
       "</div>"
      ],
      "text/plain": [
       "                            Kontoname  Eroeffnung  Abschluss\n",
       "Kontonummer                                                 \n",
       "2970                    Gewinnvortrag           0          2\n",
       "3200                      Warenertrag        <NA>        560\n",
       "4200                     Warenaufwand        <NA>       -392\n",
       "5000                  Personalaufwand        <NA>       -110\n",
       "6700         Sonstiger Betriebsufwand        <NA>        -20\n",
       "6800                   Abschreibungen        <NA>        -15\n",
       "6900                    Finanzaufwand        <NA>         -5"
      ]
     },
     "execution_count": 8,
     "metadata": {},
     "output_type": "execute_result"
    }
   ],
   "source": [
    "df.tail(7)  # Ausgabe der letzten 7 Zeilen der Tabelle (DataFrame)"
   ]
  },
  {
   "cell_type": "markdown",
   "id": "812bdf87",
   "metadata": {},
   "source": [
    "Die Angabe `<NA>` bedeutet, dass in dieser Zelle kein Wert vorhanden ist."
   ]
  },
  {
   "cell_type": "markdown",
   "id": "e1aa9974",
   "metadata": {},
   "source": [
    "Die so aufberetiteten Daten erlauben es, die Veränderung der liquiden Mittel zu berechnen."
   ]
  },
  {
   "cell_type": "code",
   "execution_count": 9,
   "id": "856624f9",
   "metadata": {},
   "outputs": [
    {
     "name": "stdout",
     "output_type": "stream",
     "text": [
      "Die Veränderung der liquiden Mittel beträgt: 40\n"
     ]
    }
   ],
   "source": [
    "veraenderung_liquide_mittel = df.loc[1000:1020, 'Abschluss'].sum() - df.loc[1000:1020, 'Eroeffnung'].sum()\n",
    "print(f\"Die Veränderung der liquiden Mittel beträgt: {veraenderung_liquide_mittel}\")"
   ]
  },
  {
   "cell_type": "markdown",
   "id": "bae15ebe",
   "metadata": {},
   "source": [
    "Um den Konventionen der Python Programmierung Rechnung zu tragen, ist die zweite\n",
    "Variante mit der Aufteilung in mehrere Schritte einfacher zu lesen."
   ]
  },
  {
   "cell_type": "code",
   "execution_count": 10,
   "id": "1d092c5c",
   "metadata": {},
   "outputs": [
    {
     "name": "stdout",
     "output_type": "stream",
     "text": [
      "Die Veränderung der liquiden Mittel beträgt: 40\n"
     ]
    }
   ],
   "source": [
    "lm0 = df.loc[1000:1059]['Eroeffnung'].sum()    # Summe der liquiden Mittel der Eröffnungsbilanz\n",
    "lm1 = df.loc[1000:1059]['Abschluss'].sum()     # Summe der liquiden Mittel der Abschlussbilanz\n",
    "delta_lm = lm1 - lm0                           # Veränderung der liquiden Mittel\n",
    "print(f\"Die Veränderung der liquiden Mittel beträgt: {delta_lm}\")"
   ]
  },
  {
   "cell_type": "markdown",
   "id": "f9634f3a",
   "metadata": {},
   "source": [
    "## Mittelflussrechnung"
   ]
  },
  {
   "cell_type": "markdown",
   "id": "7978f297",
   "metadata": {},
   "source": [
    "### Cashflow aus der Betriebstätigkeit"
   ]
  },
  {
   "cell_type": "markdown",
   "id": "3fc1174f",
   "metadata": {},
   "source": [
    "Die Berechnung des Cash Flows aus betrieblicher Tätigkeit nach der indirekten\n",
    "Methode erfolgt nach der folgenden 'Formel':\n",
    "\n",
    "$\\pm$  Jahresgewinn ($+$) oder Jahresverlust ($-$)  \n",
    "$\\pm$  Abschreibungen/Wertberichtigungen ($+$) und Zuschreibungen ($-$) auf Positionen des Anlagevermögens  \n",
    "$\\pm$  Bildung ($+$) und Auflösung ($-$) von Rückstellungen  \n",
    "$\\pm$  Wertminderung ($+$) und Werterhöhung ($-$) kurzfristig gehaltener Aktiven mit Börsenkurs  \n",
    "$\\pm$  Abnahme ($+$) oder Zunahme ($-$) Forderungen aus Lieferungen und Leistungen  \n",
    "$\\pm$  Abnahme ($+$) oder Zunahme ($-$) kurzfristiger Forderungen  \n",
    "$\\pm$  Abnahme ($+$) und Zunahme ($-$) Vorräte und nicht fakturierte Dienstleistungen  \n",
    "$\\pm$  Abnahme ($+$) und Zunahme ($-$) aktive Rechnungsabgrenzungen  \n",
    "$\\pm$  Zunahme ($+$) und Abnahme ($-$) Verbindlichkeiten aus Lieferungen und Leistungen  \n",
    "$\\pm$  Zunahme ($+$) und Abnahme ($-$) kurzfristige Verbindlichkeiten  \n",
    "$\\pm$  Zunahme ($+$) und Abnahme ($-$) passive Rechnungsabgrenzungen  \n",
    "$\\pm$  Verluste ($+$) und Gewinne ($-$) aus Veräusserungen von Sachanlagen  \n",
    "$\\pm$  Sonstige nicht fondswirksame Aufwände ($+$) und Erträge ($-$)  "
   ]
  },
  {
   "cell_type": "markdown",
   "id": "30b78a69",
   "metadata": {},
   "source": [
    "In der folgenden Zelle sind die einzelnen Zeilen der 'Formel' einer Variabel zuzuweisen."
   ]
  },
  {
   "cell_type": "code",
   "execution_count": null,
   "id": "f7a29474",
   "metadata": {},
   "outputs": [],
   "source": [
    "jahresgewinn    = df.loc[3000:8900]['Abschluss'].sum()\n",
    "abschreibungen  = df.loc[6800:6899]['Abschluss'].sum() * -1\n",
    "rueckstellungen = ((df.loc[2330:2399]['Abschluss'].sum()  + \n",
    "                    df.loc[2600:2799]['Abschluss'].sum()) - \n",
    "                   (df.loc[2330:2399]['Eroeffnung'].sum() +\n",
    "                    df.loc[2600:2799]['Eroeffnung'].sum()))\n",
    "delta_liquide_ws= (df.loc[1060:1069]['Abschluss'].sum() -\n",
    "                   df.loc[1060:1069]['Eroeffnung'].sum())\n",
    "delta_fll       = (df.loc[1100:1109]['Abschluss'].sum() -\n",
    "                   df.loc[1100:1109]['Eroeffnung'].sum())\n",
    "delta_kf_ford   = (df.loc[1140:1199]['Abschluss'].sum() -\n",
    "                   df.loc[1140:1199]['Eroeffnung'].sum())\n",
    "delta_vorrat    = (df.loc[1200:1299]['Abschluss'].sum() -\n",
    "                   df.loc[1200:1299]['Eroeffnung'].sum())\n",
    "delta_ara       = (df.loc[1300:1399]['Abschluss'].sum() -\n",
    "                   df.loc[1300:1399]['Eroeffnung'].sum())\n",
    "delta_vll       = (df.loc[2000:2099]['Abschluss'].sum() -\n",
    "                   df.loc[2000:2099]['Eroeffnung'].sum())\n",
    "delta_ue_verb   = ((df.loc[2200:2210]['Abschluss'].sum() -\n",
    "                   df.loc[2200:2210]['Eroeffnung'].sum()) +\n",
    "                    (df.loc[2270:2279]['Abschluss'].sum() -\n",
    "                   df.loc[2270:2279]['Eroeffnung'].sum()))\n",
    "delta_pra       = (df.loc[2300:2399]['Abschluss'].sum() -\n",
    "                   df.loc[2300:2399]['Eroeffnung'].sum())\n",
    "delta_rest      = (df.loc[8000:8999]['Abschluss'].sum() -\n",
    "                   df.loc[8000:8999]['Eroeffnung'].sum()) * -1"
   ]
  },
  {
   "cell_type": "code",
   "execution_count": null,
   "id": "2697f123",
   "metadata": {},
   "outputs": [],
   "source": [
    "print(f'Jahresgewinn: {jahresgewinn}')\n",
    "print(f'Abschreibungen: {abschreibungen}')\n",
    "print(f'Rückstellungen: {rueckstellungen}')\n",
    "print(f'FLL: {delta_fll}')\n",
    "print(f'Liquide WS: {delta_liquide_ws}')\n",
    "print(f'Vorräte: {delta_vorrat}')\n",
    "print(f'ARA: {delta_ara}')\n",
    "print(f'VLL: {delta_vll}')\n",
    "print(f'Übrige Verbindlichkeiten: {delta_ue_verb}')\n",
    "print(f'PRA: {delta_pra}')\n",
    "print(f'Rest: {delta_rest}')"
   ]
  },
  {
   "cell_type": "markdown",
   "id": "ed43a6b6",
   "metadata": {},
   "source": [
    "Die Berechnung des Cash Flows aus den obigen Teilresultaten erfolgt in der\n",
    "folgenden Zelle."
   ]
  },
  {
   "cell_type": "code",
   "execution_count": null,
   "id": "2c199306",
   "metadata": {},
   "outputs": [],
   "source": [
    "cash_flow = (jahresgewinn +\n",
    "             abschreibungen + \n",
    "             rueckstellungen - \n",
    "             delta_fll - \n",
    "             delta_liquide_ws -\n",
    "             delta_kf_ford -\n",
    "             delta_vorrat - \n",
    "             delta_ara + \n",
    "             delta_vll + \n",
    "             delta_ue_verb +\n",
    "             delta_pra +\n",
    "             delta_rest\n",
    "             )\n",
    "print(f\"Der Cashflow beträgt: {cash_flow}\")"
   ]
  },
  {
   "cell_type": "markdown",
   "id": "d18b9361",
   "metadata": {},
   "source": [
    "### Formatierung der Ausgabe"
   ]
  },
  {
   "cell_type": "markdown",
   "id": "0c4d2c7d",
   "metadata": {},
   "source": [
    "Das Resutlat kann mit hilfe der verschiedenen Formatierungsbefehele für Strings\n",
    "noch anschaulicher dargestellt werden."
   ]
  },
  {
   "cell_type": "code",
   "execution_count": null,
   "id": "0d5611ee",
   "metadata": {},
   "outputs": [],
   "source": [
    "positionen = {}\n",
    "jahresgewinn    = df.loc[3000:8900]['Abschluss'].sum()\n",
    "positionen['Jahresgewinn'] = jahresgewinn\n",
    "abschreibungen  = df.loc[6800:6899]['Abschluss'].sum() * -1\n",
    "positionen['Abschreibungen'] = abschreibungen\n",
    "rueckstellungen = ((df.loc[2330:2399]['Abschluss'].sum()  + \n",
    "                    df.loc[2600:2799]['Abschluss'].sum()) - \n",
    "                   (df.loc[2330:2399]['Eroeffnung'].sum() +\n",
    "                    df.loc[2600:2799]['Eroeffnung'].sum())) * -1\n",
    "positionen['Rückstellungen'] = rueckstellungen\n",
    "delta_liquide_ws= (df.loc[1060:1069]['Eroeffnung'].sum() -\n",
    "                   df.loc[1060:1069]['Abschluss'].sum())\n",
    "positionen['Liquide WS'] = delta_liquide_ws\n",
    "delta_fll       = (df.loc[1100:1109]['Eroeffnung'].sum() -\n",
    "                   df.loc[1100:1109]['Abschluss'].sum())\n",
    "positionen['Veränderung FLL'] = delta_fll\n",
    "delta_kf_ford   = (df.loc[1140:1199]['Eroeffnung'].sum() -\n",
    "                   df.loc[1140:1199]['Abschluss'].sum())\n",
    "positionen['Veränderung übrige kf Forderungen'] = delta_kf_ford\n",
    "delta_vorrat    = (df.loc[1200:1299]['Eroeffnung'].sum() -\n",
    "                   df.loc[1200:1299]['Abschluss'].sum())\n",
    "positionen['Veränderung Vorräte'] = delta_vorrat\n",
    "delta_ara       = (df.loc[1300:1399]['Eroeffnung'].sum() -\n",
    "                   df.loc[1300:1399]['Abschluss'].sum())\n",
    "positionen['Veränderung ARA'] = delta_ara\n",
    "delta_vll       = (df.loc[2000:2099]['Abschluss'].sum() -\n",
    "                   df.loc[2000:2099]['Eroeffnung'].sum())\n",
    "positionen['Veränderung VLL'] = delta_vll\n",
    "delta_ue_verb   = ((df.loc[2200:2210]['Abschluss'].sum() -\n",
    "                   df.loc[2200:2210]['Eroeffnung'].sum()) +\n",
    "                    (df.loc[2270:2279]['Abschluss'].sum() -\n",
    "                   df.loc[2270:2279]['Eroeffnung'].sum()))       \n",
    "positionen['Veränderung übrige Verbindlichkeiten'] = delta_ue_verb\n",
    "delta_pra       = (df.loc[2300:2399]['Abschluss'].sum() -\n",
    "                   df.loc[2300:2399]['Eroeffnung'].sum())\n",
    "positionen['Veränderung PRA'] = delta_pra\n",
    "delta_rest      = (df.loc[8000:8999]['Abschluss'].sum() -\n",
    "                   df.loc[8000:8999]['Eroeffnung'].sum()) * -1\n",
    "positionen['Veränderung übriger Fondsfremder Erfolg'] = delta_rest"
   ]
  },
  {
   "cell_type": "code",
   "execution_count": null,
   "id": "7ef97c9f",
   "metadata": {},
   "outputs": [],
   "source": [
    "cash_flow = (jahresgewinn +\n",
    "             abschreibungen + \n",
    "             rueckstellungen + \n",
    "             delta_fll + \n",
    "             delta_liquide_ws +\n",
    "             delta_kf_ford +\n",
    "             delta_vorrat + \n",
    "             delta_ara + \n",
    "             delta_vll + \n",
    "             delta_ue_verb +\n",
    "             delta_pra +\n",
    "             delta_rest\n",
    "             )"
   ]
  },
  {
   "cell_type": "code",
   "execution_count": null,
   "id": "270b5864",
   "metadata": {},
   "outputs": [],
   "source": [
    "breite = 50\n",
    "titel = 'Indirekte Berechnung des Cash Flows\\n'\n",
    "for index, value in positionen.items():\n",
    "    if value != 0:\n",
    "        mitte = breite - len(index) - len(str(value))\n",
    "        breite_links = len(index) + mitte // 2\n",
    "        breite_rechts = len(str(value)) + mitte // 2\n",
    "        if breite_links + breite_rechts < breite:\n",
    "            breite_links += 1\n",
    "        titel += f\"{index:<{breite_links}}{value:>{breite_rechts}}\\n\"\n",
    "    \n",
    "mitte = breite - len('Cashflow') - len(str(cash_flow))\n",
    "breite_links = len('Cashflow') + mitte // 2 \n",
    "breite_rechts = len(str(cash_flow)) + mitte // 2\n",
    "if breite_links + breite_rechts < breite:\n",
    "    breite_links += 1\n",
    "cf = 'Cash Flow'\n",
    "cf_zahl = str(cash_flow)\n",
    "resultat = f'{cf:<{breite_links}}{cf_zahl:>{breite_rechts}}'\n",
    "titel += resultat\n",
    "    \n",
    "print(titel)"
   ]
  },
  {
   "cell_type": "markdown",
   "id": "477fe083",
   "metadata": {},
   "source": [
    "### Mittelfluss aus Investitionstätigkeit"
   ]
  },
  {
   "cell_type": "markdown",
   "id": "23cc1c93",
   "metadata": {},
   "source": [
    "Für die Berechnung des Mittelfusses aus Investitionstätigkeit kann nach der\n",
    "folgenden 'Formel' vorgegangen werden:\n",
    "\n",
    "$–$ Investitionen in Finanzanlagen  \n",
    "$+$ Devestitionen von Finanzanlagen  \n",
    "$–$ Investitionen in Beteiligungen  \n",
    "$+$ Devestitionen von Beteiligungen  \n",
    "$–$ Investitionen in mobile Sachanlagen  \n",
    "$+$ Devestitionen von mobilen Sachanlagen  \n",
    "$–$ Investitionen in immobile Sachanlagen  \n",
    "$+$ Devestitionen von immobilen Sachanlagen  \n",
    "$–$ Investitionen in immaterielle Werte  \n",
    "$+$ Devestitionen von immateriellen Werten  "
   ]
  }
 ],
 "metadata": {
  "kernelspec": {
   "display_name": ".venv",
   "language": "python",
   "name": "python3"
  },
  "language_info": {
   "codemirror_mode": {
    "name": "ipython",
    "version": 3
   },
   "file_extension": ".py",
   "mimetype": "text/x-python",
   "name": "python",
   "nbconvert_exporter": "python",
   "pygments_lexer": "ipython3",
   "version": "3.13.1"
  },
  "widgets": {
   "application/vnd.jupyter.widget-state+json": {
    "state": {},
    "version_major": 2,
    "version_minor": 0
   }
  }
 },
 "nbformat": 4,
 "nbformat_minor": 5
}
