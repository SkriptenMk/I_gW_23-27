{
 "cells": [
  {
   "cell_type": "markdown",
   "metadata": {},
   "source": [
    "# Musterlösungen"
   ]
  },
  {
   "cell_type": "markdown",
   "metadata": {},
   "source": [
    "Zur Berechnung der Kündigungsfristen im Mietrecht, muss ein Kalender zur\n",
    "Verfügung stehen, welcher die Feiertage und die Wochenenden kennt. Die\n",
    "`datetime` Library ist eine Python Standard Library. Mit ihr werden die\n",
    "Kalenderdaten inklusive der Wochentage zur Verfügung gestellt. In dieser Library\n",
    "nicht integriert sind die Feiertage. Diese müssen mit einer externen Library\n",
    "geladen werden. Die Library `holidays` stellt (unter anderem) die Feiertage in\n",
    "der Schweiz zur Verfügung. Sie berücksichtigt auch die kantonalen Feiertage.  \n",
    "Installiert wird die Library nach dem Starten einer Python Virtual Environment\n",
    "mit dem Befehl (auf Google Colab ist die Library bereits installiert und dieser\n",
    "Schritt daher nicht nötig):\n",
    "\n",
    "```bash\n",
    "pip install holidays\n",
    "```\n",
    "\n",
    "Eine Anleitung für die Verwendung der Library `holidays` wird durch die\n",
    "[Dokumentation](https://holidays.readthedocs.io/en/latest/#)\n",
    "zur Verfügung gestellt."
   ]
  },
  {
   "cell_type": "code",
   "execution_count": 1,
   "metadata": {},
   "outputs": [],
   "source": [
    "import datetime           # Python standard library\n",
    "import holidays           # Third-party library"
   ]
  },
  {
   "cell_type": "markdown",
   "metadata": {},
   "source": [
    "## Kündigungsfristen im Mietrecht"
   ]
  },
  {
   "cell_type": "markdown",
   "metadata": {},
   "source": [
    "Art. 266c OR regelt die Kündigungsfrist von gemieteten Wohnungen. Die Frist\n",
    "beträgt drei Monate auf die ortsübliche Kündigungstermine.  \n",
    "Kündigungen sind Empfangsbedürftige Erklärungen. Das bedeutet, dass für die\n",
    "Berechnung der Fristen auf den Zeitpunkt des Empfangs der Kündigung abzustellen\n",
    "ist.\n",
    "\n",
    "Für die Berechnung, wann eine Kündigung spätestens der Schweizerischen Post\n",
    "übergeben werden muss, damit die Kündungsfrist eingehalten wird, müssen die\n",
    "ortsüblichen Kündigungstermine bekannt sein. Im Kanton Zürich ist dabei zu\n",
    "unterscheiden zwischen der Stadt Zürich und dem Rest des Kantons. In der Stadt\n",
    "Zürich sind 31. März und der 30. September, im Rest des Kantons der 31. März,\n",
    "der 30. Juni und der 30. September ordetnliche Kündigungstermine.\n",
    "Ausserdem muss die Zustellungsdauer\n",
    "der Post bekannt sein. Für eingeschriebene Briefe beträgt diese in der Regel 1\n",
    "Tag. "
   ]
  },
  {
   "cell_type": "markdown",
   "metadata": {},
   "source": [
    "## Python Funktionen für die Datumsberechnung"
   ]
  },
  {
   "cell_type": "markdown",
   "metadata": {},
   "source": [
    "### `datetime` Library"
   ]
  },
  {
   "cell_type": "markdown",
   "metadata": {},
   "source": [
    "Die Python datetime Library stellt die Klasse `datetime` zur Verfügung. Mit\n",
    "dieser Klasse kann einer Varibeln ein Datum zugewiesen werden. Ausserdem wird\n",
    "jedem Datum ein Wochentag zugewiesen. Die Wochentage sind von 0 (Montag) bis 6\n",
    "(Sonntag) nummeriert. Die Klasse `datetime` stellt auch die Methode `timedelta` zur\n",
    "Verfügung. Mit dieser Methode kann zu einem Datum eine Zeitspanne hinzugefügt\n",
    "werden. Diese Zeitspanne kann in Tagen angegeben werden.\n",
    "\n",
    "Die Syntax um einer Variablen ein Datum zuzuweisen lautet folgendermassen:\n",
    "\n",
    "```python\n",
    "geburtstag_mk = datetime.datetime(1969, 1, 23)\n",
    "```\n",
    "\n",
    "Der Wochentag eines Datums kann mit der Methode `weekday()` abgerufen werden. Im\n",
    "Beispiel sieht das so aus:\n",
    "\n",
    "```python\n",
    "wochentag = geburtstag_mk.weekday()\n",
    "print(wochentag) # 3 (23. Januar 1969 war ein Donnerstag)\n",
    "```\n",
    "\n",
    "Die Syntax, um einem gegebenen Datum `datum` eine Zeitspanne hinzuzufügen, lautet:\n",
    "\n",
    "```python\n",
    "datum = datum + datetime.timedelta(days=1)\n",
    "```"
   ]
  },
  {
   "cell_type": "markdown",
   "metadata": {},
   "source": [
    "### Beispiel für die Verwendung der Klasse `datetime`"
   ]
  },
  {
   "cell_type": "markdown",
   "metadata": {},
   "source": [
    "Weisen Sie der Variablen `my_birthday` das Datum Ihres Geburtstags zu.\n",
    "Kontrollieren Sie anschliessend mit der Methode `weekday()` den Wochentag Ihres Geburtstags."
   ]
  },
  {
   "cell_type": "code",
   "execution_count": null,
   "metadata": {},
   "outputs": [],
   "source": [
    "# vgl. oben"
   ]
  },
  {
   "cell_type": "markdown",
   "metadata": {},
   "source": [
    "### `holidays` Library"
   ]
  },
  {
   "cell_type": "markdown",
   "metadata": {},
   "source": [
    "Die Library `holidays` stellt unter anderem die Feiertage in der Schweiz zur\n",
    "Verfügung. Dabei besteht die Möglichkeit, die Feiertage nach Kanton zu filtern.\n",
    "Unter der entsprechnden Variablen werden die Feiertage in einer Datenstruktur\n",
    "abgelegt, welche einem Python Dictinary ähnelt.\n",
    "\n",
    "Eine Datenstruktur mit den Feiertagen für den Kanton Zürich wird mit folgender\n",
    "Syntax angelegt:\n",
    "\n",
    "```python\n",
    "feiertage_zh = holidays.Switzerland(subdiv='ZH')\n",
    "```\n",
    "\n",
    "Um zu prüfen, ob ein Datum ein Feiertag ist, getestet werden, ob das Datum in\n",
    "der Datenstruktur `feiertage_zh` enthalten ist. Dies geschieht mit der\n",
    "Methode `in`:\n",
    "\n",
    "```python\n",
    "'2025-01-01' in feiertage_zh\n",
    "```\n",
    "Die Methode gibt `True` zurück, wenn das Datum ein Feiertag ist."
   ]
  },
  {
   "cell_type": "markdown",
   "metadata": {},
   "source": [
    "### Beispiel für die Verwendung der Library `holidays`"
   ]
  },
  {
   "cell_type": "markdown",
   "metadata": {},
   "source": [
    "Erstellen Sie eine Datenstruktur mit den Feiertagen für den Kanton Zürich.\n",
    "Prüfen Sie anschliessend, ob der 1. Mai 2025 ein Feiertag ist."
   ]
  },
  {
   "cell_type": "code",
   "execution_count": 3,
   "metadata": {},
   "outputs": [
    {
     "data": {
      "text/plain": [
       "True"
      ]
     },
     "execution_count": 3,
     "metadata": {},
     "output_type": "execute_result"
    }
   ],
   "source": [
    "feiertage_zh = holidays.Switzerland(subdiv='ZH')\n",
    "tag_der_arbeit = datetime.datetime(2023, 5, 1)\n",
    "tag_der_arbeit in feiertage_zh"
   ]
  },
  {
   "cell_type": "markdown",
   "metadata": {},
   "source": [
    "## Funktion zur Berechnung des Zustellungsdatums"
   ]
  },
  {
   "cell_type": "markdown",
   "metadata": {},
   "source": [
    "Für die Berechnung des Datums der Zustellung werden die Sonn- und Feiertage\n",
    "berücksichtigt. Zur Kontrolle der gesetzlichen Feiertage kann auf die Liste der \n",
    "[gesetzlichen\n",
    "Feiertage](https://www.bj.admin.ch/dam/bj/de/data/publiservice/service/zivilprozessrecht/kant-feiertage.pdf.download.pdf/kant-feiertage.pdf)\n",
    "des Bundesamtes für Justiz zurückgegriffen werden."
   ]
  },
  {
   "cell_type": "code",
   "execution_count": null,
   "metadata": {},
   "outputs": [],
   "source": [
    "def get_zustelldatum(abgabedatum: datetime.date) -> datetime.date:\n",
    "    \"\"\"\n",
    "    Berechnet das Zustelldatum eines eingeschriebenen Briefes der\n",
    "    Schweizerischen Post. \n",
    "\n",
    "    Diese Funktion kalkuliert, basierend auf dem Abgabedatum, das erwartete \n",
    "    Zustelldatum eines eingeschriebenen Briefes. Die Berechnung berücksichtigt:\n",
    "    - Sonntage (keine Zustellung)\n",
    "    - Feiertage im Kanton Zürich (keine Zustellung)\n",
    "    - Standardzustellung am nächsten Werktag\n",
    "\n",
    "    Args:\n",
    "        abgabedatum (datetime.date): Das Datum, an dem der Brief bei der Post \n",
    "            aufgegeben wird.\n",
    "\n",
    "    Returns:\n",
    "        datetime.date: Das berechnete Zustelldatum. Falls das berechnete Datum\n",
    "            auf einen Sonntag oder Feiertag fällt, wird das Datum auf den \n",
    "            nächsten Werktag verschoben.\n",
    "\n",
    "    Raises:\n",
    "        ValueError: Wenn das übergebene Datum kein gültiges datetime.date \n",
    "            Objekt ist.\n",
    "\n",
    "    Example:\n",
    "        >>> get_zustelldatum(datetime.date(2025, 4, 2))\n",
    "        datetime.date(2025, 4, 3)\n",
    "    \"\"\"\n",
    "    # Beginne mit dem Tag nach der Aufgabe (Standardzustellung am nächsten Werktag)\n",
    "    datum = abgabedatum + datetime.timedelta(days=1)\n",
    "    \n",
    "    # Prüfe und überspringe Wochenenden (weekday() >= 5) und Feiertage\n",
    "    # Die while-Schleife läuft so lange, bis ein gültiger Zustelltag gefunden wird\n",
    "    while datum.weekday() >=5 or datum in holidays.CH(subdiv='ZH'):\n",
    "        # Erhöhe das Datum um einen Tag, wenn der aktuelle Tag ein Sonntag\n",
    "        # oder Feiertag ist\n",
    "        datum += datetime.timedelta(days=1)\n",
    "    \n",
    "    return datum"
   ]
  },
  {
   "cell_type": "markdown",
   "metadata": {},
   "source": [
    "## Funktion zur Berechnung der Kündigungsfrist"
   ]
  },
  {
   "cell_type": "code",
   "execution_count": null,
   "metadata": {},
   "outputs": [],
   "source": [
    "def _set_kuendigungstermine(referenzdatum: datetime.date) -> list:\n",
    "    \"\"\"\n",
    "    Berechnet die ortsüblichen Kündigungstermine für Mietwohnungen im Kanton Zürich.\n",
    "\n",
    "    Diese Funktion ermittelt die nächstmöglichen Kündigungstermine basierend auf\n",
    "    einem Referenzdatum. Im Kanton Zürich sind die ortsüblichen Kündigungstermine\n",
    "    der 31. März, 30. Juni und 30. September.\n",
    "\n",
    "    Args:\n",
    "        referenzdatum (datetime.date): Das Datum, von dem aus die nächsten\n",
    "            Kündigungstermine berechnet werden sollen.\n",
    "\n",
    "    Returns:\n",
    "        list: Eine Liste von datetime.date Objekten mit den nächsten\n",
    "            Kündigungsterminen (31. März, 30. Juni, 30. September).\n",
    "            Die Termine werden chronologisch sortiert zurückgegeben.\n",
    "\n",
    "    Raises:\n",
    "        ValueError: Wenn das übergebene Datum kein gültiges datetime.date \n",
    "            Objekt ist.\n",
    "\n",
    "    Example:\n",
    "        >>> _set_kuendigungstermine(datetime.date(2025, 4, 1))\n",
    "        [datetime.date(2025, 6, 30), \n",
    "         datetime.date(2025, 9, 30), \n",
    "         datetime.date(2026, 3, 31)]\n",
    "    \"\"\"\n",
    "    # Initialisiere leere Liste für die Kündigungstermine\n",
    "    termine = []\n",
    "    \n",
    "    # Definition der Tage und Monate für die Kündigungstermine\n",
    "    # 31. März, 30. Juni, 30. September\n",
    "    days = [31, 30, 30]\n",
    "    months = [3, 6, 9]\n",
    "    \n",
    "    # Bestimme das Jahr für die Kündigungstermine\n",
    "    # Falls das Referenzdatum nach Juni liegt, werden die Termine für das\n",
    "    # nächste Jahr berechnet\n",
    "    if referenzdatum.month >= 6:\n",
    "        year = referenzdatum.year + 1\n",
    "    else:\n",
    "        year = referenzdatum.year\n",
    "    \n",
    "    # Erstelle die Kündigungstermine durch Kombination von Jahr, Monat und Tag\n",
    "    for i in range(3):\n",
    "        termine.append(datetime.date(year, months[i], days[i]))\n",
    "    \n",
    "    return termine"
   ]
  },
  {
   "cell_type": "code",
   "execution_count": null,
   "metadata": {},
   "outputs": [],
   "source": [
    "def get_kuendigungstermin(aufgabedatum: datetime.date) -> datetime.date:\n",
    "    \"\"\"\n",
    "    Berechnet den nächstmöglichen Kündigungstermin für Mietwohnungen im Kanton Zürich.\n",
    "\n",
    "    Diese Funktion ermittelt den nächstmöglichen Kündigungstermin basierend auf dem\n",
    "    Aufgabedatum der Kündigung. Die Berechnung berücksichtigt:\n",
    "    - Das Zustelldatum des Kündigungsschreibens (via get_zustelldatum)\n",
    "    - Die gesetzliche Kündigungsfrist von 3 Monaten\n",
    "    - Die ortsüblichen Kündigungstermine (31. März, 30. Juni, 30. September)\n",
    "\n",
    "    Die Funktion verwendet zwei Hilfsfunktionen:\n",
    "    - get_zustelldatum: Berechnet das Zustelldatum des Kündigungsschreibens\n",
    "    - _set_kuendigungstermine: Ermittelt die möglichen Kündigungstermine\n",
    "\n",
    "    Args:\n",
    "        aufgabedatum (datetime.date): Das Datum, an dem die Kündigung bei der Post\n",
    "            aufgegeben wird.\n",
    "\n",
    "    Returns:\n",
    "        datetime.date: Der nächstmögliche gültige Kündigungstermin. Dies ist\n",
    "            entweder der 31. März, 30. Juni oder 30. September, je nachdem,\n",
    "            welches Datum nach Ablauf der dreimonatigen Kündigungsfrist als\n",
    "            nächstes folgt.\n",
    "\n",
    "    Raises:\n",
    "        ValueError: Wenn das übergebene Datum kein gültiges datetime.date \n",
    "            Objekt ist oder die Datumsberechnung ungültige Werte ergibt.\n",
    "\n",
    "    Example:\n",
    "        >>> get_kuendigungstermin(datetime.date(2025, 4, 1))\n",
    "        datetime.date(2025, 9, 30)\n",
    "    \"\"\"\n",
    "    # Berechne das Zustelldatum des Kündigungsschreibens\n",
    "    zustellung = get_zustelldatum(aufgabedatum)\n",
    "    \n",
    "    # Hole die möglichen Kündigungstermine (31. März, 30. Juni, 30. September)\n",
    "    kuendigungstermine = _set_kuendigungstermine(aufgabedatum)\n",
    "    \n",
    "    # Extrahiere Tag, Monat und Jahr aus dem Zustelldatum für die Berechnung\n",
    "    # des provisorischen Kündigungstermins\n",
    "    day = zustellung.day\n",
    "    month = zustellung.month\n",
    "    year = zustellung.year\n",
    "    \n",
    "    # Berechne den provisorischen Kündigungstermin (3 Monate nach Zustellung)\n",
    "    termin = datetime.date(year, month + 3, day)\n",
    "    \n",
    "    # Ermittle den nächstmöglichen gültigen Kündigungstermin\n",
    "    # Vergleiche den provisorischen Termin mit den ortsüblichen Terminen\n",
    "    # und wähle den nächstfolgenden aus\n",
    "    if termin < kuendigungstermine[0]:\n",
    "        return kuendigungstermine[0]  # Erster möglicher Kündigungstermin\n",
    "    elif termin < kuendigungstermine[1]:\n",
    "        return kuendigungstermine[1]  # Zweiter möglicher Kündigungstermin\n",
    "    else:\n",
    "        return kuendigungstermine[2]  # Dritter möglicher Kündigungstermin"
   ]
  },
  {
   "cell_type": "markdown",
   "metadata": {},
   "source": [
    "## Funktion zur Berechnung des Aufgabedatums"
   ]
  },
  {
   "cell_type": "code",
   "execution_count": null,
   "metadata": {},
   "outputs": [],
   "source": [
    "def get_aufgabedatum(kuendigungstermin: datetime.date) -> datetime.date:\n",
    "    \"\"\"\n",
    "    Berechnet das spätestmögliche Aufgabedatum für eine Kündigung nach Schweizer Mietrecht.\n",
    "\n",
    "    Gemäss Schweizer Mietrecht muss die Kündigung dem Empfänger mindestens drei Monate\n",
    "    vor dem Kündigungstermin zugestellt werden. Da die Zustellung per eingeschriebenem\n",
    "    Brief typischerweise einen Tag dauert und die Zustellung an einem Werktag erfolgen\n",
    "    muss, berechnet diese Funktion rückwärts vom Kündigungstermin das spätestmögliche\n",
    "    Aufgabedatum.\n",
    "\n",
    "    Parameter:\n",
    "        kuendigungstermin (datetime.date): Der gewünschte Kündigungstermin des Mietverhältnisses\n",
    "\n",
    "    Rückgabewert:\n",
    "        datetime.date: Das spätestmögliche Datum für die Aufgabe der Kündigung unter\n",
    "                      Berücksichtigung von Wochenenden und Feiertagen im Kanton Zürich\n",
    "\n",
    "    Hinweise:\n",
    "        - Die Funktion berücksichtigt Wochenenden und Feiertage im Kanton Zürich\n",
    "        - Die gesetzliche Kündigungsfrist von drei Monaten wird eingehalten\n",
    "        - Die Zustellung muss an einem Werktag möglich sein\n",
    "    \"\"\"\n",
    "    # Berechne das Zustelldatum durch Abzug von 3 Monaten vom Kündigungstermin\n",
    "    # Dies stellt die Einhaltung der gesetzlichen 3-monatigen Kündigungsfrist sicher\n",
    "    month = kuendigungstermin.month - 3\n",
    "    zustelldatum = datetime.datetime(kuendigungstermin.year, month, kuendigungstermin.day)\n",
    "    \n",
    "    # Verschiebe das Zustelldatum nach hinten, falls es auf Wochenenden (5=Samstag, 6=Sonntag)\n",
    "    # oder Feiertage im Kanton Zürich fällt, um die Zustellbarkeit zu gewährleisten\n",
    "    while zustelldatum.weekday() >= 5 or zustelldatum in holidays.CH(subdiv='ZH'):\n",
    "        zustelldatum -= datetime.timedelta(days=1)\n",
    "        \n",
    "    # Berechne das Aufgabedatum (einen Tag vor Zustellung wegen Postlaufzeit)\n",
    "    aufgabe = zustelldatum - datetime.timedelta(days=1)\n",
    "    \n",
    "    # Verschiebe das Aufgabedatum nach hinten, falls es auf Wochenenden oder Feiertage fällt\n",
    "    # Dies stellt sicher, dass die Aufgabe an einem Werktag erfolgen kann\n",
    "    while aufgabe.weekday() >= 5 or aufgabe in holidays.CH(subdiv='ZH'):\n",
    "        aufgabe -= datetime.timedelta(days=1)\n",
    "    \n",
    "    return aufgabe"
   ]
  }
 ],
 "metadata": {
  "kernelspec": {
   "display_name": ".venv",
   "language": "python",
   "name": "python3"
  },
  "language_info": {
   "codemirror_mode": {
    "name": "ipython",
    "version": 3
   },
   "file_extension": ".py",
   "mimetype": "text/x-python",
   "name": "python",
   "nbconvert_exporter": "python",
   "pygments_lexer": "ipython3",
   "version": "3.13.1"
  }
 },
 "nbformat": 4,
 "nbformat_minor": 2
}
