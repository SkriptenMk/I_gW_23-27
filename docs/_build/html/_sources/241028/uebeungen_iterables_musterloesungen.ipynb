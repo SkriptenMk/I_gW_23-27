{
 "cells": [
  {
   "cell_type": "markdown",
   "metadata": {},
   "source": [
    "# Anwendungsübungen zu Python Iterables"
   ]
  },
  {
   "cell_type": "markdown",
   "metadata": {},
   "source": [
    "## Python Listen\n",
    "\n",
    "Eine über das vorliegende Skript hinausgehende Anleitung zu Python Listen findet sich auf\n",
    "[Real Python](https://realpython.com/python-lists-tuples/)."
   ]
  },
  {
   "cell_type": "markdown",
   "metadata": {},
   "source": [
    "### Erstellen einer Liste mittels einer List Comprehension\n",
    "\n",
    "Erstellen Sie eine Python Liste, welche alle durch drei Teilbaren ganzen Zahlen zwischen 0 und 100 beinhaltet. Verwenden Sie dafür eine List Comprehension."
   ]
  },
  {
   "cell_type": "code",
   "execution_count": null,
   "metadata": {},
   "outputs": [],
   "source": [
    "# erstellen Sie hier die Liste durch_drei_teilbar\n",
    "durch_drei_teilbar = [i for i in range(3,100,3)]\n",
    "durch_drei_teilbar"
   ]
  },
  {
   "cell_type": "markdown",
   "metadata": {},
   "source": [
    "### List Slicing\n",
    "\n",
    "Erstellen Sie eine neue Liste indem Sie von der vorher erstellten Liste die Elemente mit einem Index von mehr als 9 abschneiden. Welche Werte beinhaltet die neue Liste?"
   ]
  },
  {
   "cell_type": "code",
   "execution_count": 3,
   "metadata": {},
   "outputs": [
    {
     "data": {
      "text/plain": [
       "[3, 6, 9, 12, 15, 18, 21, 24, 27, 30]"
      ]
     },
     "execution_count": 3,
     "metadata": {},
     "output_type": "execute_result"
    }
   ],
   "source": [
    "dreierreihe = durch_drei_teilbar[:10]\n",
    "dreierreihe"
   ]
  },
  {
   "cell_type": "markdown",
   "metadata": {},
   "source": [
    "Erstellen Sie eine weitere Liste, in welche die Elemente mit Index 3 bis und mit 5 der soeben erstellten Liste aufgenommen werden."
   ]
  },
  {
   "cell_type": "code",
   "execution_count": 4,
   "metadata": {},
   "outputs": [
    {
     "data": {
      "text/plain": [
       "[12, 15, 18]"
      ]
     },
     "execution_count": 4,
     "metadata": {},
     "output_type": "execute_result"
    }
   ],
   "source": [
    "mitte = dreierreihe[3:6]\n",
    "mitte"
   ]
  },
  {
   "cell_type": "markdown",
   "metadata": {},
   "source": [
    "## Python Tuples"
   ]
  },
  {
   "cell_type": "markdown",
   "metadata": {},
   "source": [
    "### Erstellen eines Tuples\n",
    "\n",
    "Erstellen Sie ein Tuple, das die Namen von drei Städten enthält."
   ]
  },
  {
   "cell_type": "code",
   "execution_count": null,
   "metadata": {},
   "outputs": [],
   "source": [
    "# Erstellen Sie hier das Tuple städte\n",
    "städte = (\"Zürich\", \"Genf\", \"Basel\")\n",
    "städte"
   ]
  },
  {
   "cell_type": "markdown",
   "metadata": {},
   "source": [
    "### Zugriff auf Tuple-Elemente\n",
    "\n",
    "Greifen Sie auf das zweite Element des Tuples zu und geben Sie es aus."
   ]
  },
  {
   "cell_type": "code",
   "execution_count": null,
   "metadata": {},
   "outputs": [],
   "source": [
    "# Zugriff auf das zweite Element\n",
    "zweite_stadt = städte[1]\n",
    "zweite_stadt"
   ]
  },
  {
   "cell_type": "markdown",
   "metadata": {},
   "source": [
    "### Iterieren über ein Tuple\n",
    "\n",
    "Iterieren Sie über das Tuple der Städte und geben Sie jede Stadt in Großbuchstaben aus."
   ]
  },
  {
   "cell_type": "code",
   "execution_count": null,
   "metadata": {},
   "outputs": [],
   "source": [
    "# Iterieren über das Tuple\n",
    "for stadt in städte:\n",
    "    print(stadt.upper())"
   ]
  },
  {
   "cell_type": "markdown",
   "metadata": {},
   "source": [
    "## Python Dictionaries\n",
    "\n",
    "Eine über dieses Skript hinausgehende Anleitung zu Python Dictionaries findet sich auf \n",
    "[Real Python](https://realpython.com/python-dicts/)."
   ]
  },
  {
   "cell_type": "markdown",
   "metadata": {},
   "source": [
    "### Erstellen eines Dictionaries\n",
    "\n",
    "Erstellen Sie ein Dictionary, das die Namen von fünf Schülern als Schlüssel und ihre Noten in Mathematik als Werte enthält."
   ]
  },
  {
   "cell_type": "code",
   "execution_count": null,
   "metadata": {},
   "outputs": [],
   "source": [
    "# Erstellen Sie hier das Dictionary schueler_noten\n",
    "schueler_noten = {\n",
    "    \"Anna\": 5.5,\n",
    "    \"Ben\": 4.0,\n",
    "    \"Clara\": 5.0,\n",
    "    \"David\": 3.5,\n",
    "    \"Eva\": 4.5\n",
    "}\n",
    "schueler_noten"
   ]
  },
  {
   "cell_type": "markdown",
   "metadata": {},
   "source": [
    "### Zugriff auf Dictionary-Werte\n",
    "\n",
    "Greifen Sie auf die Note von \"Clara\" zu und geben Sie diese aus."
   ]
  },
  {
   "cell_type": "code",
   "execution_count": null,
   "metadata": {},
   "outputs": [],
   "source": [
    "# Zugriff auf Claras Note\n",
    "claras_note = schueler_noten[\"Clara\"]\n",
    "claras_note"
   ]
  },
  {
   "cell_type": "markdown",
   "metadata": {},
   "source": [
    "### Hinzufügen eines neuen Eintrags\n",
    "\n",
    "Fügen Sie dem Dictionary einen neuen Schüler \"Felix\" mit der Note 4.8 hinzu."
   ]
  },
  {
   "cell_type": "code",
   "execution_count": null,
   "metadata": {},
   "outputs": [],
   "source": [
    "# Hinzufügen von Felix\n",
    "schueler_noten[\"Felix\"] = 4.8\n",
    "schueler_noten"
   ]
  }
 ],
 "metadata": {
  "kernelspec": {
   "display_name": "Python 3 (ipykernel)",
   "language": "python",
   "name": "python3"
  },
  "language_info": {
   "codemirror_mode": {
    "name": "ipython",
    "version": 3
   },
   "file_extension": ".py",
   "mimetype": "text/x-python",
   "name": "python",
   "nbconvert_exporter": "python",
   "pygments_lexer": "ipython3",
   "version": "3.13.0"
  },
  "widgets": {
   "application/vnd.jupyter.widget-state+json": {
    "state": {},
    "version_major": 2,
    "version_minor": 0
   }
  }
 },
 "nbformat": 4,
 "nbformat_minor": 4
}
