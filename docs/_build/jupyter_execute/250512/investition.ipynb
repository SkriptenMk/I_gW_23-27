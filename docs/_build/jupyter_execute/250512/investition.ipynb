{
 "cells": [
  {
   "cell_type": "markdown",
   "id": "86e219dc",
   "metadata": {},
   "source": [
    "# Mittelfluss aus Investitionstätigkeit"
   ]
  },
  {
   "cell_type": "markdown",
   "id": "4fd34008",
   "metadata": {},
   "source": [
    "## Einlesen der erforderlichen Paket und Daten"
   ]
  },
  {
   "cell_type": "markdown",
   "id": "dd8b4c63",
   "metadata": {},
   "source": [
    "Auch hier muss als Erstes die pandas Library importiert werden. Anschliessend\n",
    "müssen die Daten einem pandas DataFrame zugewiesen werden."
   ]
  },
  {
   "cell_type": "code",
   "execution_count": 1,
   "id": "d7774cf3",
   "metadata": {},
   "outputs": [],
   "source": [
    "import pandas as pd"
   ]
  },
  {
   "cell_type": "code",
   "execution_count": 2,
   "id": "00e4ba32",
   "metadata": {},
   "outputs": [],
   "source": [
    "df = pd.read_csv('data.csv', index_col=0)"
   ]
  },
  {
   "cell_type": "markdown",
   "id": "39a500c2",
   "metadata": {},
   "source": [
    "## Rekonstruktion des Mittelflusses aus Investitionstätigkeit\n",
    "\n",
    "Für die Rekonstruktion des Mittelflusses aus Investitionstätigkeit kann auf die\n",
    "'Formel' zurückgegriffen werden, welche im \n",
    "[Schweizerischen Kontenrahmen KMU](https://www.kmu.admin.ch/dam/kmu/de/dokumente/savoir-pratique/Finances/240812%20Schulkontenrahmen%20VEB%20-%20DE.pdf.download.pdf/240812%20Schulkontenrahmen%20VEB%20-%20DE.pdf)\n",
    "abgedruckt ist. Die 'Formel' ist unten aufgeführt.\n",
    "\n",
    "$–$ Investitionen in Finanzanlagen  \n",
    "$+$ Devestitionen von Finanzanlagen  \n",
    "$–$ Investitionen in Beteiligungen  \n",
    "$+$ Devestitionen von Beteiligungen  \n",
    "$–$ Investitionen in mobile Sachanlagen  \n",
    "$+$ Devestitionen von mobilen Sachanlagen  \n",
    "$–$ Investitionen in immobile Sachanlagen  \n",
    "$+$ Devestitionen von immobilen Sachanlagen  \n",
    "$–$ Investitionen in immaterielle Werte  \n",
    "$+$ Devestitionen von immateriellen Werten  \n",
    "\n",
    "Die meisten Schulaufgaben gehen allerdings von bloss zwei Positionen im Anlagevermögen aus:\n",
    "Mobilien und Immobilien. Aus diesem Grund wird im vorliegenden Beispiel\n",
    "nur mit den Positionen Mobilien und Immobilien gearbeitet. Die zu Grunde\n",
    "liegenden Überlegungen sind jedoch auch auf die anderen Positionen anwendbar."
   ]
  },
  {
   "cell_type": "markdown",
   "id": "86aa02b5",
   "metadata": {},
   "source": [
    "### Rekonstruktion der Abschreibungen auf Mobilien"
   ]
  },
  {
   "cell_type": "markdown",
   "id": "bde72084",
   "metadata": {},
   "source": [
    "Um die erforderlichen Berechnungen zu planen, lohnt es sich unter Umständen, den\n",
    "genauen Ablauf der Berechnungen in einem Flussdiagramm darzustellen."
   ]
  },
  {
   "cell_type": "markdown",
   "id": "d3de9327",
   "metadata": {},
   "source": [
    "```{mermaid}\n",
    "graph TD\n",
    "    %% Main Function\n",
    "    A[Start: investitionsbereich] --> B[Initialize Dictionary 'investitionen']\n",
    "    B --> C[Calculate Mobile Investments]\n",
    "    B --> D[Calculate Immobile Investments]\n",
    "    \n",
    "    %% Mobile Investment Branch\n",
    "    C --> C1[Call _get_invest_mob]\n",
    "    C1 --> C2{Check wb_mob exists?}\n",
    "    C2 -->|Yes| C3[Calculate with WB]\n",
    "    C2 -->|No| C4[Calculate without WB]\n",
    "    \n",
    "    %% Mobile Investment Calculation with WB\n",
    "    C3 --> C5[Get Mobile Depreciation]\n",
    "    C5 --> C6[Calculate Delta WB Mobile]\n",
    "    C6 --> C7[Sum Mobile Investment]\n",
    "    \n",
    "    %% Mobile Investment Calculation without WB\n",
    "    C4 --> C8[Get Total Depreciation]\n",
    "    C8 --> C7\n",
    "    \n",
    "    %% Immobile Investment Branch\n",
    "    D --> D1[Call _get_invest_immo]\n",
    "    D1 --> D2{Check wb_immo exists?}\n",
    "    D2 -->|Yes| D3[Calculate with WB]\n",
    "    D2 -->|No| D4[Calculate without WB]\n",
    "    \n",
    "    %% Immobile Investment Calculation\n",
    "    D3 --> D5[Get Immobile Depreciation]\n",
    "    D5 --> D6[Calculate Delta WB Immobile]\n",
    "    D6 --> D7[Sum Immobile Investment]\n",
    "    D4 --> D5\n",
    "    \n",
    "    %% Final Calculations and Output\n",
    "    C7 --> E[Sum Total Investments]\n",
    "    D7 --> E\n",
    "    E --> F[Format Output]\n",
    "    F --> G[Print Results]\n",
    "    G --> H[End]\n",
    "    \n",
    "    %% Helper Functions\n",
    "    subgraph Helper Functions\n",
    "        H1[_get_total_absch]\n",
    "        H2[_get_delta_wb_mob]\n",
    "        H3[_get_delta_wb_immo]\n",
    "        H4[_check_wb_mob]\n",
    "        H5[_check_wb_immo]\n",
    "        H6[_get_absch_mob]\n",
    "        H7[_get_absch_immo]\n",
    "    end\n",
    "    \n",
    "    %% Relationships between Helper Functions\n",
    "    C8 --> H1\n",
    "    C6 --> H2\n",
    "    D6 --> H3\n",
    "    C2 --> H4\n",
    "    D2 --> H5\n",
    "    C5 --> H6\n",
    "    D5 --> H7\n",
    "    \n",
    "    %% Style Definitions\n",
    "    classDef process fill:#f9f,stroke:#333,stroke-width:2px;\n",
    "    classDef decision fill:#ffd,stroke:#333,stroke-width:2px;\n",
    "    classDef helper fill:#dff,stroke:#333,stroke-width:2px;\n",
    "    \n",
    "    %% Apply Styles\n",
    "    class A,B,C,D,E,F,G process;\n",
    "    class C2,D2 decision;\n",
    "    class H1,H2,H3,H4,H5,H6,H7 helper;\n",
    "```\n"
   ]
  },
  {
   "cell_type": "markdown",
   "id": "09c9792e",
   "metadata": {},
   "source": [
    "### Definition der erforderlichen Helferfunktionen\n",
    "\n",
    "Helferfunktionen werden in Python mit einem einleitenden Unterstrich definiert."
   ]
  },
  {
   "cell_type": "markdown",
   "id": "81d4f1dc",
   "metadata": {},
   "source": [
    "#### `_check_wb_mob`"
   ]
  },
  {
   "cell_type": "code",
   "execution_count": 3,
   "id": "db34d509",
   "metadata": {},
   "outputs": [],
   "source": [
    "def _check_wb_mob(ledger: pd.DataFrame) -> bool:\n",
    "    wb_mob = ledger.index.intersection([1509, 1519, 1529, 1539, 1549])\n",
    "    \n",
    "    return len(wb_mob) > 0"
   ]
  },
  {
   "cell_type": "markdown",
   "id": "0b171cc1",
   "metadata": {},
   "source": [
    "#### `_check_wb_immo`"
   ]
  },
  {
   "cell_type": "code",
   "execution_count": 4,
   "id": "f96688b9",
   "metadata": {},
   "outputs": [],
   "source": [
    "def _check_wb_immo(ledger: pd.DataFrame) -> bool:\n",
    "        \n",
    "    return 1609 in ledger.index"
   ]
  },
  {
   "cell_type": "markdown",
   "id": "a2782bb7",
   "metadata": {},
   "source": [
    "#### `_get_total_absch`"
   ]
  },
  {
   "cell_type": "code",
   "execution_count": 5,
   "id": "87368b26",
   "metadata": {},
   "outputs": [],
   "source": [
    "def _get_total_absch(ledger: pd.DataFrame) -> float:\n",
    "    \"\"\"\n",
    "    Get the total amount of Abschreibungen from the ledger.\n",
    "    \"\"\"\n",
    "    konti = [i for i in range(6800, 6900)]\n",
    "    total_absch = 0\n",
    "    for konto in konti:\n",
    "        if konto in ledger.index:\n",
    "            total_absch += ledger.loc[konto, 'Abschluss'] * -1\n",
    "    \n",
    "    return total_absch"
   ]
  },
  {
   "cell_type": "markdown",
   "id": "d022bd2f",
   "metadata": {},
   "source": [
    "#### `_get_delta_wb_mob`"
   ]
  },
  {
   "cell_type": "code",
   "execution_count": 6,
   "id": "cc952b0c",
   "metadata": {},
   "outputs": [],
   "source": [
    "def _get_delta_wb_mob(ledger: pd.DataFrame) -> float:\n",
    "    \"\"\"\n",
    "    Get the delta of the wb_mob from the ledger.\n",
    "    \"\"\"\n",
    "    wb_mob = ledger.index.intersection([1509, 1519, 1529, 1539, 1549])\n",
    "    \n",
    "    if len(wb_mob) == 0:\n",
    "        return 0\n",
    "    \n",
    "    delta_wb_mob = 0\n",
    "    for konto in wb_mob:\n",
    "        delta_wb_mob += ledger.loc[konto, 'Abschluss'] - ledger.loc[konto, 'Eroeffnung']\n",
    "    \n",
    "    return delta_wb_mob"
   ]
  },
  {
   "cell_type": "markdown",
   "id": "5d8b30ad",
   "metadata": {},
   "source": [
    "#### `_get_delta_wb_immo`"
   ]
  },
  {
   "cell_type": "code",
   "execution_count": 7,
   "id": "c0a348bf",
   "metadata": {},
   "outputs": [],
   "source": [
    "def _get_delta_wb_immo(ledger: pd.DataFrame) -> float:\n",
    "    delta_wb_immo = ledger.loc[1609, 'Abschluss'] - ledger.loc[1609, 'Eroeffnung']\n",
    "    return delta_wb_immo"
   ]
  },
  {
   "cell_type": "markdown",
   "id": "f3a732ed",
   "metadata": {},
   "source": [
    "#### `_get_absch_mob`"
   ]
  },
  {
   "cell_type": "code",
   "execution_count": 8,
   "id": "f0c89a26",
   "metadata": {},
   "outputs": [],
   "source": [
    "def _get_absch_mob(ledger: pd.DataFrame) -> float:\n",
    "    absch = _get_total_absch(ledger)    \n",
    " \n",
    "    if _check_wb_mob(ledger):\n",
    "        absch_mob = _get_delta_wb_mob(ledger)\n",
    "    else:\n",
    "        absch_mob =  absch - _get_delta_wb_immo(ledger)\n",
    "    return absch_mob"
   ]
  },
  {
   "cell_type": "markdown",
   "id": "c65a0430",
   "metadata": {},
   "source": [
    "#### `_get_absch_mob_wb`"
   ]
  },
  {
   "cell_type": "code",
   "execution_count": 9,
   "id": "f203cd35",
   "metadata": {},
   "outputs": [],
   "source": [
    "def _get_absch_mob_wb(ledger: pd.DataFrame) -> float:\n",
    "    konti = ledger.index.intersection([1509, 1519, 1529, 1539, 1549])\n",
    "    absch_mob = 0\n",
    "    for konto in konti:\n",
    "        absch_mob += ledger.loc[konto, 'Abschluss'] - ledger.loc[konto, 'Eroeffnung']\n",
    "    return absch_mob * -1  # Negativ, weil es eine Erhöhung des WB ist"
   ]
  },
  {
   "cell_type": "markdown",
   "id": "b95258ea",
   "metadata": {},
   "source": [
    "#### `_get_absch_immo`"
   ]
  },
  {
   "cell_type": "code",
   "execution_count": 10,
   "id": "3208049c",
   "metadata": {},
   "outputs": [],
   "source": [
    "def _get_absch_immo(ledger: pd.DataFrame) -> float:\n",
    "    absch = ledger.loc[6800, 'Abschluss'] * -1\n",
    "    absch_mob = _get_absch_mob(ledger) * -1    \n",
    "    absch_immo = absch - absch_mob    \n",
    "    return absch_immo"
   ]
  },
  {
   "cell_type": "markdown",
   "id": "3c8c1613",
   "metadata": {},
   "source": [
    "#### `_get_invest_mob`"
   ]
  },
  {
   "cell_type": "code",
   "execution_count": 11,
   "id": "897aece5",
   "metadata": {},
   "outputs": [],
   "source": [
    "def _get_invest_mob(ledger: pd.DataFrame) -> float:\n",
    "    mob = ledger.index.intersection([1500, 1510, 1520, 1530, 1540])\n",
    "    invest_mob = 0\n",
    "    for m in mob:\n",
    "        invest_mob += ledger.loc[m, 'Abschluss'] - ledger.loc[m, 'Eroeffnung']\n",
    "        \n",
    "    if not _check_wb_mob(ledger):\n",
    "        invest_mob += _get_absch_mob(ledger)\n",
    "        \n",
    "    return invest_mob"
   ]
  },
  {
   "cell_type": "markdown",
   "id": "e57f4454",
   "metadata": {},
   "source": [
    "#### `_get_infest_immo`"
   ]
  },
  {
   "cell_type": "code",
   "execution_count": 12,
   "id": "727d7fd7",
   "metadata": {},
   "outputs": [],
   "source": [
    "def _get_invest_immo(ledger: pd.DataFrame) -> float:\n",
    "    delta_immo = ledger.loc[1600, 'Abschluss'] - ledger.loc[1600, 'Eroeffnung']\n",
    "    \n",
    "    if not _check_wb_immo(ledger):\n",
    "        delta_immo += _get_absch_immo(ledger)\n",
    "    \n",
    "    return delta_immo"
   ]
  },
  {
   "cell_type": "markdown",
   "id": "c4a3b3f5",
   "metadata": {},
   "source": [
    "### Funktion `investitionsbereich()`\n",
    "\n",
    "Die Funktion `investitionsbereich()` ist die Zusammenfassung aller vorher\n",
    "definierten Hilfsfunktionen. Mit Ihr wird der Mittelfluss aus\n",
    "Investitionstätigkeit aus dem aufbereiteten DataFrame extrahiert."
   ]
  },
  {
   "cell_type": "code",
   "execution_count": 13,
   "id": "7cc33903",
   "metadata": {},
   "outputs": [],
   "source": [
    "def investitionsbereich(ledger: pd.DataFrame):\n",
    "    investitionen = {}\n",
    "    investitionen['Mobilien'] = _get_invest_mob(ledger)\n",
    "    investitionen['Immobilien'] = _get_invest_immo(ledger)\n",
    "    \n",
    "    breite = 50\n",
    "    titel = 'Mittelfluss aus Investitionen\\n\\n'\n",
    "    \n",
    "    for index, value in investitionen.items():\n",
    "        mitte = breite - len(index) -len(str(value))\n",
    "        breite_links = len(index) + mitte // 2\n",
    "        breite_rechts = len(str(value)) + mitte // 2\n",
    "        if breite_links + breite_rechts < breite:\n",
    "            breite_links += 1\n",
    "        titel += f\"{index:<{breite_links}}{value:>{breite_rechts}}\\n\"\n",
    "        \n",
    "    mitte = breite - len('Nettoinvestitionen') - len(str(investitionen['Mobilien'] + investitionen['Immobilien']))\n",
    "    breite_links = len('Nettoinvestitionen') + mitte // 2\n",
    "    breite_rechts = len(str(investitionen['Mobilien'] + investitionen['Immobilien'])) + mitte // 2\n",
    "    if breite_links + breite_rechts < breite:\n",
    "        breite_links += 1\n",
    "    inv = 'Nettoinvestitionen'\n",
    "    inv_zahl = str(investitionen['Mobilien'] + investitionen['Immobilien'])\n",
    "    titel += f\"{inv:<{breite_links}}{inv_zahl:>{breite_rechts}}\\n\"\n",
    "        \n",
    "    print(titel)\n",
    "    "
   ]
  },
  {
   "cell_type": "code",
   "execution_count": 14,
   "id": "5715180a",
   "metadata": {},
   "outputs": [
    {
     "name": "stdout",
     "output_type": "stream",
     "text": [
      "Mittelfluss aus Investitionen\n",
      "\n",
      "Mobilien                                      20.0\n",
      "Immobilien                                     0.0\n",
      "Nettoinvestitionen                            20.0\n",
      "\n"
     ]
    }
   ],
   "source": [
    "investitionsbereich(df)"
   ]
  }
 ],
 "metadata": {
  "kernelspec": {
   "display_name": ".venv",
   "language": "python",
   "name": "python3"
  },
  "language_info": {
   "codemirror_mode": {
    "name": "ipython",
    "version": 3
   },
   "file_extension": ".py",
   "mimetype": "text/x-python",
   "name": "python",
   "nbconvert_exporter": "python",
   "pygments_lexer": "ipython3",
   "version": "3.13.1"
  }
 },
 "nbformat": 4,
 "nbformat_minor": 5
}