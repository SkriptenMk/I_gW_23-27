{
 "cells": [
  {
   "cell_type": "markdown",
   "id": "8a13ce94",
   "metadata": {},
   "source": [
    "# Mittelflussrechnung mit Python"
   ]
  },
  {
   "cell_type": "markdown",
   "id": "b403589b",
   "metadata": {},
   "source": [
    "Die Arbeit mit buchhalterischen Daten erfordert Hilfsmittel, um tabellarisch\n",
    "dargestellte Daten zu verarbeiten. *Die* Python Bibliothek für die Arbeit mit\n",
    "tabellarischen Daten ist [*pandas*](https://pandas.pydata.org/).  \n",
    "Die Bibliothek kann in der Python Virtual Environment mit dem Befehl\n",
    "\n",
    "```bash\n",
    "pip install pandas\n",
    "```\n",
    "\n",
    "installiert werden.\n",
    "\n",
    "Anschliessend wird die Bibliothek mit dem Befehl\n",
    "\n",
    "```python\n",
    "import pandas as pd\n",
    "```\n",
    "\n",
    "importiert."
   ]
  },
  {
   "cell_type": "markdown",
   "id": "0755e2db",
   "metadata": {},
   "source": [
    "## Darstellung der Abschlussrecnnungen in Python"
   ]
  },
  {
   "cell_type": "markdown",
   "id": "217dba4d",
   "metadata": {},
   "source": [
    "Im Schulischn Umfeld werden Abschlussrechnungen oft als T-Konto dargestellt.\n",
    "Damit die Daten in Python verarbeitet werden können, ist es am einfachsten, die\n",
    "Information in einen pandas DataFrame zu überführen. Wie das gemacht werden\n",
    "kann, soll das Beispiel der untenstehenden Bilanz zeigen."
   ]
  },
  {
   "cell_type": "markdown",
   "id": "99f34d3f",
   "metadata": {},
   "source": [
    "\n",
    "![Eröffnungsbilanz](eb.svg)"
   ]
  },
  {
   "cell_type": "markdown",
   "id": "20f96d11",
   "metadata": {},
   "source": [
    "Die Daten der Bilanz werden in eine CSV-Datei überführt. Die CSV-Datei besteht\n",
    "aus den Spalten 'Kontonummer', 'Kontoname' und 'Betrag'. Die Kontonummer dient\n",
    "der einfachen Gruppierung der Konten. Die Zuweisung der Kontonummern basiert auf\n",
    "dem \n",
    "[Schweizer Kontenrahmen\n",
    "KMU](https://www.kmu.admin.ch/dam/kmu/de/dokumente/savoir-pratique/Finances/240812%20Schulkontenrahmen%20VEB%20-%20DE.pdf.download.pdf/240812%20Schulkontenrahmen%20VEB%20-%20DE.pdf).\n",
    "\n",
    "Die obige Bilanz sieht als CSV-Datei folgendermassen aus:\n",
    "\n",
    "```csv\n",
    "Kontonummer, Kontoname, Betrag\n",
    "1000, Kasse, 10\n",
    "1010, Post, 13\n",
    "1020, Bankguthaben, 2\n",
    "1100, FLL, 40\n",
    "1109, WB Forderungen, -4\n",
    "1200, Waren, 70\n",
    "1510, Mobilien, 50\n",
    "1519, WB Mobilien, -20\n",
    "1600, Immobilien, 350\n",
    "2000, VLL, 45\n",
    "2100, Bankschuld, 9\n",
    "2261, Dividende, 5\n",
    "2451, Hypothek, 210\n",
    "2800, Aktienkapital, 220\n",
    "2950, Reserven, 20\n",
    "2970, Gewinnvortrag, 0\n",
    "```\n",
    "\n",
    "Die Datei steht [hier zum Download](eb.csv) bereit."
   ]
  }
 ],
 "metadata": {
  "language_info": {
   "codemirror_mode": {
    "name": "ipython",
    "version": 3
   },
   "file_extension": ".py",
   "mimetype": "text/x-python",
   "name": "python",
   "nbconvert_exporter": "python",
   "pygments_lexer": "ipython3",
   "version": "3.13.1"
  }
 },
 "nbformat": 4,
 "nbformat_minor": 5
}