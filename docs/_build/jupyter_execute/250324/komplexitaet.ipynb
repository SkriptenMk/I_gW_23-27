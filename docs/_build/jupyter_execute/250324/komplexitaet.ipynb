{
 "cells": [
  {
   "cell_type": "markdown",
   "metadata": {},
   "source": [
    "# Komplexitätstheorie und Public-Key-Kryptographie"
   ]
  },
  {
   "cell_type": "markdown",
   "metadata": {},
   "source": [
    "In der Public-Key-Kryptographie verwendet man zum Verschlüsseln eine\n",
    "Einwegfunktion mit Hintertür. Das ist eine Funktion, die einfach zu berechnen,\n",
    "aber ohne Kenntnis der Hintertür sehr schwer umzukehren ist.  \n",
    "Als Modell für diese Art Verschlüsselung wurde im Unterricht die \n",
    "[Verschlüsselung mit Hilfe eines Graphen](../250317/asymmetrie.md) verwendet.\n",
    "Allerdings ist in desem Beispiel der Unterschied im Aufwand für die\n",
    "Verschlüsselung und die Entschlüsselung nicht gross genug. Damit dies beurteilt\n",
    "werden kann, muss die Komplexität der Verschlüsselung und der Entschlüsselung\n",
    "miteinander verglichen werden können. Die Beschreibung der Komplexität von\n",
    "Algorithmen ist das Thema der Komplexitätstheorie."
   ]
  },
  {
   "cell_type": "markdown",
   "metadata": {},
   "source": [
    "## Komplexitätstheorie\n",
    "\n",
    "In der Komplexitätstheorie wird die der Aufwand von Algorithmen unter den\n",
    "Aspekten des Rechnen- und Speicheraufwands untersucht. Im Zusammenahng mit der\n",
    "Kryptographie interessiert in erster Linie der Rechenaufwand. Ein\n",
    "Verschlüsselungsverfahren gilt als sicher, wenn der Aufwand für die\n",
    "Entschlüsslelung in Unkenntnis der Hintertür so viel grösser ist als der Aufwand\n",
    "für die Verschlüsslung, dass innert nützlicher Frist die Entschlüsselung nicht\n",
    "möglich ist.\n",
    "\n",
    "Der Rechenaufwand ist nicht zu verwechseln mit der Rechenzeit auf einem\n",
    "konkreten Computer. Die Komplexität eines Algorithmus soll unabhängig von einem\n",
    "konkreten Rechner beurteilt werden können. Aus diesem Grund wird die Komplexität\n",
    "anhand der erforderlichen Rechenschritte in Abhängigkeit von der zu\n",
    "verarbeitenden Datenmenge gemessen.  \n",
    "Der Rechenaufwand in Abhängigkeit der Eingabgrösse kann dabei in folgende\n",
    "Klassen eingeteilt werden:\n",
    "\n",
    "* konstant: $\\mathcal{O}(1)$\n",
    "* logarithmisch: $\\mathcal{O}(\\log n)$\n",
    "* linear: $\\mathcal{O}(n)$\n",
    "* quadratisch: $\\mathcal{O}(n^2)$\n",
    "* exponentiell: $\\mathcal{O}(2^n)$\n",
    "\n",
    "Die ersten vier Klassen werden als polynomiell bezeichnet und gelten in der\n",
    "Praxis als effizient, d.h. lösbar. Die Klasse der exponentiellen Algorithmen\n",
    "gilt als nicht effizient. Das heisst nicht, dass exponentielle Algorithmen\n",
    "theoretisch nicht berechenbar sind, ihr Rechenaufwand ist allerdings so gross,\n",
    "dass sie für grosse Eingaben nicht praktikabel sind."
   ]
  },
  {
   "cell_type": "markdown",
   "metadata": {},
   "source": [
    "Weshalb das so ist, zeigen die folgenden beiden Grafiken. Sie zeigen links die\n",
    "das Wachstum der Rechenzeit in Abhängigkeit von der Eingabegrösse bis zu $n=5$\n",
    "und rechts bis zu $n=50$. Wobei anzumerken ist, dass 50 noch keine grosse\n",
    "Eingabe ist."
   ]
  },
  {
   "cell_type": "code",
   "execution_count": 1,
   "metadata": {
    "tags": [
     "hide-input"
    ]
   },
   "outputs": [],
   "source": [
    "import numpy as np\n",
    "import matplotlib.pyplot as plt\n",
    "\n",
    "x = np.arange(0, 50, 1)\n",
    "y_konst = np.ones(len(x), dtype=int)\n",
    "y_lin = x\n",
    "y_log = np.log(x + 1)  # Avoid log(0) by adding 1\n",
    "y_quad = x**2\n",
    "y_exp = 2**x\n",
    "\n",
    "x_klein = np.arange(0, 5, 0.1)\n",
    "y_klein_konst = np.ones(len(x_klein), dtype=int)\n",
    "y_klein_lin = x_klein\n",
    "y_klein_log = np.log(x_klein + 1)  # Avoid log(0) by adding 1\n",
    "y_klein_quad = x_klein**2\n",
    "y_klein_exp = 2**x_klein\n",
    "\n",
    "cm = 1/2.54  # centimeters in inches\n",
    "fig, (ax1, ax2) = plt.subplots(1, 2, figsize=(15, 7.5))\n",
    "\n",
    "fig.suptitle('Komplexität von Algorithmen')\n",
    "\n",
    "ax1.set_title(r'$n=5$') \n",
    "\n",
    "ax1.plot(x_klein, y_klein_konst, label=r'$\\mathcal{O}(1)$', color='red')\n",
    "ax1.plot(x_klein, y_klein_log, label=r'$\\mathcal{O}(\\log n)$', color='orange')\n",
    "ax1.plot(x_klein, y_klein_lin, label=r'$\\mathcal{O}(n)$', color='blue')\n",
    "ax1.plot(x_klein, y_klein_quad, label=r'$\\mathcal{O}(n^2)$', color='green')\n",
    "ax1.plot(x_klein, y_klein_exp, label=r'$\\mathcal{O}(2^n)$', color='purple')\n",
    "\n",
    "ax1.legend()\n",
    "ax1.set_xlabel(r'$n$')\n",
    "ax1.set_ylabel(r'$f(n)$')\n",
    "\n",
    "ax2.set_title(r'$n=50$')\n",
    "\n",
    "ax2.plot(x, y_konst, label=r'$\\mathcal{O}(1)$', color='red')\n",
    "ax2.plot(x, y_log, label=r'$\\mathcal{O}(\\log n)$', color='orange')\n",
    "ax2.plot(x, y_lin, label=r'$\\mathcal{O}(n)$', color='blue')\n",
    "ax2.plot(x, y_quad, label=r'$\\mathcal{O}(n^2)$', color='green')\n",
    "ax2.plot(x, y_exp, label=r'$\\mathcal{O}(2^n)$', color='purple')\n",
    "\n",
    "ax2.legend()\n",
    "ax2.set_xlabel(r'$n$')\n",
    "ax2.set_ylabel(r'$f(n)$')\n",
    "\n",
    "plt.savefig('complexity.svg')\n",
    "plt.show()\n"
   ]
  },
  {
   "cell_type": "markdown",
   "metadata": {},
   "source": [
    "## Anwendung auf die Graphenverschlüsselung"
   ]
  },
  {
   "cell_type": "markdown",
   "metadata": {},
   "source": [
    "Die Verschlüsselung mit Hilfe eines Graphen (wie im Unterricht besprochen)\n",
    "weist für die Verschlüsselung eine Komplexität von $\\mathcal{O}(n^2)$ auf, wobei\n",
    "$n$ die Anzahl Knoten im Graphen ist. Dies ergibt sich aus der Notwendigkeit,\n",
    "für jeden Knoten die Summe seiner Nachbarn zu berechnen. Die Entschlüsselung im\n",
    "Gegensatz dazu hat eine Komplexität von mindestens $\\mathcal{O}(n^3)$. Das\n",
    "Gleichungssystem für die Entschlüsselung ohne kenntnis der Hintertür wächst mit\n",
    "der Anzahl Knoten im Graphen. Die genaue Komplexität hängt dabei von der\n",
    "konkreten Ausgestaltung des Graphen ab.\n",
    "\n",
    "Dies macht die Graphenverschlüsselung bei genügend grossem Graphen manuell nicht\n",
    "mehr entschlüsselbar. Da die Lösung von Gleichungssystem in polinomieller Zeit\n",
    "möglich ist, ist die Entschlüsselung mit Hilfe eines Computers nach wie vor\n",
    "möglich.  \n",
    "Die Verschlüsselung mit einem Graphen ist so wie beschrieben nicht als sicher zu\n",
    "bezeichnen.\n",
    "\n",
    "Um sichere Verfahren für die Public-Key-Kryptographie zu finden, sind daher\n",
    "andere Ansätze erforderlich. Diese basieren in der Regel auf Grundlagen der\n",
    "Zahlentheorie. "
   ]
  },
  {
   "cell_type": "markdown",
   "metadata": {},
   "source": [
    "## Der RSA-Algorithmus"
   ]
  },
  {
   "cell_type": "markdown",
   "metadata": {},
   "source": [
    "Ein Public-Key-Kryptosystem, das den Anforderungen an ein sicheres Verfahren\n",
    "genügt, ist das RSA-Verfahren. Benannt ist das Verfahren nach den drei Erfindern\n",
    "Ron **R**ivest, Adi **S**hamir und Leonard **A**dleman. Es wurde 1977\n",
    "veröffentlicht und ist bis heute eines der sichersten Verfahren.\n",
    "\n",
    "Die Sicherheit des RSA-Verfahrens basiert auf der Komplexität der\n",
    "Primfaktorzerlegung grosser Zahlen. Die Primfaktorzerlegung zeichnet sich dadurch aus, dass die\n",
    "Schwierigkeit der Zerlegung exponentiell mit der Grösse der zu faktorisierenden\n",
    "Zahl zunimmt. Während es relativ einfach ist, zwei große Primzahlen zu\n",
    "multiplizieren, ist es ausserordentlich rechenintensiv, den umgekehrten Weg zu\n",
    "gehen und das Produkt wieder in seine Primfaktoren zu zerlegen. Noch 2020\n",
    "brauchte die Faktorisierung einer RSA-250-Zahl (eine Zahl die in ihrer binären\n",
    "Darstellung eine Länge von 250 Bit aufweist) etwa 2'700 CPU-Jahre an\n",
    "Rechenleistung.  \n",
    "Der aktuell effizienteste klassische Algorithmus, das \"General Number Field\n",
    "Sieve\" (GNFS), weist Laufzeitkomplexität von\n",
    "$\\mathcal{O}(e^{\\sqrt[3]{\\frac{64}{9}}+o(1)(ln(N))^{\\frac{1}{3}}(ln(ln(N)))^{\\frac{2}{3}}})$\n",
    "wobei $N$ die zu faktorisierende Zahl ist, auf. Entscheidend an dieser Formel\n",
    "ist für die Besprechung des RSA-Algorithmums nur, dass die Zahl im Exponent\n",
    "vorkommt. Dies zeigt mit Blick auf die oben abgebildeten Graphen den grossen\n",
    "Rechenaufwand. Bis heute wurde kein effizienter Algorithmus gefunden, der grosse\n",
    "Zahlen in polynomieller Zeit faktorisieren kann. Damit ist des RSA-Verfahrens mit den\n",
    "derzeit verfügbaren klassischen Computersystemen sicher. "
   ]
  },
  {
   "cell_type": "markdown",
   "metadata": {},
   "source": [
    "Für die Anwendung des RSA-Verfahrens muss als erstes ein Paar von Primzahlen $p$\n",
    "und $q$ miteinander multipliziert werden. Das Produkt $n = p \\cdot q$ ist der\n",
    "sog. RSA-Modul. Damit das Verfahren sicher ist, müssen $p$ und $q$ genügend gross\n",
    "gewählt werden. Die Sicherheit des Verfahrens hängt von der Grösse der Primzahlen\n",
    "ab. Damit das Verfahren sicher ist, müssen die Primzahlen mindestens 1024 Bit\n",
    "lang sein.\n",
    "\n",
    "In einem zweiten Schritt ist eine Zahl $e$ zu wählen. Die Zahl $e$ muss\n",
    "die folgende Bedingung erfüllen: $1 < e < (p-1)(q-1)$ und $e$ muss teilerfremd\n",
    "zu $(p-1)(q-1)$ sein. Die Zahl $e$ ist der sog. Verschlüsslungsexponent.\n",
    "Zusammen mit dem RSA-Modul $n$ bildet sie den öffentlichen Schlüssel.\n"
   ]
  },
  {
   "cell_type": "markdown",
   "metadata": {},
   "source": [
    "Um eine Zahl zu verschlüsseln, wird die folgende Berechnung durchgeführt:\n",
    "\n",
    "$$\n",
    "c = m^e\\mod n\n",
    "$$\n",
    "\n",
    "wobei $m$ (\"message\") die zu verschlüsselnde Zahl und $c$ (\"cipher\") die\n",
    "verschlüsselte Zahl ist."
   ]
  },
  {
   "cell_type": "markdown",
   "metadata": {},
   "source": [
    "Zur Entschlüsslelung wird der sog. Entschlüsselungsexponent $d$ benötigt.\n",
    "\n",
    "Dieser Berechnet sich mit Hilfe des erweiterten Euklidschen Algorithmus. Dieser\n",
    "besagt allgein:\n",
    "\n",
    "$$\n",
    "ggT(a,b) = pa + sb\n",
    "$$\n",
    "\n",
    "Um $p$ und $s$ zu berechnen, wird zunächst $ggT(a,b)$ mit dem Euklidschen\n",
    "Algorithmus berechnet. Dabei werden die Anzahl Schritte mit $n$ bezeichnet. Mit\n",
    "diesen Bezeichnunge werden zwei Zahlenfolgen $\\{p_k\\}$ und $\\{s_k\\}$ berechnet.\n",
    "Dabei geht man folgendermassen vor:\n",
    "\n",
    "* Man setzt $p_0 = 1$, $p_1 = 0$, $s_0 = 0$ und $s_1 = 1$.\n",
    "* Für $k = 2, 3, \\ldots, n$ berechnet man\n",
    "  \n",
    "  $p_k = p_{k−2} − q_{k−1}\\cdot p_{k−1}$    \n",
    "  und      \n",
    "  $s_k = s_{k−2} − q_{k−1}\\cdot s_{k−1}$\n",
    "\n",
    "Dies führt zur gesuchten Zerlegung $ggT(a, b) = p_n \\cdot a + s_n \\cdot b$.\n",
    "\n",
    "Falls $s_n > 0\\ |\\ d = s_n$, andernfalls ist $d = s_n + (p-1)(q-1)$.\n",
    "\n",
    "Zusammen mit dem RSA-Modul $n$ bildet $d$ den privaten Schlüssel.\n",
    "\n",
    "Die Entschlüsselung erfolgt mit der Formel:\n",
    "\n",
    "$$\n",
    "t = c^d \\mod n\n",
    "$$"
   ]
  },
  {
   "cell_type": "markdown",
   "metadata": {},
   "source": [
    "Der RSA-Algorithmus wird in der Praxis oft in Kombination mit weiteren Verfahren\n",
    "angewendet. Er dient beispielsweis zur Übertragung eines symmetrischen\n",
    "Sitzungsschlüssels bei einer HTTPS Übertragung im Internet."
   ]
  },
  {
   "cell_type": "markdown",
   "metadata": {},
   "source": [
    "## Zahlenbeispiel\n",
    "\n",
    "### Codierung des Klartextes\n",
    "\n",
    "Als Beispiel soll die Buchstabenfolge \"KBW\" mit RSA verschlüsselt werden.  \n",
    "Die Buchstabenfolge wird dazu als Zahl codiert. Die Codierung erfolgt mit Hilfe\n",
    "der ASCII-Tabelle. \"KBW\" wird so mit 75, 66 und 87 codiert. Weil die\n",
    "ASCII-Codierung für Buchstaben bis zu dreistellige Dezimalzahlen verwendet,\n",
    "werden die zweistelligen Zahlen mit einer führenden Null versehen. Anschliessend\n",
    "werden die drei Codierungen als eine Zahl geschrieben. Die Buchstabenfolge\n",
    "\"KBW\" wird so als Zahl 075606087 dargestellt."
   ]
  },
  {
   "cell_type": "markdown",
   "metadata": {},
   "source": [
    "### Erstellen des Schlüsselpaares\n",
    "\n",
    "Für das Zahlenbeispiel werden Zahlen verwendet, die bezüglich der Grösse nicht\n",
    "den Anforderungen an ein sicheres RSA-Verfahren genügen. Sie dienen nur als\n",
    "nachvollziehbares Beispiel.\n",
    "\n",
    "Die Primzahlen $p$ und $q$ sind 11 und 13. Das RSA-Modul $p \\cdot q = n$ ist\n",
    "143. Als Zahl $e$ wird die 7 gewählt. Die Zahl $e$ ist teilerfremd zu\n",
    "$(p-1)(q-1) = 120$. Damit ist der öffentliche Schlüssel $(n, e) = (143, 7)$."
   ]
  },
  {
   "cell_type": "markdown",
   "metadata": {},
   "source": [
    "Die Zahl $d$ wird mit Hilfe des erweiterten Euklidschen Algorithmus berechnet.\n",
    "Die Berechnung des ggT(7, 120) ergibt 1. Für die Berechnung von $d$ werden\n",
    "allerdings die Zwischenschritte benötigt. Deshalb wird hier der Algorithmus\n",
    "vollständig dargestellt.\n",
    "\n",
    "$$\n",
    "\\begin{alignat*}{4}\n",
    "&a&&=\\ &&q&&\\cdot b + r\\\\\n",
    "&120&&=\\ &&17&&\\cdot 7 + 1\\\\\n",
    "&7&&=\\ &&7&&\\cdot 1 + 0\\\\\n",
    "\\end{alignat*}\n",
    "$$"
   ]
  },
  {
   "cell_type": "markdown",
   "metadata": {},
   "source": [
    "Mit dem erweiterten Euklidschen Algorithmus erhält man für $p$ den Wert von 1:\n",
    "\n",
    "$$\n",
    "\\begin{alignat*}{3}\n",
    "&p_0 =\\ &&1&&\\\\\n",
    "&p_1 =\\ &&0&&\\\\\n",
    "&p_2 =\\ &&p_0 - q_1 \\cdot p_1&&= 1 - 17 \\cdot 0 = 1\\\\\n",
    "\\end{alignat*}\n",
    "$$\n",
    "\n",
    "Für $s$ erhält man den Wert von -17:\n",
    "\n",
    "$$\n",
    "\\begin{alignat*}{3}\n",
    "&s_0 =\\ &&0&&\\\\\n",
    "&s_1 =\\ &&1&&\\\\\n",
    "&s_2 =\\ &&s_0 - q_1 \\cdot s_1&&= 0 - 17 \\cdot 1 = -17\\\\\n",
    "\\end{alignat*}\n",
    "$$\n",
    "\n",
    "Das Resultat kann durch Einsetzen überprüft werden:\n",
    "\n",
    "$$\n",
    "ggT(120, 7) = 1 = 1 \\cdot 120 + (-17) \\cdot 7\n",
    "$$\n",
    "\n",
    "Weil $s_2$ negativ ist, wird $d = s_2 + (p-1)(q-1) = -17 + 120 = 103$. Der\n",
    "private Schlüssel ist $(n, d) = (143, 103)$. "
   ]
  },
  {
   "cell_type": "markdown",
   "metadata": {},
   "source": [
    "### Verschlüsseln des Klartextes\n",
    "\n",
    "Die Verschlüsselung mit dem öffentlichen Schlüssel $(n, e) = (143, 7)$ erfolgt mit der\n",
    "Formel:\n",
    "\n",
    "$$\n",
    "c = m^e \\mod n\n",
    "$$\n",
    "\n",
    "Python stellt für diese Berechnung eine eigene Funktion zur Verfügung. Die\n",
    "Funktion `pow`. Diese Funktion berechnet die Potenz von $m$ mit dem Exponenten\n",
    "$e$ und dem Modul $n$. Die Syntax lautet entsprechend `pow(m, e, n)`.\n",
    "\n",
    "Da die zu verschlüsselnde Zahl kleiner als das RSA-Modul sein muss, wird der\n",
    "Text Buchstabenweise verschlüsselt."
   ]
  },
  {
   "cell_type": "code",
   "execution_count": 6,
   "metadata": {
    "tags": [
     "hide-input"
    ]
   },
   "outputs": [
    {
     "name": "stdout",
     "output_type": "stream",
     "text": [
      "K: 75\n",
      "B: 66\n",
      "W: 87\n",
      "K_c: pow(75, 7, 143) = 114\n",
      "B_c: pow(66, 7, 143) = 66\n",
      "W_c: pow(87, 7, 143) = 87\n"
     ]
    }
   ],
   "source": [
    "print(f'K: {ord('K')}')\n",
    "print(f'B: {ord('B')}')\n",
    "print(f'W: {ord('W')}')\n",
    "print(f'K_c: pow(75, 7, 143) = {pow(75, 7, 143)}')\n",
    "print(f'B_c: pow(66, 7, 143) = {pow(66, 7, 143)}')\n",
    "print(f'W_c: pow(87, 7, 143) = {pow(87, 7, 143)}')"
   ]
  },
  {
   "cell_type": "markdown",
   "metadata": {},
   "source": [
    "Diese Berechnung zeigt, dass die Codierung von B und W auf sich selber\n",
    "abgebildet wird. Für eine Verschlüsselung ist dies nicht brauchbar. Für die\n",
    "konkrete Implementierung kann diesem Phänomen auf zwei Arten begegnet werden:\n",
    "\n",
    "* Man sucht ein neues $e$ und $d$, die zu einer anderen Abbildung\n",
    "  führen.\n",
    "* Man addiert einen fixen Wert zur Codierung und verschlüsselt diese Summe. Nach\n",
    "  der Entschlüsselung wird der fixe Wert wieder abgezogen.\n",
    "\n",
    "In diesem Beispiel wird die zweite Variante gewählt. Der fixe Wert ist 10."
   ]
  },
  {
   "cell_type": "code",
   "execution_count": 7,
   "metadata": {
    "tags": [
     "hide-input"
    ]
   },
   "outputs": [
    {
     "name": "stdout",
     "output_type": "stream",
     "text": [
      "K + 10: 85\n",
      "B + 10: 76\n",
      "W + 10: 97\n",
      "K_c: pow(75 + 10, 7, 143) = 123\n",
      "B_c: pow(66 + 10, 7, 143) = 54\n",
      "W_c: pow(87 + 10, 7, 143) = 59\n"
     ]
    }
   ],
   "source": [
    "print(f'K + 10: {ord('K') + 10}')\n",
    "print(f'B + 10: {ord('B') + 10}')\n",
    "print(f'W + 10: {ord('W') + 10}')\n",
    "print(f'K_c: pow(75 + 10, 7, 143) = {pow(75 + 10, 7, 143)}')\n",
    "print(f'B_c: pow(66 + 10, 7, 143) = {pow(66 + 10, 7, 143)}')\n",
    "print(f'W_c: pow(87 + 10, 7, 143) = {pow(87 + 10, 7, 143)}')"
   ]
  },
  {
   "cell_type": "markdown",
   "metadata": {},
   "source": [
    "### Entschlüsseln des Geheimtextes\n",
    "\n",
    "Die Entschlüsselung mit dem privaten Schlüssel $(n, d) = (143, 103)$ erfolgt mit der\n",
    "Formel:\n",
    "\n",
    "$$\n",
    "t = c^d \\mod n\n",
    "$$"
   ]
  },
  {
   "cell_type": "code",
   "execution_count": 8,
   "metadata": {
    "tags": [
     "hide-input"
    ]
   },
   "outputs": [
    {
     "name": "stdout",
     "output_type": "stream",
     "text": [
      "K_c: 123\n",
      "B_c: 54\n",
      "W_c: 59\n",
      "K: pow(123, 103, 143) - 10 = 75\n",
      "B: pow(54, 103, 143) - 10 = 66\n",
      "W: pow(59, 103, 143) - 10 = 87\n"
     ]
    }
   ],
   "source": [
    "print(f'K_c: 123')\n",
    "print(f'B_c: 54')\n",
    "print(f'W_c: 59')\n",
    "print(f'K: pow(123, 103, 143) - 10 = {pow(123, 103, 143) - 10}')\n",
    "print(f'B: pow(54, 103, 143) - 10 = {pow(54, 103, 143) - 10}')\n",
    "print(f'W: pow(59, 103, 143) - 10 = {pow(59, 103, 143) - 10}')"
   ]
  }
 ],
 "metadata": {
  "kernelspec": {
   "display_name": ".venv",
   "language": "python",
   "name": "python3"
  },
  "language_info": {
   "codemirror_mode": {
    "name": "ipython",
    "version": 3
   },
   "file_extension": ".py",
   "mimetype": "text/x-python",
   "name": "python",
   "nbconvert_exporter": "python",
   "pygments_lexer": "ipython3",
   "version": "3.13.1"
  }
 },
 "nbformat": 4,
 "nbformat_minor": 2
}