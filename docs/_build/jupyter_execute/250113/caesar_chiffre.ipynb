{
 "cells": [
  {
   "cell_type": "markdown",
   "metadata": {},
   "source": [
    "# Caesar Chiffre"
   ]
  },
  {
   "cell_type": "code",
   "execution_count": 1,
   "metadata": {},
   "outputs": [],
   "source": [
    "import string\n",
    "import datetime"
   ]
  },
  {
   "cell_type": "code",
   "execution_count": 2,
   "metadata": {},
   "outputs": [],
   "source": [
    "abc = [char for char in string.ascii_lowercase]"
   ]
  },
  {
   "cell_type": "code",
   "execution_count": 3,
   "metadata": {},
   "outputs": [],
   "source": [
    "shift = 12"
   ]
  },
  {
   "cell_type": "code",
   "execution_count": 4,
   "metadata": {},
   "outputs": [],
   "source": [
    "abc_vorn = abc[0:shift]\n",
    "abc_hinten = abc[shift:len(abc)]\n",
    "abc_geheim = abc_hinten + abc_vorn\n",
    "\n",
    "chiffrier_tabelle = {}\n",
    "\n",
    "for i in range(len(abc)):\n",
    "    chiffrier_tabelle[abc[i]] = abc_geheim[i] \n",
    "    \n",
    "test_text = 'hello world'"
   ]
  },
  {
   "cell_type": "code",
   "execution_count": 5,
   "metadata": {},
   "outputs": [
    {
     "data": {
      "text/plain": [
       "'tqxxaiadxp'"
      ]
     },
     "execution_count": 5,
     "metadata": {},
     "output_type": "execute_result"
    }
   ],
   "source": [
    "geheim_text = ''\n",
    "\n",
    "for bst in test_text:\n",
    "    for key, value in chiffrier_tabelle.items():\n",
    "        if key == bst:\n",
    "            geheim_text += value\n",
    "            \n",
    "geheim_text"
   ]
  },
  {
   "cell_type": "code",
   "execution_count": 6,
   "metadata": {},
   "outputs": [],
   "source": [
    "dechiffrier_tabelle = {}"
   ]
  },
  {
   "cell_type": "code",
   "execution_count": 7,
   "metadata": {},
   "outputs": [
    {
     "data": {
      "text/plain": [
       "{'m': 'a',\n",
       " 'n': 'b',\n",
       " 'o': 'c',\n",
       " 'p': 'd',\n",
       " 'q': 'e',\n",
       " 'r': 'f',\n",
       " 's': 'g',\n",
       " 't': 'h',\n",
       " 'u': 'i',\n",
       " 'v': 'j',\n",
       " 'w': 'k',\n",
       " 'x': 'l',\n",
       " 'y': 'm',\n",
       " 'z': 'n',\n",
       " 'a': 'o',\n",
       " 'b': 'p',\n",
       " 'c': 'q',\n",
       " 'd': 'r',\n",
       " 'e': 's',\n",
       " 'f': 't',\n",
       " 'g': 'u',\n",
       " 'h': 'v',\n",
       " 'i': 'w',\n",
       " 'j': 'x',\n",
       " 'k': 'y',\n",
       " 'l': 'z'}"
      ]
     },
     "execution_count": 7,
     "metadata": {},
     "output_type": "execute_result"
    }
   ],
   "source": [
    "for key, value in chiffrier_tabelle.items():\n",
    "    dechiffrier_tabelle[value] = key\n",
    "    \n",
    "dechiffrier_tabelle"
   ]
  },
  {
   "cell_type": "code",
   "execution_count": 8,
   "metadata": {},
   "outputs": [
    {
     "data": {
      "text/plain": [
       "'helloworld'"
      ]
     },
     "execution_count": 8,
     "metadata": {},
     "output_type": "execute_result"
    }
   ],
   "source": [
    "entschluesselter_text = ''\n",
    "\n",
    "for bst in geheim_text:\n",
    "    for key, value in dechiffrier_tabelle.items():\n",
    "        if bst == key:\n",
    "            entschluesselter_text += value\n",
    "            \n",
    "entschluesselter_text"
   ]
  },
  {
   "cell_type": "code",
   "execution_count": 9,
   "metadata": {},
   "outputs": [],
   "source": [
    "def shift(key: int) -> dict:\n",
    "    '''Die Funktion erstellt ein um den Wert key (bzw. key mod) \n",
    "    verschobenes Dictionary für lateinische Kleinbuchstaben.'''\n",
    "    key = key % 26\n",
    "    \n",
    "    alphabet = [char for char in string.ascii_lowercase]\n",
    "    shifted_alphabet = alphabet[key:len(alphabet)] + alphabet[0:key]\n",
    "    \n",
    "    table = {}\n",
    "    \n",
    "    for i in range(len(alphabet)):\n",
    "        table[alphabet[i]] = shifted_alphabet[i]\n",
    "        \n",
    "    return table"
   ]
  },
  {
   "cell_type": "code",
   "execution_count": 10,
   "metadata": {},
   "outputs": [],
   "source": [
    "def crypto(text: string, key: int, encrypt:bool=True) -> str:\n",
    "    table = shift(key)\n",
    "    result = ''\n",
    "    for char in text:\n",
    "        for key, value in table.items():\n",
    "            if encrypt:\n",
    "                if char == key:\n",
    "                    result += value\n",
    "            else:\n",
    "                if char == value:\n",
    "                    result += key\n",
    "    return result"
   ]
  },
  {
   "cell_type": "code",
   "execution_count": 11,
   "metadata": {},
   "outputs": [],
   "source": [
    "def text_cleaning(text: str) -> str:\n",
    "    text = text.lower()\n",
    "    text = text.replace('ä', 'ae')\n",
    "    text = text.replace('ö', 'oe')\n",
    "    text = text.replace('ü', 'ue')\n",
    "    \n",
    "    return text\n",
    "    "
   ]
  },
  {
   "cell_type": "code",
   "execution_count": 12,
   "metadata": {},
   "outputs": [],
   "source": [
    "def text_reader(path: str) -> str:\n",
    "    with open(path, 'r', encoding='utf-8') as file:\n",
    "        lines = [line.rstrip() for line in file]\n",
    "        \n",
    "        text = ''\n",
    "        for line in lines:\n",
    "            text += line\n",
    "            \n",
    "    return text"
   ]
  },
  {
   "cell_type": "code",
   "execution_count": 13,
   "metadata": {},
   "outputs": [],
   "source": [
    "def text_writer(text: str, path:str=''):\n",
    "    output_text = ''\n",
    "    for i in range(len(text)):\n",
    "        if i % 72 == 0:\n",
    "            output_text += '\\n'\n",
    "            output_text += text[i]\n",
    "        else:\n",
    "            output_text += text[i]\n",
    "            \n",
    "    now = datetime.datetime.now()\n",
    "    date_string = now.strftime(\"%Y%m%d_%H-%M-%S\") + f'-{now.microsecond}'\n",
    "    file_name = f'{date_string}_output.txt'\n",
    "    \n",
    "    with open(file_name, 'w', encoding='utf-8') as file:\n",
    "        file.write(output_text)     "
   ]
  },
  {
   "cell_type": "code",
   "execution_count": 14,
   "metadata": {},
   "outputs": [],
   "source": [
    "def caesar(input_file: str, shift: int, encryption: bool= True) -> None:\n",
    "    text = text_reader(input_file)\n",
    "    text = text_cleaning(text)\n",
    "    text = crypto(text, shift)\n",
    "    text_writer(text)"
   ]
  }
 ],
 "metadata": {
  "kernelspec": {
   "display_name": "venv",
   "language": "python",
   "name": "python3"
  },
  "language_info": {
   "codemirror_mode": {
    "name": "ipython",
    "version": 3
   },
   "file_extension": ".py",
   "mimetype": "text/x-python",
   "name": "python",
   "nbconvert_exporter": "python",
   "pygments_lexer": "ipython3",
   "version": "3.13.1"
  }
 },
 "nbformat": 4,
 "nbformat_minor": 2
}