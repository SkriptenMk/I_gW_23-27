{
 "cells": [
  {
   "cell_type": "markdown",
   "metadata": {},
   "source": [
    "# Anwendungsübungen zum RSA Algorithmus"
   ]
  },
  {
   "cell_type": "markdown",
   "metadata": {},
   "source": [
    "## Aufgabe 1"
   ]
  },
  {
   "cell_type": "markdown",
   "metadata": {},
   "source": [
    "Erstellen Sie ein Schlüsselpaar für die Verschlüsselung mit RSA, mit dem Sie\n",
    "dreistellige Zahlen verschlüsseln können."
   ]
  },
  {
   "cell_type": "markdown",
   "metadata": {},
   "source": [
    "```{admonition} Mögliche Lösung\n",
    ":class: tip, dropdown\n",
    "Damit eine dreistellige Zahl verschlüsselt werden kann, muss das RSA-Modul\n",
    "grösser als 1'000 sein. Es müssen also zwei Primzahlen $p$ und $q$ gefunden\n",
    "werden, die etwas grösser als $\\sqrt{1000}$ sind. Eine Hilfe für das Finden von\n",
    "Primzahlen ist zum Beispiel die Seite\n",
    "\"[Die\n",
    "Primzahlenseite](https://www.arndt-bruenner.de/mathe/scripts/primzahlen.htm)\".\n",
    "\n",
    "Für das Beispiel werden die Primzahlen $p = 37$ und $q = 41$ gewählt. Das RSA-Modul\n",
    "ist dann $n = p \\cdot q = 37 \\cdot 41 = 1517$.  \n",
    "Für die Verschlüsselung wird der öffentliche Exponent $e = 17$ gewählt.\n",
    "\n",
    "Für die Berechnung des privaten Exponenten $d$ wird der erweiterte Euklidsche\n",
    "Algorithmus verwendet. Dazu wird in einer ersten Phase der $ggT((p-1) \\cdot\n",
    "(q-1), e)$ berechnet. In einer zweiten Phase wird $s$ aus der Gleichung $ggT((p-1) \\cdot\n",
    "(q-1), e) = p \\cdot (p-1) \\cdot (q-1) + s \\cdot e$ als $d$ berechnet.\n",
    "\n",
    "Phase 1:\n",
    "\n",
    "$$\n",
    "\\begin{aligned}\n",
    "a&=q \\cdot b + r\\\\\n",
    "1440&=84 \\cdot 17 + 12\\\\\n",
    "17&=1 \\cdot 12 + 5\\\\\n",
    "12&=2 \\cdot 2 + 1\\\\\n",
    "2&=2 \\cdot 1 + 0\\\\\n",
    "\\end{aligned}\n",
    "$$\n",
    "\n",
    "Phase 2:\n",
    "\n",
    "$$\n",
    "\\begin{alignat*}{3}\n",
    "&S_0 &&= 0&&\\\\\n",
    "&S_1 &&= 1&&\\\\\n",
    "&S_2 &&= S_0 - q_1 \\cdot S_1 = 0 - 84 \\cdot 1 &&= -84\\\\\n",
    "&S_3 &&= S_1 - q_2 \\cdot S_2 = 1 - 1 \\cdot (-84) &&= 85\\\\\n",
    "&S_4 &&= S_2 - q_3 \\cdot S_3 = -84 - 2 \\cdot 85 &&= -254\\\\\n",
    "&S_5 &&= S_3 - q_4 \\cdot S_4 = 85 - 2 \\cdot (-254) &&= 593\\\\\n",
    "\\end{alignat*}\n",
    "$$\n",
    "\n",
    "Der private Exponent ist $d = 593$.\n",
    "```"
   ]
  },
  {
   "cell_type": "markdown",
   "metadata": {},
   "source": [
    "## Aufgabe 2"
   ]
  },
  {
   "cell_type": "markdown",
   "metadata": {},
   "source": [
    "Codieren Sie einen einfachen Drei-Wort-Satz (z.B. \"Die Katze schläft\") mit Hilfe\n",
    "der ASCII- bzw. Unicode-Tabelle. Sie können dabezi entweder die Unicode-Tabelle\n",
    "zu Hilfe nehmen oder die Python Funktion `ord()` verwenden.  \n",
    "Achten Sie darauf, dass Sie bei Buchstaben mit eienem zweistelligen ASCII-Wert\n",
    "eine führende Null voranstellen."
   ]
  },
  {
   "cell_type": "code",
   "execution_count": 1,
   "metadata": {
    "tags": [
     "hide-cell"
    ]
   },
   "outputs": [
    {
     "name": "stdout",
     "output_type": "stream",
     "text": [
      "068 105 101 032 075 097 116 122 101 032 115 099 104 108 228 102 116 046\n"
     ]
    }
   ],
   "source": [
    "def text_codierer(text: str) -> str:\n",
    "    \"\"\"\n",
    "    Kodiert einen Text in eine numerische Darstellung.\n",
    "\n",
    "    Diese Funktion wandelt jeden Buchstaben des Eingabetextes in seine ASCII-\n",
    "    numerische Darstellung um. Dabei wird sichergestellt, dass jede Zahl\n",
    "    mindestens zweistellig ist, indem bei Bedarf führende Nullen hinzugefügt\n",
    "    werden. Die resultierende Zahlenfolge wird formatiert, sodass nach jeweils\n",
    "    drei Zeichen ein Leerzeichen und nach jeweils fünfzehn Zeichen ein\n",
    "    Zeilenumbruch eingefügt wird.\n",
    "\n",
    "    Args:\n",
    "        text (str): Der zu kodierende Eingabetext.\n",
    "\n",
    "    Returns:\n",
    "        str: Der kodierte Text als formatierte Zahlenfolge.\n",
    "\n",
    "    Beispiel:\n",
    "        >>> text_codierer(\"Hallo\")\n",
    "        '072 097 108 108 111'\n",
    "        \n",
    "        >>> text_codierer(\"ABC123\")\n",
    "        '065 066 067 049 050 051'\n",
    "\n",
    "    Hinweise:\n",
    "        - Jedes Zeichen wird in seinen ASCII-Wert umgewandelt\n",
    "        - Zahlen unter 100 werden mit einer führenden Null aufgefüllt\n",
    "        - Alle drei Ziffern wird ein Leerzeichen eingefügt\n",
    "        - Alle fünfzehn Ziffern wird ein Zeilenumbruch eingefügt\n",
    "        - Führende und nachfolgende Leerzeichen werden entfernt\n",
    "    \"\"\"\n",
    "    # Initialisiere leeren String für die ASCII-Codes\n",
    "    code = \"\"\n",
    "    \n",
    "    # Wandle jeden Buchstaben in seinen ASCII-Wert um\n",
    "    for char in text:\n",
    "        # Ermittle den ASCII-Wert des aktuellen Zeichens\n",
    "        nr = ord(char)\n",
    "        # Füge eine führende Null hinzu, falls der ASCII-Wert kleiner als 100 ist\n",
    "        if nr <= 99:\n",
    "            code += \"0\"\n",
    "        code += str(nr)\n",
    "    \n",
    "    # Initialisiere leeren String für das formatierte Ergebnis\n",
    "    resultat = \"\"\n",
    "    \n",
    "    # Füge Formatierung (Leerzeichen und Zeilenumbrüche) hinzu\n",
    "    for i in range(1, len(code)+1):\n",
    "        if i % 3 == 0 and i != 0:\n",
    "            # Füge nach jedem dritten Zeichen ein Leerzeichen ein\n",
    "            resultat += code[i-1] + \" \"\n",
    "        elif i % 15 == 0 and i != 0:\n",
    "            # Füge nach jedem fünfzehnten Zeichen einen Zeilenumbruch ein\n",
    "            resultat += code[i-1] + \"\\n\"\n",
    "        else:\n",
    "            # Füge das Zeichen ohne zusätzliche Formatierung hinzu\n",
    "            resultat += code[i-1]\n",
    "    \n",
    "    # Entferne überflüssige Leerzeichen am Anfang und Ende\n",
    "    return resultat.strip()\n",
    "\n",
    "# Beispielaufruf der Funktion\n",
    "text = \"Die Katze schläft.\"\n",
    "print(text_codierer(text))"
   ]
  },
  {
   "cell_type": "markdown",
   "metadata": {},
   "source": [
    "## Aufgabe 3"
   ]
  },
  {
   "cell_type": "markdown",
   "metadata": {},
   "source": [
    "Verschlüsseln Sie den Satz aus Aufgabe 2 mit dem RSA-Algorithmus.\n",
    "Verwenden Sie dazu den öffentlichen Schlüssel aus Aufgabe 1."
   ]
  },
  {
   "cell_type": "code",
   "execution_count": 2,
   "metadata": {},
   "outputs": [],
   "source": [
    "def rsa_verschluesseln(text: str, e: int, n: int) -> str:\n",
    "    pass\n",
    "    "
   ]
  },
  {
   "cell_type": "code",
   "execution_count": 3,
   "metadata": {},
   "outputs": [],
   "source": [
    "def erweiterter_euklid(a, b):\n",
    "    # Basisfall: wenn a = 0\n",
    "    if a == 0:\n",
    "        return b, 0, 1\n",
    "    \n",
    "    # Rekursiver Aufruf\n",
    "    gcd, x1, y1 = erweiterter_euklid(b % a, a)\n",
    "    \n",
    "    # Berechnung der Koeffizienten x und y\n",
    "    x = y1 - (b // a) * x1\n",
    "    y = x1\n",
    "    \n",
    "    return gcd, x, y"
   ]
  },
  {
   "cell_type": "code",
   "execution_count": 4,
   "metadata": {},
   "outputs": [],
   "source": [
    "def decryptor(a: int, b: int) -> int:\n",
    "    gcd, x, y = erweiterter_euklid(a, b)\n",
    "    if y < 0:\n",
    "        return y + a\n",
    "    else:\n",
    "        return y"
   ]
  },
  {
   "cell_type": "code",
   "execution_count": 5,
   "metadata": {},
   "outputs": [
    {
     "data": {
      "text/plain": [
       "593"
      ]
     },
     "execution_count": 5,
     "metadata": {},
     "output_type": "execute_result"
    }
   ],
   "source": [
    "decryptor((36*40), 17)"
   ]
  },
  {
   "cell_type": "code",
   "execution_count": null,
   "metadata": {},
   "outputs": [],
   "source": []
  }
 ],
 "metadata": {
  "kernelspec": {
   "display_name": ".venv",
   "language": "python",
   "name": "python3"
  },
  "language_info": {
   "codemirror_mode": {
    "name": "ipython",
    "version": 3
   },
   "file_extension": ".py",
   "mimetype": "text/x-python",
   "name": "python",
   "nbconvert_exporter": "python",
   "pygments_lexer": "ipython3",
   "version": "3.13.1"
  }
 },
 "nbformat": 4,
 "nbformat_minor": 2
}