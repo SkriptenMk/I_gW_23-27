{
 "cells": [
  {
   "cell_type": "markdown",
   "metadata": {},
   "source": [
    "# Anwendungsübungen zum RSA Algorithmus\n",
    "\n",
    "<a target=\"_blank\" href=\"https://colab.research.google.com/github/SkriptenMk/I_gW_23-27/blob/main/docs/250331/anwendung_rsa.ipynb\">\n",
    "  <img src=\"https://colab.research.google.com/assets/colab-badge.svg\" alt=\"Open In Colab\"/>\n",
    "</a>"
   ]
  },
  {
   "cell_type": "markdown",
   "metadata": {},
   "source": [
    "## Aufgabe 1"
   ]
  },
  {
   "cell_type": "markdown",
   "metadata": {},
   "source": [
    "Erstellen Sie ein Schlüsselpaar für die Verschlüsselung mit RSA, mit dem Sie\n",
    "dreistellige Zahlen verschlüsseln können."
   ]
  },
  {
   "cell_type": "markdown",
   "metadata": {},
   "source": [
    "```{admonition} Mögliche Lösung\n",
    ":class: tip, dropdown\n",
    "Damit eine dreistellige Zahl verschlüsselt werden kann, muss das RSA-Modul\n",
    "grösser als 1'000 sein. Es müssen also zwei Primzahlen $p$ und $q$ gefunden\n",
    "werden, die etwas grösser als $\\sqrt{1000}$ sind. Eine Hilfe für das Finden von\n",
    "Primzahlen ist zum Beispiel die Seite\n",
    "\"[Die\n",
    "Primzahlenseite](https://www.arndt-bruenner.de/mathe/scripts/primzahlen.htm)\".\n",
    "\n",
    "Für das Beispiel werden die Primzahlen $p = 37$ und $q = 41$ gewählt. Das RSA-Modul\n",
    "ist dann $n = p \\cdot q = 37 \\cdot 41 = 1517$.  \n",
    "Für die Verschlüsselung wird der öffentliche Exponent $e = 17$ gewählt.\n",
    "\n",
    "Für die Berechnung des privaten Exponenten $d$ wird der erweiterte Euklidsche\n",
    "Algorithmus verwendet. Dazu wird in einer ersten Phase der $ggT((p-1) \\cdot\n",
    "(q-1), e)$ berechnet. In einer zweiten Phase wird $s$ aus der Gleichung $ggT((p-1) \\cdot\n",
    "(q-1), e) = p \\cdot (p-1) \\cdot (q-1) + s \\cdot e$ als $d$ berechnet.\n",
    "\n",
    "Phase 1:\n",
    "\n",
    "$$\n",
    "\\begin{aligned}\n",
    "a&=q \\cdot b + r\\\\\n",
    "1440&=84 \\cdot 17 + 12\\\\\n",
    "17&=1 \\cdot 12 + 5\\\\\n",
    "12&=2 \\cdot 5 + 2\\\\\n",
    "2&=1 \\cdot 2 + 0\\\\\n",
    "\\end{aligned}\n",
    "$$\n",
    "\n",
    "Phase 2:\n",
    "\n",
    "$$\n",
    "\\begin{alignat*}{3}\n",
    "&S_0 &&= 0&&\\\\\n",
    "&S_1 &&= 1&&\\\\\n",
    "&S_2 &&= S_0 - q_1 \\cdot S_1 = 0 - 84 \\cdot 1 &&= -84\\\\\n",
    "&S_3 &&= S_1 - q_2 \\cdot S_2 = 1 - 1 \\cdot (-84) &&= 85\\\\\n",
    "&S_4 &&= S_2 - q_3 \\cdot S_3 = -84 - 2 \\cdot 85 &&= -254\\\\\n",
    "&S_5 &&= S_3 - q_4 \\cdot S_4 = 85 - 2 \\cdot (-254) &&= 593\\\\\n",
    "\\end{alignat*}\n",
    "$$\n",
    "\n",
    "Der private Exponent ist $d = 593$.\n",
    "```"
   ]
  },
  {
   "cell_type": "markdown",
   "metadata": {},
   "source": [
    "### Lösungen mit Hilfe von Funktionen"
   ]
  },
  {
   "cell_type": "code",
   "execution_count": 1,
   "metadata": {
    "tags": [
     "hide-cell"
    ]
   },
   "outputs": [],
   "source": [
    "def erweiterter_euklid(a: int, b: int) -> tuple[int, int, int]:\n",
    "    \"\"\"\n",
    "    Implementiert den erweiterten euklidischen Algorithmus zur Berechnung des GGT und der Bezout-Koeffizienten.\n",
    "    \n",
    "    Diese Funktion berechnet nicht nur den größten gemeinsamen Teiler (GGT) zweier Zahlen,\n",
    "    sondern auch die Bezout-Koeffizienten x und y, sodass gilt: ax + by = GGT(a,b)\n",
    "    \n",
    "    Args:\n",
    "        a (int): Erste Eingabezahl\n",
    "        b (int): Zweite Eingabezahl\n",
    "        \n",
    "    Returns:\n",
    "        tuple[int, int, int]: Ein Tupel (gcd, x, y), wobei:\n",
    "            - gcd: der größte gemeinsame Teiler von a und b\n",
    "            - x, y: die Bezout-Koeffizienten, für die gilt ax + by = gcd\n",
    "            \n",
    "    Example:\n",
    "        >>> erweiterter_euklid(35, 15)\n",
    "        (5, -1, 3)  # bedeutet: 35*(-1) + 15*3 = 5\n",
    "    \"\"\"\n",
    "    # Basisfall: Wenn a gleich 0 ist, ist b der GGT\n",
    "    # Die Koeffizienten sind dann 0 und 1, da: 0*a + 1*b = b\n",
    "    if a == 0:\n",
    "        return b, 0, 1\n",
    "    \n",
    "    # Rekursiver Aufruf mit dem Rest von b/a und a\n",
    "    # Dies reduziert das Problem schrittweise bis zum Basisfall\n",
    "    gcd, x1, y1 = erweiterter_euklid(b % a, a)\n",
    "    \n",
    "    # Berechnung der aktuellen Koeffizienten aus den rekursiv berechneten Werten\n",
    "    # Diese Formeln ergeben sich aus der Umformung der Bezout-Identität\n",
    "    x = y1 - (b // a) * x1  # x ist der neue Koeffizient für a\n",
    "    y = x1                  # y ist der neue Koeffizient für b\n",
    "    \n",
    "    return gcd, x, y\n",
    "\n",
    "def decryptor(a: int, b: int) -> int:\n",
    "    \"\"\"\n",
    "    Berechnet das multiplikative Inverse von b modulo a mittels des erweiterten euklidischen Algorithmus.\n",
    "    \n",
    "    Diese Funktion wird in der RSA-Kryptographie verwendet, um den privaten Schlüssel d\n",
    "    aus dem öffentlichen Exponenten e zu berechnen, sodass: d*e ≡ 1 (mod φ(n))\n",
    "    \n",
    "    Args:\n",
    "        a (int): Der Modulus (in RSA: φ(n) = (p-1)(q-1))\n",
    "        b (int): Die Zahl, deren multiplikatives Inverses gesucht wird (in RSA: der öffentliche Exponent e)\n",
    "        \n",
    "    Returns:\n",
    "        int: Das positive multiplikative Inverse von b modulo a\n",
    "             (in RSA: der private Exponent d)\n",
    "        \n",
    "    Example:\n",
    "        >>> decryptor(1440, 17)\n",
    "        593  # bedeutet: 17 * 593 ≡ 1 (mod 1440)\n",
    "    \"\"\"\n",
    "    # Berechne die Koeffizienten mit dem erweiterten euklidischen Algorithmus\n",
    "    # Der Koeffizient y ist das gesuchte multiplikative Inverse\n",
    "    gcd, x, y = erweiterter_euklid(a, b)\n",
    "    \n",
    "    # Falls das berechnete Inverse negativ ist, addiere den Modulus\n",
    "    # Dies garantiert ein positives Ergebnis im Bereich [0, a-1]\n",
    "    if y < 0:\n",
    "        return y + a\n",
    "    else:\n",
    "        return y"
   ]
  },
  {
   "cell_type": "markdown",
   "metadata": {},
   "source": [
    "## Aufgabe 2"
   ]
  },
  {
   "cell_type": "markdown",
   "metadata": {},
   "source": [
    "Codieren Sie einen einfachen Drei-Wort-Satz (z.B. \"Die Katze schläft\") mit Hilfe\n",
    "der ASCII- bzw. Unicode-Tabelle. Sie können dabezi entweder die Unicode-Tabelle\n",
    "zu Hilfe nehmen oder die Python Funktion `ord()` verwenden.  \n",
    "Achten Sie darauf, dass Sie bei Buchstaben mit eienem zweistelligen ASCII-Wert\n",
    "eine führende Null voranstellen."
   ]
  },
  {
   "cell_type": "markdown",
   "metadata": {},
   "source": [
    "### Semi-manuelle Lösung"
   ]
  },
  {
   "cell_type": "code",
   "execution_count": 2,
   "metadata": {
    "tags": [
     "hide-cell"
    ]
   },
   "outputs": [
    {
     "name": "stdout",
     "output_type": "stream",
     "text": [
      "D: 068\n",
      "i: 105\n",
      "e: 101\n",
      "K: 075\n",
      "a: 097\n",
      "t: 116\n",
      "z: 122\n",
      "e: 101\n",
      "s: 115\n",
      "c: 099\n",
      "h: 104\n",
      "l: 108\n",
      "ä: 228\n",
      "f: 102\n",
      "t: 116\n",
      "Punkt: 046\n"
     ]
    }
   ],
   "source": [
    "# Semi-manuelle Lösung\n",
    "\n",
    "print(f'D: {ord(\"D\")}') if ord(\"D\") > 99 else print(f'D: 0{ord(\"D\")}')\n",
    "print(f'i: {ord(\"i\")}') if ord(\"i\") > 99 else print(f'i: 0{ord(\"i\")}')\n",
    "print(f'e: {ord(\"e\")}') if ord(\"e\") > 99 else print(f'e: 0{ord(\"e\")}')\n",
    "print(f'K: {ord(\"K\")}') if ord(\"K\") > 99 else print(f'K: 0{ord(\"K\")}')\n",
    "print(f'a: {ord(\"a\")}') if ord(\"a\") > 99 else print(f'a: 0{ord(\"a\")}')\n",
    "print(f't: {ord(\"t\")}') if ord(\"t\") > 99 else print(f't: 0{ord(\"t\")}')\n",
    "print(f'z: {ord(\"z\")}') if ord(\"z\") > 99 else print(f'z: 0{ord(\"z\")}')\n",
    "print(f'e: {ord(\"e\")}') if ord(\"e\") > 99 else print(f'e: 0{ord(\"e\")}')\n",
    "print(f's: {ord(\"s\")}') if ord(\"s\") > 99 else print(f's: 0{ord(\"s\")}')\n",
    "print(f'c: {ord(\"c\")}') if ord(\"c\") > 99 else print(f'c: 0{ord(\"c\")}')\n",
    "print(f'h: {ord(\"h\")}') if ord(\"h\") > 99 else print(f'h: 0{ord(\"h\")}')\n",
    "print(f'l: {ord(\"l\")}') if ord(\"l\") > 99 else print(f'l: 0{ord(\"l\")}')\n",
    "print(f'ä: {ord(\"ä\")}') if ord(\"ä\") > 99 else print(f'ä: 0{ord(\"ä\")}')\n",
    "print(f'f: {ord(\"f\")}') if ord(\"f\") > 99 else print(f'f: 0{ord(\"f\")}')\n",
    "print(f't: {ord(\"t\")}') if ord(\"t\") > 99 else print(f't: 0{ord(\"t\")}')\n",
    "print(f'Punkt: {ord(\".\")}') if ord(\".\") > 99 else print(f'Punkt: 0{ord(\".\")}')"
   ]
  },
  {
   "cell_type": "markdown",
   "metadata": {},
   "source": [
    "### Lösung mit Hilfe einer Funktion"
   ]
  },
  {
   "cell_type": "code",
   "execution_count": 3,
   "metadata": {
    "tags": [
     "hide-cell"
    ]
   },
   "outputs": [
    {
     "name": "stdout",
     "output_type": "stream",
     "text": [
      "068 105 101 032 075 097 116 122 101 032 115 099 104 108 228 102 116 046\n"
     ]
    }
   ],
   "source": [
    "# Lösung mit Hilfe einer Funktion\n",
    "\n",
    "def text_codierer(text: str) -> str:\n",
    "    \"\"\"\n",
    "    Kodiert einen Text in eine numerische Darstellung.\n",
    "\n",
    "    Diese Funktion wandelt jeden Buchstaben des Eingabetextes in seine ASCII-\n",
    "    numerische Darstellung um. Dabei wird sichergestellt, dass jede Zahl\n",
    "    mindestens zweistellig ist, indem bei Bedarf führende Nullen hinzugefügt\n",
    "    werden. Die resultierende Zahlenfolge wird formatiert, sodass nach jeweils\n",
    "    drei Zeichen ein Leerzeichen und nach jeweils fünfzehn Zeichen ein\n",
    "    Zeilenumbruch eingefügt wird.\n",
    "\n",
    "    Args:\n",
    "        text (str): Der zu kodierende Eingabetext.\n",
    "\n",
    "    Returns:\n",
    "        str: Der kodierte Text als formatierte Zahlenfolge.\n",
    "\n",
    "    Beispiel:\n",
    "        >>> text_codierer(\"Hallo\")\n",
    "        '072 097 108 108 111'\n",
    "        \n",
    "        >>> text_codierer(\"ABC123\")\n",
    "        '065 066 067 049 050 051'\n",
    "\n",
    "    Hinweise:\n",
    "        - Jedes Zeichen wird in seinen ASCII-Wert umgewandelt\n",
    "        - Zahlen unter 100 werden mit einer führenden Null aufgefüllt\n",
    "        - Alle drei Ziffern wird ein Leerzeichen eingefügt\n",
    "        - Alle fünfzehn Ziffern wird ein Zeilenumbruch eingefügt\n",
    "        - Führende und nachfolgende Leerzeichen werden entfernt\n",
    "    \"\"\"\n",
    "    # Initialisiere leeren String für die ASCII-Codes\n",
    "    code = \"\"\n",
    "    \n",
    "    # Wandle jeden Buchstaben in seinen ASCII-Wert um\n",
    "    for char in text:\n",
    "        # Ermittle den ASCII-Wert des aktuellen Zeichens\n",
    "        nr = ord(char)\n",
    "        # Füge eine führende Null hinzu, falls der ASCII-Wert kleiner als 100 ist\n",
    "        if nr <= 99:\n",
    "            code += \"0\"\n",
    "        code += str(nr)\n",
    "    \n",
    "    # Initialisiere leeren String für das formatierte Ergebnis\n",
    "    resultat = \"\"\n",
    "    \n",
    "    # Füge Formatierung (Leerzeichen und Zeilenumbrüche) hinzu\n",
    "    for i in range(1, len(code)+1):\n",
    "        if i % 3 == 0 and i != 0:\n",
    "            # Füge nach jedem dritten Zeichen ein Leerzeichen ein\n",
    "            resultat += code[i-1] + \" \"\n",
    "        elif i % 15 == 0 and i != 0:\n",
    "            # Füge nach jedem fünfzehnten Zeichen einen Zeilenumbruch ein\n",
    "            resultat += code[i-1] + \"\\n\"\n",
    "        else:\n",
    "            # Füge das Zeichen ohne zusätzliche Formatierung hinzu\n",
    "            resultat += code[i-1]\n",
    "    \n",
    "    # Entferne überflüssige Leerzeichen am Anfang und Ende\n",
    "    return resultat.strip()\n",
    "\n",
    "# Beispielaufruf der Funktion\n",
    "text = \"Die Katze schläft.\"\n",
    "print(text_codierer(text))"
   ]
  },
  {
   "cell_type": "markdown",
   "metadata": {},
   "source": [
    "## Aufgabe 3"
   ]
  },
  {
   "cell_type": "markdown",
   "metadata": {},
   "source": [
    "Verschlüsseln Sie den Satz aus Aufgabe 2 mit dem RSA-Algorithmus.\n",
    "Verwenden Sie dazu den öffentlichen Schlüssel aus Aufgabe 1."
   ]
  },
  {
   "cell_type": "markdown",
   "metadata": {},
   "source": [
    "### Semi-manuelle Lösung"
   ]
  },
  {
   "cell_type": "code",
   "execution_count": 4,
   "metadata": {
    "tags": [
     "hide-cell"
    ]
   },
   "outputs": [
    {
     "name": "stdout",
     "output_type": "stream",
     "text": [
      "68 660 714 237 667 637 503 286 714 237 1027 1113 1131 1085 783 115 503 144\n"
     ]
    }
   ],
   "source": [
    "print(pow(68, 17, 1517), end=\" \")\n",
    "print(pow(105, 17, 1517), end=\" \")\n",
    "print(pow(101, 17, 1517), end=\" \")\n",
    "print(pow(32, 17, 1517), end=\" \")\n",
    "print(pow(75, 17, 1517), end=\" \")\n",
    "print(pow(97, 17, 1517), end=\" \")\n",
    "print(pow(116, 17, 1517), end=\" \")\n",
    "print(pow(122, 17, 1517), end=\" \")\n",
    "print(pow(101, 17, 1517), end=\" \")\n",
    "print(pow(32, 17, 1517), end=\" \")\n",
    "print(pow(115, 17, 1517), end=\" \")\n",
    "print(pow(99, 17, 1517), end=\" \")\n",
    "print(pow(104, 17, 1517), end=\" \")\n",
    "print(pow(108, 17, 1517), end=\" \")\n",
    "print(pow(228, 17, 1517), end=\" \")\n",
    "print(pow(102, 17, 1517), end=\" \")\n",
    "print(pow(116, 17, 1517), end=\" \")\n",
    "print(pow(46, 17, 1517))"
   ]
  },
  {
   "cell_type": "markdown",
   "metadata": {},
   "source": [
    "### Lösung mit Hilfe einer Funktion"
   ]
  },
  {
   "cell_type": "code",
   "execution_count": 5,
   "metadata": {
    "tags": [
     "hide-cell"
    ]
   },
   "outputs": [
    {
     "name": "stdout",
     "output_type": "stream",
     "text": [
      "068 660 714 237 667 637 503 286 714 237 1027 1113 1131 1085 783 115 503 144\n"
     ]
    }
   ],
   "source": [
    "def rsa_anwendung(text_codiert: str, e: int, n: int) -> str:\n",
    "    \"\"\"\n",
    "    Wendet die RSA-Verschlüsselung auf einen kodierten Text an.\n",
    "\n",
    "    Diese Funktion führt eine RSA-Verschlüsselung auf einen vorkodierten Text durch,\n",
    "    wobei jede Zahl im Eingabetext mit der RSA-Formel C = M^e mod n verschlüsselt wird.\n",
    "    Die Funktion stellt sicher, dass alle ausgegebenen Zahlen mindestens zweistellig sind,\n",
    "    indem bei Bedarf führende Nullen hinzugefügt werden.\n",
    "\n",
    "    Args:\n",
    "        text_codiert (str): Der zu verschlüsselnde Text in kodierter Form.\n",
    "                           Format: Zahlen durch Leerzeichen getrennt (z.B. \"065 066 067\")\n",
    "        e (int): Der öffentliche RSA-Exponent (public key component).\n",
    "                Typischerweise eine kleine Primzahl wie 3 oder 65537.\n",
    "        n (int): Der RSA-Modulus (public key component).\n",
    "                Das Produkt zweier großer Primzahlen p und q.\n",
    "\n",
    "    Returns:\n",
    "        str: Der verschlüsselte Text als Folge von Zahlen,\n",
    "             durch Leerzeichen getrennt.\n",
    "\n",
    "    Beispiel:\n",
    "        >>> rsa_anwendung(\"065 066\", 17, 3233)\n",
    "        '2790 2831'\n",
    "\n",
    "    Hinweise:\n",
    "        - Die Funktion verwendet die RSA-Verschlüsselungsformel C = M^e mod n\n",
    "        - Jede Eingabezahl wird als separater Block verschlüsselt\n",
    "        - Zahlen unter 100 werden mit einer führenden Null ausgegeben\n",
    "        - Der Parameter e muss teilerfremd zu (p-1)(q-1) sein\n",
    "        - Der Parameter n sollte ausreichend groß sein für sichere Verschlüsselung\n",
    "    \"\"\"\n",
    "    # Liste für die verschlüsselten Werte (Chiffretexte)\n",
    "    chiffres = []\n",
    "    \n",
    "    # Zerlege den Eingabetext in einzelne Zahlen-Strings\n",
    "    triples = text_codiert.split(\" \")\n",
    "    \n",
    "    # Verarbeite jede Zahl einzeln\n",
    "    for triple in triples:\n",
    "        # Konvertiere den Zahlen-String in einen Integer für die RSA-Berechnung\n",
    "        t = int(triple)\n",
    "        \n",
    "        # Führe die RSA-Verschlüsselung durch: c = t^e mod n\n",
    "        # Verwendet pow() für effiziente modulare Exponentiation\n",
    "        c = pow(t, e, n)\n",
    "        \n",
    "        # Stelle sicher, dass jede verschlüsselte Zahl drei Stellen hat\n",
    "        if c < 100:\n",
    "            chiffres.append(\"0\" + str(c))  # Füge führende Null hinzu\n",
    "        else:\n",
    "            chiffres.append(str(c))\n",
    "    \n",
    "    # Verbinde alle verschlüsselten Zahlen mit Leerzeichen zu einem String\n",
    "    return \" \".join(chiffres)\n",
    "\n",
    "code = \"068 105 101 032 075 097 116 122 101 032 115 099 104 108 228 102 116 046\"\n",
    "chiffrat = rsa_anwendung(code, 17, 1517)\n",
    "print(chiffrat)  "
   ]
  },
  {
   "cell_type": "markdown",
   "metadata": {},
   "source": [
    "## Aufgabe 4"
   ]
  },
  {
   "cell_type": "markdown",
   "metadata": {},
   "source": [
    "Testen Sie Ihr Ergebnis, indem Sie den verschlüsselten Text mit dem privaten Schlüssel\n",
    "aus Aufgabe 1 entschlüsseln."
   ]
  },
  {
   "cell_type": "markdown",
   "metadata": {},
   "source": [
    "### Semi-manuelle Lösung"
   ]
  },
  {
   "cell_type": "code",
   "execution_count": 6,
   "metadata": {
    "tags": [
     "hide-cell"
    ]
   },
   "outputs": [
    {
     "name": "stdout",
     "output_type": "stream",
     "text": [
      "068: 68 -> D\n",
      "660: 105 -> i\n",
      "714: 101 -> e\n",
      "237: 32 ->  \n",
      "667: 75 -> K\n",
      "637: 97 -> a\n",
      "503: 116 -> t\n",
      "286: 122 -> z\n",
      "714: 101 -> e\n",
      "237: 32 ->  \n",
      "1027: 115 -> s\n",
      "1113: 99 -> c\n",
      "1113: 99 -> c\n",
      "1085: 108 -> l\n",
      "783: 228 -> ä\n",
      "115: 102 -> f\n",
      "503: 116 -> t\n",
      "144: 46 -> .\n"
     ]
    }
   ],
   "source": [
    "print(f'068: {pow(68, 593, 1517)} -> {chr(pow(68, 593, 1517))}')\n",
    "print(f'660: {pow(660, 593, 1517)} -> {chr(pow(660, 593, 1517))}')\n",
    "print(f'714: {pow(714, 593, 1517)} -> {chr(pow(714, 593, 1517))}')\n",
    "print(f'237: {pow(237, 593, 1517)} -> {chr(pow(237, 593, 1517))}')\n",
    "print(f'667: {pow(667, 593, 1517)} -> {chr(pow(667, 593, 1517))}')\n",
    "print(f'637: {pow(637, 593, 1517)} -> {chr(pow(637, 593, 1517))}')\n",
    "print(f'503: {pow(503, 593, 1517)} -> {chr(pow(503, 593, 1517))}')\n",
    "print(f'286: {pow(286, 593, 1517)} -> {chr(pow(286, 593, 1517))}')\n",
    "print(f'714: {pow(714, 593, 1517)} -> {chr(pow(714, 593, 1517))}')\n",
    "print(f'237: {pow(237, 593, 1517)} -> {chr(pow(237, 593, 1517))}')\n",
    "print(f'1027: {pow(1027, 593, 1517)} -> {chr(pow(1027, 593, 1517))}')\n",
    "print(f'1113: {pow(1113, 593, 1517)} -> {chr(pow(1113, 593, 1517))}')\n",
    "print(f'1113: {pow(1113, 593, 1517)} -> {chr(pow(1113, 593, 1517))}')\n",
    "print(f'1085: {pow(1085, 593, 1517)} -> {chr(pow(1085, 593, 1517))}')\n",
    "print(f'783: {pow(783, 593, 1517)} -> {chr(pow(783, 593, 1517))}')\n",
    "print(f'115: {pow(115, 593, 1517)} -> {chr(pow(115, 593, 1517))}')\n",
    "print(f'503: {pow(503, 593, 1517)} -> {chr(pow(503, 593, 1517))}')\n",
    "print(f'144: {pow(144, 593, 1517)} -> {chr(pow(144, 593, 1517))}')"
   ]
  },
  {
   "cell_type": "markdown",
   "metadata": {},
   "source": [
    "### Lösung mit Hilfe einer Funktion"
   ]
  },
  {
   "cell_type": "code",
   "execution_count": 7,
   "metadata": {
    "tags": [
     "hide-cell"
    ]
   },
   "outputs": [
    {
     "name": "stdout",
     "output_type": "stream",
     "text": [
      "068 105 101 032 075 097 116 122 101 032 115 099 104 108 228 102 116 046\n"
     ]
    }
   ],
   "source": [
    "chiffrat ='068 660 714 237 667 637 503 286 714 237 1027 1113 1131 1085 783 115 503 144'\n",
    "\n",
    "text = rsa_anwendung(chiffrat, 593, 1517)\n",
    "print(text)\n"
   ]
  }
 ],
 "metadata": {
  "kernelspec": {
   "display_name": ".venv",
   "language": "python",
   "name": "python3"
  },
  "language_info": {
   "codemirror_mode": {
    "name": "ipython",
    "version": 3
   },
   "file_extension": ".py",
   "mimetype": "text/x-python",
   "name": "python",
   "nbconvert_exporter": "python",
   "pygments_lexer": "ipython3",
   "version": "3.13.1"
  }
 },
 "nbformat": 4,
 "nbformat_minor": 2
}