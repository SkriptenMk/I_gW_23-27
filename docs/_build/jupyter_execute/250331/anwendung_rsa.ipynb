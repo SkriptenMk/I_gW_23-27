{
 "cells": [
  {
   "cell_type": "markdown",
   "metadata": {},
   "source": [
    "# Anwendungsübungen zum RSA Algorithmus"
   ]
  },
  {
   "cell_type": "markdown",
   "metadata": {},
   "source": [
    "Erstellen Sie ein Schlüsselpaar für die Verschlüsselung mit RSA, mit dem Sie\n",
    "dreistellige Zahlen verschlüsseln können."
   ]
  },
  {
   "cell_type": "markdown",
   "metadata": {},
   "source": [
    "```{admonition} Mögliche Lösung\n",
    ":class: tip, dropdown\n",
    "Damit eine dreistellige Zahl verschlüsselt werden kann, muss das RSA-Modul\n",
    "grösser als 1'000 sein. Es müssen also zwei Primzahlen $p$ und $q$ gefunden\n",
    "werden, die etwas grösser als $\\sqrt{1000}$ sind. Eine Hilfe für das Finden von\n",
    "Primzahlen ist zum Beispiel die Seite\n",
    "\"[Die\n",
    "Primzahlenseite](https://www.arndt-bruenner.de/mathe/scripts/primzahlen.htm)\".\n",
    "\n",
    "Für das Beispiel werden die Primzahlen $p = 37$ und $q = 41$ gewählt. Das RSA-Modul\n",
    "ist dann $n = p \\cdot q = 37 \\cdot 41 = 1517$.  \n",
    "Für die Verschlüsselung wird der öffentliche Exponent $e = 17$ gewählt.\n",
    "\n",
    "Für die Berechnung des privaten Exponenten $d$ wird der erweiterte Euklidsche\n",
    "Algorithmus verwendet. Dazu wird in einer ersten Phase der $ggT((p-1) \\cdot\n",
    "(q-1), e)$ berechnet. In einer zweiten Phase wird $s$ aus der Gleichung $ggT((p-1) \\cdot\n",
    "(q-1), e) = p \\cdot (p-1) \\cdot (q-1) + s \\cdot e$ als $d$ berechnet.\n",
    "\n",
    "Phase 1:\n",
    "\n",
    "$$\n",
    "\\begin{aligned}\n",
    "a&=q \\cdot b + r\\\\\n",
    "1440&=84 \\cdot 17 + 12\\\\\n",
    "17&=1 \\cdot 12 + 5\\\\\n",
    "12&=2 \\cdot 2 + 1\\\\\n",
    "2&=2 \\cdot 1 + 0\\\\\n",
    "\\end{aligned}\n",
    "$$\n",
    "\n",
    "Phase 2:\n",
    "\n",
    "$$\n",
    "\\begin{alignat*}{3}\n",
    "&S_0 &&= 0&&\\\\\n",
    "&S_1 &&= 1&&\\\\\n",
    "&S_2 &&= S_0 - q_1 \\cdot S_1 = 0 - 84 \\cdot 1 &&= -84\\\\\n",
    "&S_3 &&= S_1 - q_2 \\cdot S_2 = 1 - 1 \\cdot (-84) &&= 85\\\\\n",
    "&S_4 &&= S_2 - q_3 \\cdot S_3 = -84 - 2 \\cdot 85 &&= -254\\\\\n",
    "&S_5 &&= S_3 - q_4 \\cdot S_4 = 85 - 2 \\cdot (-254) &&= 593\\\\\n",
    "\\end{alignat*}\n",
    "$$\n",
    "\n",
    "Der private Exponent ist $d = 593$.\n",
    "```"
   ]
  },
  {
   "cell_type": "code",
   "execution_count": 1,
   "metadata": {},
   "outputs": [],
   "source": [
    "def erweiterter_euklid(a, b):\n",
    "    # Basisfall: wenn a = 0\n",
    "    if a == 0:\n",
    "        return b, 0, 1\n",
    "    \n",
    "    # Rekursiver Aufruf\n",
    "    gcd, x1, y1 = erweiterter_euklid(b % a, a)\n",
    "    \n",
    "    # Berechnung der Koeffizienten x und y\n",
    "    x = y1 - (b // a) * x1\n",
    "    y = x1\n",
    "    \n",
    "    return gcd, x, y"
   ]
  },
  {
   "cell_type": "code",
   "execution_count": 2,
   "metadata": {},
   "outputs": [],
   "source": [
    "def decryptor(a: int, b: int) -> int:\n",
    "    gcd, x, y = erweiterter_euklid(a, b)\n",
    "    if y < 0:\n",
    "        return y + a\n",
    "    else:\n",
    "        return y"
   ]
  },
  {
   "cell_type": "code",
   "execution_count": 3,
   "metadata": {},
   "outputs": [
    {
     "data": {
      "text/plain": [
       "593"
      ]
     },
     "execution_count": 3,
     "metadata": {},
     "output_type": "execute_result"
    }
   ],
   "source": [
    "decryptor((36*40), 17)"
   ]
  },
  {
   "cell_type": "code",
   "execution_count": null,
   "metadata": {},
   "outputs": [],
   "source": []
  }
 ],
 "metadata": {
  "kernelspec": {
   "display_name": ".venv",
   "language": "python",
   "name": "python3"
  },
  "language_info": {
   "codemirror_mode": {
    "name": "ipython",
    "version": 3
   },
   "file_extension": ".py",
   "mimetype": "text/x-python",
   "name": "python",
   "nbconvert_exporter": "python",
   "pygments_lexer": "ipython3",
   "version": "3.13.1"
  }
 },
 "nbformat": 4,
 "nbformat_minor": 2
}